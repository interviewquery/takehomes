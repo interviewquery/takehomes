{
 "cells": [
  {
   "cell_type": "markdown",
   "id": "10a827de",
   "metadata": {},
   "source": [
    "![Relax](logo.png)\n",
    "\n",
    "The data is available as two attached CSV files:\n",
    "```\n",
    "takehome_user_engagement.csv \n",
    "takehome_users.csv\n",
    "```\n",
    "The data has the following two tables:\n",
    "\n",
    "1.  A user table ( `takehome_users.csv`) with data on 12,000 users who\n",
    "    signed up for the product in the last two years. This table\n",
    "    includes:\n",
    "\n",
    "    -   `name`: the user's name\n",
    "\n",
    "    -   `object_id`: the user's id\n",
    "\n",
    "    -   `email`: email address\n",
    "\n",
    "    -   `creation_source`: how their account was created. This takes\n",
    "        on one of 5 values:\n",
    "        - `PERSONAL_PROJECTS`: invited to join another user's personal workspace\n",
    "        - `GUEST_INVITE`: invited to an organization as a guest (limited permissions)\n",
    "        - `ORG_INVITE`: invited to an organization (as a full member)\n",
    "        - `SIGNUP`: signed up via the website\n",
    "        - `SIGNUP_GOOGLE_AUTH`: signed up using Google Authentication (using a Google email account for their login id)\n",
    "\n",
    "-   `creation_time`: when they created their account\n",
    "\n",
    "-   `last_session_creation_time`: unix timestamp of last login\n",
    "\n",
    "-   `opted_in_to_mailing_list`: whether they have opted into receiving\n",
    "    marketing emails\n",
    "\n",
    "-   `enabled_for_marketing_drip`: whether they are on the regular\n",
    "    marketing email drip\n",
    "\n",
    "-   `org_id`: the organization (group of users) they belong to\n",
    "\n",
    "-   `invited_by_user_id`: which user invited them to join (if\n",
    "    applicable).\n",
    "\n",
    "2.  A usage summary table ( `takehome_user_engagement.csv` ) that has a\n",
    "    row for each day that a user logged into the product.\n",
    "\n",
    "Defining an _\"adopted user\"_ as a user who *has logged into the\n",
    "product on three separate days in at least one seven-­day period*,\n",
    "**identify which factors predict future user adoption**.\n",
    "\n",
    "We suggest spending 1­2 hours on this, but you're welcome to spend more\n",
    "or less.\n",
    "\n"
   ]
  },
  {
   "cell_type": "code",
   "execution_count": null,
   "id": "7bda804f",
   "metadata": {},
   "outputs": [],
   "source": [
    "# Write your code here"
   ]
  }
 ],
 "metadata": {
  "kernelspec": {
   "display_name": "Python 3 (ipykernel)",
   "language": "python",
   "name": "python3"
  },
  "language_info": {
   "codemirror_mode": {
    "name": "ipython",
    "version": 3
   },
   "file_extension": ".py",
   "mimetype": "text/x-python",
   "name": "python",
   "nbconvert_exporter": "python",
   "pygments_lexer": "ipython3",
   "version": "3.10.5"
  }
 },
 "nbformat": 4,
 "nbformat_minor": 5
}
