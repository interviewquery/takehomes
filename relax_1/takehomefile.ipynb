  {
   "cell_type": "code",
   "execution_count": null,
   "id": "b1cf3a13",
   "metadata": {},
   "outputs": [],
   "source": [
    "!git clone --branch relax_1 https://github.com/interviewquery/takehomes.git\n",
    "%cd takehomes/relax_1\n",
    "!ls"
   ]
  },
