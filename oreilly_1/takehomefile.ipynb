{
 "cells": [
  {
   "cell_type": "markdown",
   "id": "05237a77",
   "metadata": {},
   "source": [
    "![O'reilly](logo.png)\n",
    "\n",
    "# Interview Take Home Project for the O'Reilly Personalization Team\n",
    "\n",
    "For this project you will analyze part of a public \"click through\"\n",
    "dataset and build a model that predicts the probability that an ad will\n",
    "be clicked.\n",
    "\n",
    "# The data\n",
    "\n",
    "\n",
    "The data is contained in two files:\n",
    "```\n",
    "training.csv\n",
    "testing.csv\n",
    "```\n",
    "\n",
    "\n",
    "## Data Fields\n",
    "\n",
    "```\n",
    "id -- ad identifier\n",
    "click -- 0/1 for non-click/click\n",
    "hour -- format is YYMMDDHH, so 14091123 means 23:00 on Sept. 11, 2014 UTC.\n",
    "C1 -- anonymized categorical variable\n",
    "banner_pos\n",
    "site_id\n",
    "site_domain\n",
    "site_category\n",
    "app_id\n",
    "app_domain\n",
    "app_category\n",
    "device_id\n",
    "device_ip\n",
    "device_model\n",
    "device_type\n",
    "device_conn_type\n",
    "C14-C21 -- anonymized categorical variables\n",
    "```\n",
    "\n",
    "## File Descriptions\n",
    "\n",
    "`training.csv` contains roughly 10 days worth of click data that has\n",
    "been downsampled from the original data file, all data is ordered chronologically. The first line\n",
    "in this file is the column headers.\n",
    "\n",
    "`testing.csv` contains click data that you will make predictions against\n",
    "when you submit your project. All of the events it this dataset are\n",
    "ordered chronologically and occur after the events in `training.csv` .\n",
    "This file does not include column headers, but the data is in the same\n",
    "order as in `training.csv` except for the fact that column 2 is\n",
    "excluded from the data set.\n",
    "\n",
    "# What you need to do\n",
    "\n",
    "You need to analyze the dataset and develop a strategy for optimally\n",
    "predicting the probability a click will occur in the future. You should\n",
    "then train a model to predict the probability of click occurring based on\n",
    "the data in the dataset `testing.csv` . The output from this prediction\n",
    "should be a number between `0` and `1`. This project should take you\n",
    "approximately 3 hours to complete. (Don't choose a compute intensive ml\n",
    "algorithm when training your model. We mostly care about your thought\n",
    "process when working on the problem. Don't be too concerned with\n",
    "squeezing every little bit out of your model.)\n"
   ]
  },
  {
   "cell_type": "code",
   "execution_count": null,
   "id": "a7abf386",
   "metadata": {},
   "outputs": [],
   "source": [
    "# Write your code here"
   ]
  }
 ],
 "metadata": {
  "kernelspec": {
   "display_name": "Python 3 (ipykernel)",
   "language": "python",
   "name": "python3"
  },
  "language_info": {
   "codemirror_mode": {
    "name": "ipython",
    "version": 3
   },
   "file_extension": ".py",
   "mimetype": "text/x-python",
   "name": "python",
   "nbconvert_exporter": "python",
   "pygments_lexer": "ipython3",
   "version": "3.10.5"
  }
 },
 "nbformat": 4,
 "nbformat_minor": 5
}
