{
 "cells": [
  {
   "cell_type": "markdown",
   "metadata": {},
   "source": [
    "![Skilledup](logo.png)\n",
    "For this exercise, you will analyze a dataset from Amazon. The data\n",
    "format and a sample entry are shown on the next page.\n",
    "\n",
    "# A. (Suggested duration: 90 mins) \n",
    "\n",
    "With the given `data.txt` file for 50000 products, perform exploratory analysis\n",
    "and make suggestions for further analysis on the following aspects.\n",
    "\n",
    "## 1. Trustworthiness of Ratings \n",
    "\n",
    "Ratings are susceptible to manipulation, bias etc. What can you say\n",
    "(quantitatively speaking) about the ratings in this dataset?\n",
    "\n",
    "## 2. Category Bloat \n",
    "\n",
    "Consider the product group named `'Books'`. Each product in this group\n",
    "is associated with categories. Naturally, with categorization, there are\n",
    "tradeoffs between how broad or specific the categories must be.\n",
    "\n",
    "For this dataset, quantify the following:\n",
    "\n",
    "1.  Is there redundancy in the categorization? How can it be\n",
    "    identified/removed?\n",
    "\n",
    "2.  Is is possible to reduce the number of categories drastically (say\n",
    "    to 10% of existing categories) by sacrificing relatively few\n",
    "    category entries (say close to 10%)?\n",
    "\n",
    "# B. (Suggested duration: 30 mins)\n",
    "\n",
    "Give the number crunching a rest! Just think about these problems.\n",
    "\n",
    "## 1. Algorithm Thinking \n",
    "\n",
    "How would build the product categorization from scratch, using\n",
    "similar/co-purchased information?\n",
    "\n",
    "## 2. Product Thinking \n",
    "\n",
    "Now, put on your 'product thinking' hat.\n",
    "\n",
    "1.  Is it a good idea to show users the categorization hierarchy for\n",
    "    items?\n",
    "\n",
    "2.  Is it a good idea to show users similar/co-purchased items?\n",
    "\n",
    "3.  Is it a good idea to show users reviews and ratings for items?\n",
    "\n",
    "4.  For each of the above, why? How will you establish the same?\n",
    "\n",
    "# Data Entry Format\n",
    "\n",
    "-   `Id`: Product id (number 0, ..., 50000)\n",
    "\n",
    "-   `ASIN`: Amazon Standard Identification Number\n",
    "\n",
    "-   `title`: Name/title of the product\n",
    "\n",
    "-   `group`: Product group (Book, DVD, Video or Music)\n",
    "\n",
    "-  `salesrank`: Amazon Salesrank \n",
    "\n",
    "-   `similar`: ASINs of co-purchased products (people who buy X also\n",
    "    buy Y)\n",
    "\n",
    "-   `categories`: Location in product category hierarchy to which the\n",
    "    product belongs (separated by |, category id in [])\n",
    "\n",
    "-   `reviews`: Product review information: time, user id, rating,\n",
    "    total number of votes on the review, total number of helpfulness\n",
    "    votes (how many people found the review to be helpful)\n",
    "\n",
    "## Sample Data Entry\n",
    "```\n",
    "Id:   15\n",
    "ASIN: 1559362022\n",
    "  title: Wake Up and Smell the Coffee\n",
    "  group: Book\n",
    "  salesrank: 518927\n",
    "  similar: 5  1559360968  1559361247  1559360828  1559361018  0743214552\n",
    "  categories: 3\n",
    "   |Books[283155]|Subjects[1000]|Literature & Fiction[17]|Drama[2159]|United States[2160]\n",
    "   |Books[283155]|Subjects[1000]|Arts & Photography[1]|Performing Arts[521000]|Theater[2154]|General[2218]\n",
    "   |Books[283155]|Subjects[1000]|Literature & Fiction[17]|Authors, A-Z[70021]|( B )[70023]|Bogosian, Eric[70116]\n",
    "  reviews: total: 8  downloaded: 8  avg rating: 4\n",
    "    2002-5-13  cutomer: A2IGOA66Y6O8TQ  rating: 5  votes:   3  helpful:   2\n",
    "    2002-6-17  cutomer: A2OIN4AUH84KNE  rating: 5  votes:   2  helpful:   1\n",
    "    2003-1-2  cutomer: A2HN382JNT1CIU  rating: 1  votes:   6  helpful:   1\n",
    "    2003-6-7  cutomer: A2FDJ79LDU4O18  rating: 4  votes:   1  helpful:   1\n",
    "    2003-6-27  cutomer: A39QMV9ZKRJXO5  rating: 4  votes:   1  helpful:   1\n",
    "    2004-2-17  cutomer:  AUUVMSTQ1TXDI  rating: 1  votes:   2  helpful:   0\n",
    "    2004-2-24  cutomer: A2C5K0QTLL9UAT  rating: 5  votes:   2  helpful:   2\n",
    "    2004-10-13  cutomer:  A5XYF0Z3UH4HB  rating: 5  votes:   1  helpful:   1\n",
    "```\n",
    "Data source:\n",
    "[http://snap.stanford.edu/data/amazon-meta.html](http://snap.stanford.edu/data/amazon-meta.html])\n"
   ]
  },
  {
   "cell_type": "code",
   "execution_count": 1,
   "metadata": {},
   "outputs": [],
   "source": [
    "import pandas as pd\n",
    "import numpy as np\n",
    "import matplotlib.pyplot as plt\n",
    "import seaborn as sns"
   ]
  },
  {
   "cell_type": "code",
   "execution_count": 2,
   "metadata": {},
   "outputs": [],
   "source": [
    "master_list=[]\n",
    "values = []\n",
    "key= 'Header'\n",
    "with open('data.txt', encoding=\"utf8\") as fp:\n",
    "    for line in fp:\n",
    "        if \"Id:\" in line:\n",
    "            master_list.append([key,values])\n",
    "            key = line.rstrip('\\n')[line.find(':')+1:]\n",
    "            values =[]\n",
    "        else:\n",
    "            values.append(line.rstrip('\\n'))\n",
    "master_list.append([key,values])"
   ]
  },
  {
   "cell_type": "code",
   "execution_count": 3,
   "metadata": {},
   "outputs": [],
   "source": [
    "df=pd.DataFrame(master_list[1:])"
   ]
  },
  {
   "cell_type": "code",
   "execution_count": 4,
   "metadata": {},
   "outputs": [],
   "source": [
    "df.columns = ['Id','txt']"
   ]
  },
  {
   "cell_type": "code",
   "execution_count": 5,
   "metadata": {},
   "outputs": [],
   "source": [
    "def split_parts(text):\n",
    "    review_dict={}\n",
    "    i=0\n",
    "    while i<len(text):\n",
    "        line=text[i]\n",
    "        i=i+1\n",
    "        if line.find('Id:')>=0:\n",
    "            review_dict['Id']=line[line.find(':')+1:]\n",
    "        if line.find('ASIN:')==0:\n",
    "            review_dict['ASIN']=line[line.find(':')+1:]\n",
    "        if line.find('group:')>=0:\n",
    "            review_dict['group']=line[line.find(':')+1:]\n",
    "        if line.find('salesrank:')>=0:\n",
    "            review_dict['salesrank']=line[line.find(':')+1:]\n",
    "        if line.find('title:')>=0:\n",
    "            review_dict['title']=line[line.find(':')+1:]\n",
    "        if line.find('categories:')>=0:\n",
    "            all_cat=[]\n",
    "            catExists=True\n",
    "            while ((i<len(text)) & (catExists)):\n",
    "                line=text[i]\n",
    "                if line.find('reviews:')>0:\n",
    "                    catExists=False\n",
    "                else:\n",
    "                    all_cat.append(line)\n",
    "                i=i+1\n",
    "            review_dict['categories']=all_cat\n",
    "        if line.find('reviews:')>0:\n",
    "            review_dict['total_reviews']=line[line.find('total:')+6:line.find('downloaded:')]\n",
    "            review_dict['downloads']=line[line.find('ded:')+4:line.find('avg ra')]\n",
    "            review_dict['avg_rating']=line[line.find('ting:')+5:]\n",
    "            all_reviews=[]\n",
    "            while i<len(text):\n",
    "                line=text[i]\n",
    "                all_reviews.append(line)\n",
    "                i=i+1\n",
    "            review_dict['reviews']=all_reviews\n",
    "    return review_dict"
   ]
  },
  {
   "cell_type": "code",
   "execution_count": 6,
   "metadata": {},
   "outputs": [
    {
     "data": {
      "text/html": [
       "<div>\n",
       "<style scoped>\n",
       "    .dataframe tbody tr th:only-of-type {\n",
       "        vertical-align: middle;\n",
       "    }\n",
       "\n",
       "    .dataframe tbody tr th {\n",
       "        vertical-align: top;\n",
       "    }\n",
       "\n",
       "    .dataframe thead th {\n",
       "        text-align: right;\n",
       "    }\n",
       "</style>\n",
       "<table border=\"1\" class=\"dataframe\">\n",
       "  <thead>\n",
       "    <tr style=\"text-align: right;\">\n",
       "      <th></th>\n",
       "      <th>ASIN</th>\n",
       "      <th>title</th>\n",
       "      <th>group</th>\n",
       "      <th>salesrank</th>\n",
       "      <th>categories</th>\n",
       "      <th>total_reviews</th>\n",
       "      <th>downloads</th>\n",
       "      <th>avg_rating</th>\n",
       "      <th>reviews</th>\n",
       "    </tr>\n",
       "  </thead>\n",
       "  <tbody>\n",
       "    <tr>\n",
       "      <th>2</th>\n",
       "      <td>0738700797</td>\n",
       "      <td>Candlemas: Feast of Flames</td>\n",
       "      <td>Book</td>\n",
       "      <td>168596</td>\n",
       "      <td>[   |Books[283155]|Subjects[1000]|Religion &amp; S...</td>\n",
       "      <td>12</td>\n",
       "      <td>12</td>\n",
       "      <td>4.5</td>\n",
       "      <td>[    2001-12-16  cutomer: A11NCO6YTE4BTJ  rati...</td>\n",
       "    </tr>\n",
       "    <tr>\n",
       "      <th>3</th>\n",
       "      <td>0486287785</td>\n",
       "      <td>World War II Allied Fighter Planes Trading Cards</td>\n",
       "      <td>Book</td>\n",
       "      <td>1270652</td>\n",
       "      <td>[   |Books[283155]|Subjects[1000]|Home &amp; Garde...</td>\n",
       "      <td>1</td>\n",
       "      <td>1</td>\n",
       "      <td>5</td>\n",
       "      <td>[    2003-7-10  cutomer: A3IDGASRQAW8B2  ratin...</td>\n",
       "    </tr>\n",
       "    <tr>\n",
       "      <th>4</th>\n",
       "      <td>0842328327</td>\n",
       "      <td>Life Application Bible Commentary: 1 and 2 Ti...</td>\n",
       "      <td>Book</td>\n",
       "      <td>631289</td>\n",
       "      <td>[   |Books[283155]|Subjects[1000]|Religion &amp; S...</td>\n",
       "      <td>1</td>\n",
       "      <td>1</td>\n",
       "      <td>4</td>\n",
       "      <td>[    2004-8-19  cutomer: A2591BUPXCS705  ratin...</td>\n",
       "    </tr>\n",
       "    <tr>\n",
       "      <th>5</th>\n",
       "      <td>1577943082</td>\n",
       "      <td>Prayers That Avail Much for Business: Executive</td>\n",
       "      <td>Book</td>\n",
       "      <td>455160</td>\n",
       "      <td>[   |Books[283155]|Subjects[1000]|Religion &amp; S...</td>\n",
       "      <td>0</td>\n",
       "      <td>0</td>\n",
       "      <td>0</td>\n",
       "      <td>[]</td>\n",
       "    </tr>\n",
       "    <tr>\n",
       "      <th>6</th>\n",
       "      <td>0486220125</td>\n",
       "      <td>How the Other Half Lives: Studies Among the T...</td>\n",
       "      <td>Book</td>\n",
       "      <td>188784</td>\n",
       "      <td>[   |Books[283155]|Subjects[1000]|Arts &amp; Photo...</td>\n",
       "      <td>17</td>\n",
       "      <td>17</td>\n",
       "      <td>4</td>\n",
       "      <td>[    1997-7-4  cutomer:  ATVPDKIKX0DER  rating...</td>\n",
       "    </tr>\n",
       "  </tbody>\n",
       "</table>\n",
       "</div>"
      ],
      "text/plain": [
       "          ASIN                                              title  group  \\\n",
       "2   0738700797                         Candlemas: Feast of Flames   Book   \n",
       "3   0486287785   World War II Allied Fighter Planes Trading Cards   Book   \n",
       "4   0842328327   Life Application Bible Commentary: 1 and 2 Ti...   Book   \n",
       "5   1577943082    Prayers That Avail Much for Business: Executive   Book   \n",
       "6   0486220125   How the Other Half Lives: Studies Among the T...   Book   \n",
       "\n",
       "  salesrank                                         categories total_reviews  \\\n",
       "2    168596  [   |Books[283155]|Subjects[1000]|Religion & S...          12     \n",
       "3   1270652  [   |Books[283155]|Subjects[1000]|Home & Garde...           1     \n",
       "4    631289  [   |Books[283155]|Subjects[1000]|Religion & S...           1     \n",
       "5    455160  [   |Books[283155]|Subjects[1000]|Religion & S...           0     \n",
       "6    188784  [   |Books[283155]|Subjects[1000]|Arts & Photo...          17     \n",
       "\n",
       "  downloads avg_rating                                            reviews  \n",
       "2      12          4.5  [    2001-12-16  cutomer: A11NCO6YTE4BTJ  rati...  \n",
       "3       1            5  [    2003-7-10  cutomer: A3IDGASRQAW8B2  ratin...  \n",
       "4       1            4  [    2004-8-19  cutomer: A2591BUPXCS705  ratin...  \n",
       "5       0            0                                                 []  \n",
       "6      17            4  [    1997-7-4  cutomer:  ATVPDKIKX0DER  rating...  "
      ]
     },
     "execution_count": 6,
     "metadata": {},
     "output_type": "execute_result"
    }
   ],
   "source": [
    "df.iloc[2:7]['txt'].map(lambda x:split_parts(x)).apply(pd.Series)"
   ]
  },
  {
   "cell_type": "code",
   "execution_count": 7,
   "metadata": {
    "scrolled": false
   },
   "outputs": [],
   "source": [
    "df_reviews=df['txt'].map(lambda x:split_parts(x)).apply(pd.Series)"
   ]
  },
  {
   "cell_type": "code",
   "execution_count": 8,
   "metadata": {},
   "outputs": [
    {
     "data": {
      "text/html": [
       "<div>\n",
       "<style scoped>\n",
       "    .dataframe tbody tr th:only-of-type {\n",
       "        vertical-align: middle;\n",
       "    }\n",
       "\n",
       "    .dataframe tbody tr th {\n",
       "        vertical-align: top;\n",
       "    }\n",
       "\n",
       "    .dataframe thead th {\n",
       "        text-align: right;\n",
       "    }\n",
       "</style>\n",
       "<table border=\"1\" class=\"dataframe\">\n",
       "  <thead>\n",
       "    <tr style=\"text-align: right;\">\n",
       "      <th></th>\n",
       "      <th>ASIN</th>\n",
       "      <th>title</th>\n",
       "      <th>group</th>\n",
       "      <th>salesrank</th>\n",
       "      <th>categories</th>\n",
       "      <th>total_reviews</th>\n",
       "      <th>downloads</th>\n",
       "      <th>avg_rating</th>\n",
       "      <th>reviews</th>\n",
       "    </tr>\n",
       "  </thead>\n",
       "  <tbody>\n",
       "    <tr>\n",
       "      <th>0</th>\n",
       "      <td>0771044445</td>\n",
       "      <td>NaN</td>\n",
       "      <td>NaN</td>\n",
       "      <td>NaN</td>\n",
       "      <td>NaN</td>\n",
       "      <td>NaN</td>\n",
       "      <td>NaN</td>\n",
       "      <td>NaN</td>\n",
       "      <td>NaN</td>\n",
       "    </tr>\n",
       "    <tr>\n",
       "      <th>1</th>\n",
       "      <td>0827229534</td>\n",
       "      <td>Patterns of Preaching: A Sermon Sampler</td>\n",
       "      <td>Book</td>\n",
       "      <td>396585</td>\n",
       "      <td>[   |Books[283155]|Subjects[1000]|Religion &amp; S...</td>\n",
       "      <td>2</td>\n",
       "      <td>2</td>\n",
       "      <td>5</td>\n",
       "      <td>[    2000-7-28  cutomer: A2JW67OY8U6HHK  ratin...</td>\n",
       "    </tr>\n",
       "    <tr>\n",
       "      <th>2</th>\n",
       "      <td>0738700797</td>\n",
       "      <td>Candlemas: Feast of Flames</td>\n",
       "      <td>Book</td>\n",
       "      <td>168596</td>\n",
       "      <td>[   |Books[283155]|Subjects[1000]|Religion &amp; S...</td>\n",
       "      <td>12</td>\n",
       "      <td>12</td>\n",
       "      <td>4.5</td>\n",
       "      <td>[    2001-12-16  cutomer: A11NCO6YTE4BTJ  rati...</td>\n",
       "    </tr>\n",
       "  </tbody>\n",
       "</table>\n",
       "</div>"
      ],
      "text/plain": [
       "          ASIN                                     title  group salesrank  \\\n",
       "0   0771044445                                       NaN    NaN       NaN   \n",
       "1   0827229534   Patterns of Preaching: A Sermon Sampler   Book    396585   \n",
       "2   0738700797                Candlemas: Feast of Flames   Book    168596   \n",
       "\n",
       "                                          categories total_reviews downloads  \\\n",
       "0                                                NaN           NaN       NaN   \n",
       "1  [   |Books[283155]|Subjects[1000]|Religion & S...           2         2     \n",
       "2  [   |Books[283155]|Subjects[1000]|Religion & S...          12        12     \n",
       "\n",
       "  avg_rating                                            reviews  \n",
       "0        NaN                                                NaN  \n",
       "1          5  [    2000-7-28  cutomer: A2JW67OY8U6HHK  ratin...  \n",
       "2        4.5  [    2001-12-16  cutomer: A11NCO6YTE4BTJ  rati...  "
      ]
     },
     "execution_count": 8,
     "metadata": {},
     "output_type": "execute_result"
    }
   ],
   "source": [
    "df_reviews.head(3)"
   ]
  },
  {
   "cell_type": "code",
   "execution_count": 9,
   "metadata": {},
   "outputs": [
    {
     "data": {
      "text/plain": [
       "542"
      ]
     },
     "execution_count": 9,
     "metadata": {},
     "output_type": "execute_result"
    }
   ],
   "source": [
    "#reviews with Null rating are discontinued products\n",
    "len(df_reviews[df_reviews.avg_rating.isnull()])"
   ]
  },
  {
   "cell_type": "code",
   "execution_count": 10,
   "metadata": {},
   "outputs": [
    {
     "data": {
      "text/html": [
       "<div>\n",
       "<style scoped>\n",
       "    .dataframe tbody tr th:only-of-type {\n",
       "        vertical-align: middle;\n",
       "    }\n",
       "\n",
       "    .dataframe tbody tr th {\n",
       "        vertical-align: top;\n",
       "    }\n",
       "\n",
       "    .dataframe thead th {\n",
       "        text-align: right;\n",
       "    }\n",
       "</style>\n",
       "<table border=\"1\" class=\"dataframe\">\n",
       "  <thead>\n",
       "    <tr style=\"text-align: right;\">\n",
       "      <th></th>\n",
       "      <th>ASIN</th>\n",
       "      <th>title</th>\n",
       "      <th>group</th>\n",
       "      <th>salesrank</th>\n",
       "      <th>categories</th>\n",
       "      <th>total_reviews</th>\n",
       "      <th>downloads</th>\n",
       "      <th>avg_rating</th>\n",
       "      <th>reviews</th>\n",
       "    </tr>\n",
       "  </thead>\n",
       "  <tbody>\n",
       "    <tr>\n",
       "      <th>0</th>\n",
       "      <td>0771044445</td>\n",
       "      <td>NaN</td>\n",
       "      <td>NaN</td>\n",
       "      <td>NaN</td>\n",
       "      <td>NaN</td>\n",
       "      <td>NaN</td>\n",
       "      <td>NaN</td>\n",
       "      <td>NaN</td>\n",
       "      <td>NaN</td>\n",
       "    </tr>\n",
       "    <tr>\n",
       "      <th>298</th>\n",
       "      <td>1892866315</td>\n",
       "      <td>NaN</td>\n",
       "      <td>NaN</td>\n",
       "      <td>NaN</td>\n",
       "      <td>NaN</td>\n",
       "      <td>NaN</td>\n",
       "      <td>NaN</td>\n",
       "      <td>NaN</td>\n",
       "      <td>NaN</td>\n",
       "    </tr>\n",
       "    <tr>\n",
       "      <th>355</th>\n",
       "      <td>B00004TAU6</td>\n",
       "      <td>NaN</td>\n",
       "      <td>NaN</td>\n",
       "      <td>NaN</td>\n",
       "      <td>NaN</td>\n",
       "      <td>NaN</td>\n",
       "      <td>NaN</td>\n",
       "      <td>NaN</td>\n",
       "      <td>NaN</td>\n",
       "    </tr>\n",
       "  </tbody>\n",
       "</table>\n",
       "</div>"
      ],
      "text/plain": [
       "            ASIN title group salesrank categories total_reviews downloads  \\\n",
       "0     0771044445   NaN   NaN       NaN        NaN           NaN       NaN   \n",
       "298   1892866315   NaN   NaN       NaN        NaN           NaN       NaN   \n",
       "355   B00004TAU6   NaN   NaN       NaN        NaN           NaN       NaN   \n",
       "\n",
       "    avg_rating reviews  \n",
       "0          NaN     NaN  \n",
       "298        NaN     NaN  \n",
       "355        NaN     NaN  "
      ]
     },
     "execution_count": 10,
     "metadata": {},
     "output_type": "execute_result"
    }
   ],
   "source": [
    "df_reviews[df_reviews.avg_rating.isnull()].head(3)"
   ]
  },
  {
   "cell_type": "code",
   "execution_count": 11,
   "metadata": {},
   "outputs": [],
   "source": [
    "#exclude discont products\n",
    "df_reviews=df_reviews[~df_reviews.avg_rating.isnull()]"
   ]
  },
  {
   "cell_type": "code",
   "execution_count": 12,
   "metadata": {},
   "outputs": [
    {
     "data": {
      "text/plain": [
       "49459"
      ]
     },
     "execution_count": 12,
     "metadata": {},
     "output_type": "execute_result"
    }
   ],
   "source": [
    "len(df_reviews)"
   ]
  },
  {
   "cell_type": "code",
   "execution_count": 13,
   "metadata": {},
   "outputs": [
    {
     "data": {
      "text/plain": [
       "array([' Book', ' Music', ' DVD', ' Video', ' Toy'], dtype=object)"
      ]
     },
     "execution_count": 13,
     "metadata": {},
     "output_type": "execute_result"
    }
   ],
   "source": [
    "df_reviews.group.unique()"
   ]
  },
  {
   "cell_type": "code",
   "execution_count": 14,
   "metadata": {},
   "outputs": [
    {
     "data": {
      "text/plain": [
       "group\n",
       " Book     35783\n",
       " DVD       1791\n",
       " Music     9556\n",
       " Toy          2\n",
       " Video     2327\n",
       "dtype: int64"
      ]
     },
     "execution_count": 14,
     "metadata": {},
     "output_type": "execute_result"
    }
   ],
   "source": [
    "df_reviews[['group','avg_rating']].groupby('group').size()"
   ]
  },
  {
   "cell_type": "code",
   "execution_count": 15,
   "metadata": {},
   "outputs": [],
   "source": [
    "valid_group=[' Book', ' Music', ' DVD', ' Video']"
   ]
  },
  {
   "cell_type": "code",
   "execution_count": 16,
   "metadata": {},
   "outputs": [],
   "source": [
    "#include only reviews for Books, Music, DVD and Video\n",
    "df_reviews=df_reviews[df_reviews.group.isin(valid_group)]"
   ]
  },
  {
   "cell_type": "code",
   "execution_count": 17,
   "metadata": {},
   "outputs": [],
   "source": [
    "df_reviews['avg_rating']=df_reviews['avg_rating'].str.strip().astype(float)"
   ]
  },
  {
   "cell_type": "code",
   "execution_count": 18,
   "metadata": {},
   "outputs": [
    {
     "data": {
      "text/plain": [
       "0"
      ]
     },
     "execution_count": 18,
     "metadata": {},
     "output_type": "execute_result"
    }
   ],
   "source": [
    "df_reviews['salesrank'].isnull().sum()"
   ]
  },
  {
   "cell_type": "code",
   "execution_count": 19,
   "metadata": {},
   "outputs": [],
   "source": [
    "df_reviews['salesrank']=df_reviews['salesrank'].astype(int)"
   ]
  },
  {
   "cell_type": "code",
   "execution_count": 20,
   "metadata": {},
   "outputs": [
    {
     "data": {
      "text/plain": [
       "0"
      ]
     },
     "execution_count": 20,
     "metadata": {},
     "output_type": "execute_result"
    }
   ],
   "source": [
    "df_reviews['total_reviews'].isnull().sum()"
   ]
  },
  {
   "cell_type": "code",
   "execution_count": 21,
   "metadata": {},
   "outputs": [],
   "source": [
    "df_reviews['total_reviews']=df_reviews['total_reviews'].astype(int)"
   ]
  },
  {
   "cell_type": "code",
   "execution_count": 22,
   "metadata": {},
   "outputs": [
    {
     "data": {
      "text/plain": [
       "group\n",
       " Book     2.942193\n",
       " DVD      3.674484\n",
       " Music    3.561846\n",
       " Video    3.490976\n",
       "Name: avg_rating, dtype: float64"
      ]
     },
     "execution_count": 22,
     "metadata": {},
     "output_type": "execute_result"
    }
   ],
   "source": [
    "df_reviews[['group','avg_rating']].groupby('group')['avg_rating'].mean()"
   ]
  },
  {
   "cell_type": "code",
   "execution_count": 23,
   "metadata": {},
   "outputs": [
    {
     "data": {
      "text/html": [
       "<div>\n",
       "<style scoped>\n",
       "    .dataframe tbody tr th:only-of-type {\n",
       "        vertical-align: middle;\n",
       "    }\n",
       "\n",
       "    .dataframe tbody tr th {\n",
       "        vertical-align: top;\n",
       "    }\n",
       "\n",
       "    .dataframe thead th {\n",
       "        text-align: right;\n",
       "    }\n",
       "</style>\n",
       "<table border=\"1\" class=\"dataframe\">\n",
       "  <thead>\n",
       "    <tr style=\"text-align: right;\">\n",
       "      <th></th>\n",
       "      <th>salesrank</th>\n",
       "      <th>total_reviews</th>\n",
       "      <th>avg_rating</th>\n",
       "    </tr>\n",
       "  </thead>\n",
       "  <tbody>\n",
       "    <tr>\n",
       "      <th>count</th>\n",
       "      <td>3.578300e+04</td>\n",
       "      <td>35783.000000</td>\n",
       "      <td>35783.000000</td>\n",
       "    </tr>\n",
       "    <tr>\n",
       "      <th>mean</th>\n",
       "      <td>6.456282e+05</td>\n",
       "      <td>11.625884</td>\n",
       "      <td>2.942193</td>\n",
       "    </tr>\n",
       "    <tr>\n",
       "      <th>std</th>\n",
       "      <td>6.169291e+05</td>\n",
       "      <td>75.848385</td>\n",
       "      <td>2.098792</td>\n",
       "    </tr>\n",
       "    <tr>\n",
       "      <th>min</th>\n",
       "      <td>-1.000000e+00</td>\n",
       "      <td>0.000000</td>\n",
       "      <td>0.000000</td>\n",
       "    </tr>\n",
       "    <tr>\n",
       "      <th>25%</th>\n",
       "      <td>2.068095e+05</td>\n",
       "      <td>0.000000</td>\n",
       "      <td>0.000000</td>\n",
       "    </tr>\n",
       "    <tr>\n",
       "      <th>50%</th>\n",
       "      <td>4.837440e+05</td>\n",
       "      <td>2.000000</td>\n",
       "      <td>4.000000</td>\n",
       "    </tr>\n",
       "    <tr>\n",
       "      <th>75%</th>\n",
       "      <td>8.724045e+05</td>\n",
       "      <td>6.000000</td>\n",
       "      <td>5.000000</td>\n",
       "    </tr>\n",
       "    <tr>\n",
       "      <th>max</th>\n",
       "      <td>3.793303e+06</td>\n",
       "      <td>5539.000000</td>\n",
       "      <td>5.000000</td>\n",
       "    </tr>\n",
       "  </tbody>\n",
       "</table>\n",
       "</div>"
      ],
      "text/plain": [
       "          salesrank  total_reviews    avg_rating\n",
       "count  3.578300e+04   35783.000000  35783.000000\n",
       "mean   6.456282e+05      11.625884      2.942193\n",
       "std    6.169291e+05      75.848385      2.098792\n",
       "min   -1.000000e+00       0.000000      0.000000\n",
       "25%    2.068095e+05       0.000000      0.000000\n",
       "50%    4.837440e+05       2.000000      4.000000\n",
       "75%    8.724045e+05       6.000000      5.000000\n",
       "max    3.793303e+06    5539.000000      5.000000"
      ]
     },
     "execution_count": 23,
     "metadata": {},
     "output_type": "execute_result"
    }
   ],
   "source": [
    "df_reviews[df_reviews.group.str.strip()=='Book'].describe()"
   ]
  },
  {
   "cell_type": "code",
   "execution_count": 24,
   "metadata": {},
   "outputs": [
    {
     "data": {
      "text/plain": [
       "49"
      ]
     },
     "execution_count": 24,
     "metadata": {},
     "output_type": "execute_result"
    }
   ],
   "source": [
    "#salesrank < 1 - probable error in the data\n",
    "len(df_reviews[df_reviews.salesrank<0])"
   ]
  },
  {
   "cell_type": "code",
   "execution_count": 25,
   "metadata": {},
   "outputs": [],
   "source": [
    "#remove the rows with salesrank <-1\n",
    "df_reviews = df_reviews[~(df_reviews.salesrank<0)]"
   ]
  },
  {
   "cell_type": "code",
   "execution_count": 26,
   "metadata": {},
   "outputs": [
    {
     "data": {
      "text/plain": [
       "49408"
      ]
     },
     "execution_count": 26,
     "metadata": {},
     "output_type": "execute_result"
    }
   ],
   "source": [
    "len(df_reviews)"
   ]
  },
  {
   "cell_type": "code",
   "execution_count": 27,
   "metadata": {},
   "outputs": [
    {
     "data": {
      "text/html": [
       "<div>\n",
       "<style scoped>\n",
       "    .dataframe tbody tr th:only-of-type {\n",
       "        vertical-align: middle;\n",
       "    }\n",
       "\n",
       "    .dataframe tbody tr th {\n",
       "        vertical-align: top;\n",
       "    }\n",
       "\n",
       "    .dataframe thead th {\n",
       "        text-align: right;\n",
       "    }\n",
       "</style>\n",
       "<table border=\"1\" class=\"dataframe\">\n",
       "  <thead>\n",
       "    <tr style=\"text-align: right;\">\n",
       "      <th></th>\n",
       "      <th>salesrank</th>\n",
       "      <th>total_reviews</th>\n",
       "      <th>avg_rating</th>\n",
       "    </tr>\n",
       "  </thead>\n",
       "  <tbody>\n",
       "    <tr>\n",
       "      <th>count</th>\n",
       "      <td>3.574600e+04</td>\n",
       "      <td>35746.000000</td>\n",
       "      <td>35746.000000</td>\n",
       "    </tr>\n",
       "    <tr>\n",
       "      <th>mean</th>\n",
       "      <td>6.462965e+05</td>\n",
       "      <td>11.636127</td>\n",
       "      <td>2.944973</td>\n",
       "    </tr>\n",
       "    <tr>\n",
       "      <th>std</th>\n",
       "      <td>6.168984e+05</td>\n",
       "      <td>75.886316</td>\n",
       "      <td>2.097813</td>\n",
       "    </tr>\n",
       "    <tr>\n",
       "      <th>min</th>\n",
       "      <td>1.900000e+01</td>\n",
       "      <td>0.000000</td>\n",
       "      <td>0.000000</td>\n",
       "    </tr>\n",
       "    <tr>\n",
       "      <th>25%</th>\n",
       "      <td>2.076790e+05</td>\n",
       "      <td>0.000000</td>\n",
       "      <td>0.000000</td>\n",
       "    </tr>\n",
       "    <tr>\n",
       "      <th>50%</th>\n",
       "      <td>4.843320e+05</td>\n",
       "      <td>2.000000</td>\n",
       "      <td>4.000000</td>\n",
       "    </tr>\n",
       "    <tr>\n",
       "      <th>75%</th>\n",
       "      <td>8.730682e+05</td>\n",
       "      <td>6.000000</td>\n",
       "      <td>5.000000</td>\n",
       "    </tr>\n",
       "    <tr>\n",
       "      <th>max</th>\n",
       "      <td>3.793303e+06</td>\n",
       "      <td>5539.000000</td>\n",
       "      <td>5.000000</td>\n",
       "    </tr>\n",
       "  </tbody>\n",
       "</table>\n",
       "</div>"
      ],
      "text/plain": [
       "          salesrank  total_reviews    avg_rating\n",
       "count  3.574600e+04   35746.000000  35746.000000\n",
       "mean   6.462965e+05      11.636127      2.944973\n",
       "std    6.168984e+05      75.886316      2.097813\n",
       "min    1.900000e+01       0.000000      0.000000\n",
       "25%    2.076790e+05       0.000000      0.000000\n",
       "50%    4.843320e+05       2.000000      4.000000\n",
       "75%    8.730682e+05       6.000000      5.000000\n",
       "max    3.793303e+06    5539.000000      5.000000"
      ]
     },
     "execution_count": 27,
     "metadata": {},
     "output_type": "execute_result"
    }
   ],
   "source": [
    "#let us look at the data for books\n",
    "df_reviews[df_reviews.group.str.strip()=='Book'].describe()"
   ]
  },
  {
   "cell_type": "code",
   "execution_count": 28,
   "metadata": {},
   "outputs": [
    {
     "data": {
      "text/html": [
       "<div>\n",
       "<style scoped>\n",
       "    .dataframe tbody tr th:only-of-type {\n",
       "        vertical-align: middle;\n",
       "    }\n",
       "\n",
       "    .dataframe tbody tr th {\n",
       "        vertical-align: top;\n",
       "    }\n",
       "\n",
       "    .dataframe thead th {\n",
       "        text-align: right;\n",
       "    }\n",
       "</style>\n",
       "<table border=\"1\" class=\"dataframe\">\n",
       "  <thead>\n",
       "    <tr style=\"text-align: right;\">\n",
       "      <th></th>\n",
       "      <th>salesrank</th>\n",
       "      <th>total_reviews</th>\n",
       "      <th>avg_rating</th>\n",
       "    </tr>\n",
       "  </thead>\n",
       "  <tbody>\n",
       "    <tr>\n",
       "      <th>count</th>\n",
       "      <td>9545.000000</td>\n",
       "      <td>9545.000000</td>\n",
       "      <td>9545.000000</td>\n",
       "    </tr>\n",
       "    <tr>\n",
       "      <th>mean</th>\n",
       "      <td>156173.450393</td>\n",
       "      <td>13.740597</td>\n",
       "      <td>3.565427</td>\n",
       "    </tr>\n",
       "    <tr>\n",
       "      <th>std</th>\n",
       "      <td>137656.564106</td>\n",
       "      <td>52.453685</td>\n",
       "      <td>1.883886</td>\n",
       "    </tr>\n",
       "    <tr>\n",
       "      <th>min</th>\n",
       "      <td>75.000000</td>\n",
       "      <td>0.000000</td>\n",
       "      <td>0.000000</td>\n",
       "    </tr>\n",
       "    <tr>\n",
       "      <th>25%</th>\n",
       "      <td>48889.000000</td>\n",
       "      <td>1.000000</td>\n",
       "      <td>3.500000</td>\n",
       "    </tr>\n",
       "    <tr>\n",
       "      <th>50%</th>\n",
       "      <td>117423.000000</td>\n",
       "      <td>3.000000</td>\n",
       "      <td>4.500000</td>\n",
       "    </tr>\n",
       "    <tr>\n",
       "      <th>75%</th>\n",
       "      <td>227462.000000</td>\n",
       "      <td>9.000000</td>\n",
       "      <td>5.000000</td>\n",
       "    </tr>\n",
       "    <tr>\n",
       "      <th>max</th>\n",
       "      <td>661808.000000</td>\n",
       "      <td>1695.000000</td>\n",
       "      <td>5.000000</td>\n",
       "    </tr>\n",
       "  </tbody>\n",
       "</table>\n",
       "</div>"
      ],
      "text/plain": [
       "           salesrank  total_reviews   avg_rating\n",
       "count    9545.000000    9545.000000  9545.000000\n",
       "mean   156173.450393      13.740597     3.565427\n",
       "std    137656.564106      52.453685     1.883886\n",
       "min        75.000000       0.000000     0.000000\n",
       "25%     48889.000000       1.000000     3.500000\n",
       "50%    117423.000000       3.000000     4.500000\n",
       "75%    227462.000000       9.000000     5.000000\n",
       "max    661808.000000    1695.000000     5.000000"
      ]
     },
     "execution_count": 28,
     "metadata": {},
     "output_type": "execute_result"
    }
   ],
   "source": [
    "#let us look at the data for Music\n",
    "df_reviews[df_reviews.group==' Music'].describe()"
   ]
  },
  {
   "cell_type": "code",
   "execution_count": 29,
   "metadata": {},
   "outputs": [
    {
     "data": {
      "text/html": [
       "<div>\n",
       "<style scoped>\n",
       "    .dataframe tbody tr th:only-of-type {\n",
       "        vertical-align: middle;\n",
       "    }\n",
       "\n",
       "    .dataframe tbody tr th {\n",
       "        vertical-align: top;\n",
       "    }\n",
       "\n",
       "    .dataframe thead th {\n",
       "        text-align: right;\n",
       "    }\n",
       "</style>\n",
       "<table border=\"1\" class=\"dataframe\">\n",
       "  <thead>\n",
       "    <tr style=\"text-align: right;\">\n",
       "      <th></th>\n",
       "      <th>ASIN</th>\n",
       "      <th>title</th>\n",
       "      <th>group</th>\n",
       "      <th>salesrank</th>\n",
       "      <th>categories</th>\n",
       "      <th>total_reviews</th>\n",
       "      <th>downloads</th>\n",
       "      <th>avg_rating</th>\n",
       "      <th>reviews</th>\n",
       "    </tr>\n",
       "  </thead>\n",
       "  <tbody>\n",
       "    <tr>\n",
       "      <th>28339</th>\n",
       "      <td>6301627024</td>\n",
       "      <td>Shirley Valentine</td>\n",
       "      <td>Video</td>\n",
       "      <td>2</td>\n",
       "      <td>[   |[139452]|VHS[404272]|Actors &amp; Actresses[1...</td>\n",
       "      <td>64</td>\n",
       "      <td>64</td>\n",
       "      <td>5.0</td>\n",
       "      <td>[    1999-1-16  cutomer:  AFOOFG7PGFAP3  ratin...</td>\n",
       "    </tr>\n",
       "  </tbody>\n",
       "</table>\n",
       "</div>"
      ],
      "text/plain": [
       "              ASIN               title   group  salesrank  \\\n",
       "28339   6301627024   Shirley Valentine   Video          2   \n",
       "\n",
       "                                              categories  total_reviews  \\\n",
       "28339  [   |[139452]|VHS[404272]|Actors & Actresses[1...             64   \n",
       "\n",
       "      downloads  avg_rating                                            reviews  \n",
       "28339      64           5.0  [    1999-1-16  cutomer:  AFOOFG7PGFAP3  ratin...  "
      ]
     },
     "execution_count": 29,
     "metadata": {},
     "output_type": "execute_result"
    }
   ],
   "source": [
    "df_reviews[(df_reviews.salesrank>0) & (df_reviews.salesrank<11)]"
   ]
  },
  {
   "cell_type": "code",
   "execution_count": 30,
   "metadata": {},
   "outputs": [],
   "source": [
    "book_review_df=df_reviews[df_reviews.group==' Book']"
   ]
  },
  {
   "cell_type": "code",
   "execution_count": 31,
   "metadata": {},
   "outputs": [
    {
     "data": {
      "text/plain": [
       "35746"
      ]
     },
     "execution_count": 31,
     "metadata": {},
     "output_type": "execute_result"
    }
   ],
   "source": [
    "len(book_review_df)"
   ]
  },
  {
   "cell_type": "code",
   "execution_count": 32,
   "metadata": {},
   "outputs": [],
   "source": [
    "music_review_df=df_reviews[df_reviews.group==' Music']"
   ]
  },
  {
   "cell_type": "code",
   "execution_count": 33,
   "metadata": {},
   "outputs": [
    {
     "data": {
      "text/plain": [
       "9545"
      ]
     },
     "execution_count": 33,
     "metadata": {},
     "output_type": "execute_result"
    }
   ],
   "source": [
    "len(music_review_df)"
   ]
  },
  {
   "cell_type": "code",
   "execution_count": 34,
   "metadata": {},
   "outputs": [],
   "source": [
    "dvd_review_df=df_reviews[df_reviews.group==' DVD']"
   ]
  },
  {
   "cell_type": "code",
   "execution_count": 35,
   "metadata": {},
   "outputs": [
    {
     "data": {
      "text/plain": [
       "1791"
      ]
     },
     "execution_count": 35,
     "metadata": {},
     "output_type": "execute_result"
    }
   ],
   "source": [
    "len(dvd_review_df)"
   ]
  },
  {
   "cell_type": "code",
   "execution_count": 36,
   "metadata": {},
   "outputs": [],
   "source": [
    "video_review_df=df_reviews[df_reviews.group==' Video']"
   ]
  },
  {
   "cell_type": "code",
   "execution_count": 37,
   "metadata": {},
   "outputs": [
    {
     "data": {
      "text/plain": [
       "2326"
      ]
     },
     "execution_count": 37,
     "metadata": {},
     "output_type": "execute_result"
    }
   ],
   "source": [
    "len(video_review_df)"
   ]
  },
  {
   "cell_type": "markdown",
   "metadata": {},
   "source": [
    "### Trustworthiness of ratings\n",
    "_Ratings are susceptible to manipulation, bias etc. What can you say (quantitatively speaking) about the ratings in this dataset?_\n",
    "\n",
    "From the given data, we can say that the rating of a product is not trustworthy if there are unusually high number of positive reviews that do not correspond to a high salesrank.\n",
    "\n"
   ]
  },
  {
   "cell_type": "code",
   "execution_count": 38,
   "metadata": {},
   "outputs": [
    {
     "name": "stderr",
     "output_type": "stream",
     "text": [
      "/opt/homebrew/lib/python3.10/site-packages/seaborn/_decorators.py:36: FutureWarning: Pass the following variables as keyword args: x, y. From version 0.12, the only valid positional argument will be `data`, and passing other arguments without an explicit keyword will result in an error or misinterpretation.\n",
      "  warnings.warn(\n",
      "/opt/homebrew/lib/python3.10/site-packages/seaborn/axisgrid.py:2182: UserWarning: The `size` parameter has been renamed to `height`; please update your code.\n",
      "  warnings.warn(msg, UserWarning)\n"
     ]
    },
    {
     "data": {
      "image/png": "[encoded data removed]",
      "text/plain": [
       "<Figure size 720x720 with 3 Axes>"
      ]
     },
     "metadata": {
      "needs_background": "light"
     },
     "output_type": "display_data"
    }
   ],
   "source": [
    "sns.jointplot(book_review_df['salesrank'], book_review_df['avg_rating'],  kind=\"reg\", color=\"b\", size=10)\n",
    "#plt.savefig('actor1_corr.jpg')\n",
    "plt.show()"
   ]
  },
  {
   "cell_type": "markdown",
   "metadata": {},
   "source": [
    "From the above we see that there is a strong correlation between the salesrank and the average rating. From this, we can reasonably say that if an item ranks very low in the salesrank (i.e. has a high absolute value or sells very less compared to other items) but has an unusually high rating, it could be something to investigate"
   ]
  },
  {
   "cell_type": "code",
   "execution_count": 39,
   "metadata": {},
   "outputs": [
    {
     "data": {
      "text/html": [
       "<div>\n",
       "<style scoped>\n",
       "    .dataframe tbody tr th:only-of-type {\n",
       "        vertical-align: middle;\n",
       "    }\n",
       "\n",
       "    .dataframe tbody tr th {\n",
       "        vertical-align: top;\n",
       "    }\n",
       "\n",
       "    .dataframe thead th {\n",
       "        text-align: right;\n",
       "    }\n",
       "</style>\n",
       "<table border=\"1\" class=\"dataframe\">\n",
       "  <thead>\n",
       "    <tr style=\"text-align: right;\">\n",
       "      <th></th>\n",
       "      <th>title</th>\n",
       "      <th>salesrank</th>\n",
       "      <th>total_reviews</th>\n",
       "      <th>avg_rating</th>\n",
       "    </tr>\n",
       "  </thead>\n",
       "  <tbody>\n",
       "    <tr>\n",
       "      <th>198</th>\n",
       "      <td>Imitation of Christ</td>\n",
       "      <td>933676</td>\n",
       "      <td>39</td>\n",
       "      <td>4.5</td>\n",
       "    </tr>\n",
       "    <tr>\n",
       "      <th>329</th>\n",
       "      <td>James Joyce (Penguin Lives (Audio))</td>\n",
       "      <td>1204592</td>\n",
       "      <td>14</td>\n",
       "      <td>4.5</td>\n",
       "    </tr>\n",
       "    <tr>\n",
       "      <th>481</th>\n",
       "      <td>A Major Case: A Novel by Pete Deer</td>\n",
       "      <td>2860756</td>\n",
       "      <td>14</td>\n",
       "      <td>4.5</td>\n",
       "    </tr>\n",
       "    <tr>\n",
       "      <th>935</th>\n",
       "      <td>Frederick</td>\n",
       "      <td>1035931</td>\n",
       "      <td>19</td>\n",
       "      <td>4.5</td>\n",
       "    </tr>\n",
       "    <tr>\n",
       "      <th>1819</th>\n",
       "      <td>Light House</td>\n",
       "      <td>861412</td>\n",
       "      <td>21</td>\n",
       "      <td>4.0</td>\n",
       "    </tr>\n",
       "    <tr>\n",
       "      <th>...</th>\n",
       "      <td>...</td>\n",
       "      <td>...</td>\n",
       "      <td>...</td>\n",
       "      <td>...</td>\n",
       "    </tr>\n",
       "    <tr>\n",
       "      <th>49142</th>\n",
       "      <td>You Are Special</td>\n",
       "      <td>1110681</td>\n",
       "      <td>136</td>\n",
       "      <td>5.0</td>\n",
       "    </tr>\n",
       "    <tr>\n",
       "      <th>49353</th>\n",
       "      <td>Finn</td>\n",
       "      <td>989807</td>\n",
       "      <td>12</td>\n",
       "      <td>4.5</td>\n",
       "    </tr>\n",
       "    <tr>\n",
       "      <th>49355</th>\n",
       "      <td>The Travels of Marco Polo</td>\n",
       "      <td>1725058</td>\n",
       "      <td>20</td>\n",
       "      <td>4.0</td>\n",
       "    </tr>\n",
       "    <tr>\n",
       "      <th>49406</th>\n",
       "      <td>Passing (Modern Library)</td>\n",
       "      <td>1037894</td>\n",
       "      <td>21</td>\n",
       "      <td>4.5</td>\n",
       "    </tr>\n",
       "    <tr>\n",
       "      <th>49789</th>\n",
       "      <td>Betrayal of the Spirit: My Life Behind the He...</td>\n",
       "      <td>1019362</td>\n",
       "      <td>20</td>\n",
       "      <td>4.0</td>\n",
       "    </tr>\n",
       "  </tbody>\n",
       "</table>\n",
       "<p>300 rows × 4 columns</p>\n",
       "</div>"
      ],
      "text/plain": [
       "                                                   title  salesrank  \\\n",
       "198                                  Imitation of Christ     933676   \n",
       "329                  James Joyce (Penguin Lives (Audio))    1204592   \n",
       "481                   A Major Case: A Novel by Pete Deer    2860756   \n",
       "935                                            Frederick    1035931   \n",
       "1819                                         Light House     861412   \n",
       "...                                                  ...        ...   \n",
       "49142                                    You Are Special    1110681   \n",
       "49353                                               Finn     989807   \n",
       "49355                          The Travels of Marco Polo    1725058   \n",
       "49406                           Passing (Modern Library)    1037894   \n",
       "49789   Betrayal of the Spirit: My Life Behind the He...    1019362   \n",
       "\n",
       "       total_reviews  avg_rating  \n",
       "198               39         4.5  \n",
       "329               14         4.5  \n",
       "481               14         4.5  \n",
       "935               19         4.5  \n",
       "1819              21         4.0  \n",
       "...              ...         ...  \n",
       "49142            136         5.0  \n",
       "49353             12         4.5  \n",
       "49355             20         4.0  \n",
       "49406             21         4.5  \n",
       "49789             20         4.0  \n",
       "\n",
       "[300 rows x 4 columns]"
      ]
     },
     "execution_count": 39,
     "metadata": {},
     "output_type": "execute_result"
    }
   ],
   "source": [
    "# from the above cells, we know that the 75th percentile is 8.550255e+05\n",
    "# let us see how many books that have a sales rank above this but have an avg rating of 4 or greater\n",
    "# and has at least more than 10 reviews - this to account for books that have very unique readers\n",
    "book_review_df[(book_review_df['salesrank']>855025)&(book_review_df['avg_rating']>=4)&(book_review_df['total_reviews']>10)][['title','salesrank','total_reviews','avg_rating']]"
   ]
  },
  {
   "cell_type": "markdown",
   "metadata": {},
   "source": [
    "***\n",
    "### Category bloat\n",
    "_Consider the product group named 'Books'. Each product in this group is associated with categories. Naturally, with categorization, there are tradeoffs between how broad or specific the categories must be._\n",
    "\n",
    "_For this dataset, quantify the following:_\n",
    "1. Is there redundancy in the categorization? How can it be identified/removed?\n",
    "2. Is is possible to reduce the number of categories drastically (say to 10% of existing categories) by sacrificing relatively few category entries (say close to 10%)?"
   ]
  },
  {
   "cell_type": "markdown",
   "metadata": {},
   "source": [
    "***\n",
    "Let us look at the categories"
   ]
  },
  {
   "cell_type": "code",
   "execution_count": 40,
   "metadata": {},
   "outputs": [
    {
     "data": {
      "text/plain": [
       "['   |Books[283155]|Subjects[1000]|Religion & Spirituality[22]|Christianity[12290]|Clergy[12360]|Preaching[12368]',\n",
       " '   |Books[283155]|Subjects[1000]|Religion & Spirituality[22]|Christianity[12290]|Clergy[12360]|Sermons[12370]']"
      ]
     },
     "execution_count": 40,
     "metadata": {},
     "output_type": "execute_result"
    }
   ],
   "source": [
    "book_review_df['categories'].iloc[0]"
   ]
  },
  {
   "cell_type": "code",
   "execution_count": 41,
   "metadata": {},
   "outputs": [
    {
     "data": {
      "text/plain": [
       "['   |Books[283155]|Subjects[1000]|Cooking, Food & Wine[6]|Cooking by Ingredient[4208]|Herbs, Spices & Condiments[4211]',\n",
       " '   |Books[283155]|Subjects[1000]|Cooking, Food & Wine[6]|General[4233]',\n",
       " '   |Books[283155]|Subjects[1000]|Cooking, Food & Wine[6]|Special Diet[4317]|Diabetic & Sugar-Free[4318]',\n",
       " '   |Books[283155]|Subjects[1000]|Cooking, Food & Wine[6]|Special Diet[4317]|Low Fat[4323]',\n",
       " '   |Books[283155]|Subjects[1000]|Health, Mind & Body[10]|Nutrition[282861]|General[4628]',\n",
       " '   |Books[283155]|Subjects[1000]|Health, Mind & Body[10]|Diets & Weight Loss[4613]|Special Conditions[4632]|Low Carbohydrate[4639]',\n",
       " '   |Books[283155]|Subjects[1000]|Health, Mind & Body[10]|Diets & Weight Loss[4613]|Special Conditions[4632]|Low Sugar[4642]',\n",
       " '   |Books[283155]|Subjects[1000]|Health, Mind & Body[10]|Diets & Weight Loss[4613]|Special Conditions[4632]|Low-Fat Diet[282849]',\n",
       " '   |Books[283155]|Subjects[1000]|Health, Mind & Body[10]|Diets & Weight Loss[4613]|Diets[4615]|Low Carb[10924671]']"
      ]
     },
     "execution_count": 41,
     "metadata": {},
     "output_type": "execute_result"
    }
   ],
   "source": [
    "book_review_df['categories'].iloc[10]"
   ]
  },
  {
   "cell_type": "code",
   "execution_count": 42,
   "metadata": {},
   "outputs": [
    {
     "data": {
      "text/plain": [
       "[\"   |Books[283155]|Subjects[1000]|Children's Books[4]|Literature[2966]|Action & Adventure[2967]\",\n",
       " \"   |Books[283155]|Subjects[1000]|Children's Books[4]|Science, Nature & How It Works[3207]|Fiction[3228]\",\n",
       " \"   |Books[283155]|Subjects[1000]|Children's Books[4]|Series[3302]|Early Reader[3315]|Magic School Bus[3324]\",\n",
       " \"   |Books[283155]|Subjects[1000]|Children's Books[4]|Ages 4-8[2785]|Picture Books[170061]\",\n",
       " \"   |Books[283155]|Subjects[1000]|Children's Books[4]|Authors & Illustrators, A-Z[170540]|( C )[170543]|Cole, Joanna[170637]\",\n",
       " \"   |Books[283155]|Subjects[1000]|Children's Books[4]|Authors & Illustrators, A-Z[170540]|( D )[170544]|Degen, Bruce[170651]\",\n",
       " '   |Books[283155]|Formats[504358]|Libros en español[301731]|Infantil y juvenil[301735]|No ficción[301737]',\n",
       " '   |Books[283155]|Formats[504358]|Libros en español[301731]|Infantil y juvenil[301735]|4 a 8 años[301739]']"
      ]
     },
     "execution_count": 42,
     "metadata": {},
     "output_type": "execute_result"
    }
   ],
   "source": [
    "book_review_df['categories'].iloc[100]"
   ]
  },
  {
   "cell_type": "markdown",
   "metadata": {},
   "source": [
    "From the above, we see that there are multiple categories that are repeated in the same pattern. To find out if we can reduce the redundancy, find out the distribution of the sub-categories within the category list. There may be some subcategories that figure in only a few books. By finding if there are such categories, we can reduce category bloat "
   ]
  },
  {
   "cell_type": "code",
   "execution_count": 43,
   "metadata": {},
   "outputs": [],
   "source": [
    "all_cat_list=[]\n",
    "tot_cat_list=0\n",
    "for item in book_review_df['categories']:\n",
    "    for cat_list in item:\n",
    "        tot_cat_list=tot_cat_list+1\n",
    "        for c in (cat_list[4:].strip().split('|')):\n",
    "            all_cat_list.append(c)"
   ]
  },
  {
   "cell_type": "code",
   "execution_count": 44,
   "metadata": {},
   "outputs": [
    {
     "data": {
      "text/plain": [
       "711342"
      ]
     },
     "execution_count": 44,
     "metadata": {},
     "output_type": "execute_result"
    }
   ],
   "source": [
    "len(all_cat_list)"
   ]
  },
  {
   "cell_type": "code",
   "execution_count": 45,
   "metadata": {},
   "outputs": [
    {
     "data": {
      "text/plain": [
       "129854"
      ]
     },
     "execution_count": 45,
     "metadata": {},
     "output_type": "execute_result"
    }
   ],
   "source": [
    "tot_cat_list"
   ]
  },
  {
   "cell_type": "code",
   "execution_count": 46,
   "metadata": {},
   "outputs": [
    {
     "data": {
      "text/plain": [
       "35746"
      ]
     },
     "execution_count": 46,
     "metadata": {},
     "output_type": "execute_result"
    }
   ],
   "source": [
    "len(book_review_df)"
   ]
  },
  {
   "cell_type": "markdown",
   "metadata": {},
   "source": [
    "There are a total of 393188 books reviewed; 1,439,885 grouping of categories across these books "
   ]
  },
  {
   "cell_type": "code",
   "execution_count": 47,
   "metadata": {},
   "outputs": [
    {
     "data": {
      "text/plain": [
       "10600"
      ]
     },
     "execution_count": 47,
     "metadata": {},
     "output_type": "execute_result"
    }
   ],
   "source": [
    "len(set(all_cat_list))"
   ]
  },
  {
   "cell_type": "markdown",
   "metadata": {},
   "source": [
    "14,922 unique categories used"
   ]
  },
  {
   "cell_type": "code",
   "execution_count": 48,
   "metadata": {},
   "outputs": [],
   "source": [
    "cat_df=pd.DataFrame(all_cat_list)"
   ]
  },
  {
   "cell_type": "code",
   "execution_count": 49,
   "metadata": {},
   "outputs": [],
   "source": [
    "cat_df.columns=['Category']"
   ]
  },
  {
   "cell_type": "code",
   "execution_count": 50,
   "metadata": {},
   "outputs": [],
   "source": [
    "cat_counts_df=pd.DataFrame(cat_df.groupby('Category').size().sort_values()).reset_index()"
   ]
  },
  {
   "cell_type": "code",
   "execution_count": 51,
   "metadata": {},
   "outputs": [],
   "source": [
    "cat_counts_df.columns=['Category','Count']"
   ]
  },
  {
   "cell_type": "code",
   "execution_count": 52,
   "metadata": {},
   "outputs": [
    {
     "data": {
      "text/plain": [
       "711342"
      ]
     },
     "execution_count": 52,
     "metadata": {},
     "output_type": "execute_result"
    }
   ],
   "source": [
    "cat_counts_df.Count.sum()"
   ]
  },
  {
   "cell_type": "code",
   "execution_count": 53,
   "metadata": {},
   "outputs": [
    {
     "data": {
      "text/html": [
       "<div>\n",
       "<style scoped>\n",
       "    .dataframe tbody tr th:only-of-type {\n",
       "        vertical-align: middle;\n",
       "    }\n",
       "\n",
       "    .dataframe tbody tr th {\n",
       "        vertical-align: top;\n",
       "    }\n",
       "\n",
       "    .dataframe thead th {\n",
       "        text-align: right;\n",
       "    }\n",
       "</style>\n",
       "<table border=\"1\" class=\"dataframe\">\n",
       "  <thead>\n",
       "    <tr style=\"text-align: right;\">\n",
       "      <th></th>\n",
       "      <th>Category</th>\n",
       "      <th>Count</th>\n",
       "    </tr>\n",
       "  </thead>\n",
       "  <tbody>\n",
       "    <tr>\n",
       "      <th>0</th>\n",
       "      <td>van Kampen, Vlasta[1044082]</td>\n",
       "      <td>1</td>\n",
       "    </tr>\n",
       "    <tr>\n",
       "      <th>1</th>\n",
       "      <td>Martin, George R.R.[15583]</td>\n",
       "      <td>1</td>\n",
       "    </tr>\n",
       "    <tr>\n",
       "      <th>2</th>\n",
       "      <td>Martin, Dean[917194]</td>\n",
       "      <td>1</td>\n",
       "    </tr>\n",
       "    <tr>\n",
       "      <th>3</th>\n",
       "      <td>Colorado Springs[640602]</td>\n",
       "      <td>1</td>\n",
       "    </tr>\n",
       "    <tr>\n",
       "      <th>4</th>\n",
       "      <td>Colorado Springs[67474]</td>\n",
       "      <td>1</td>\n",
       "    </tr>\n",
       "    <tr>\n",
       "      <th>...</th>\n",
       "      <td>...</td>\n",
       "      <td>...</td>\n",
       "    </tr>\n",
       "    <tr>\n",
       "      <th>2405</th>\n",
       "      <td>Rubens, Peter Paul[1402]</td>\n",
       "      <td>1</td>\n",
       "    </tr>\n",
       "    <tr>\n",
       "      <th>2406</th>\n",
       "      <td>Rowling, J.K.[287174]</td>\n",
       "      <td>1</td>\n",
       "    </tr>\n",
       "    <tr>\n",
       "      <th>2407</th>\n",
       "      <td>Avi[912660]</td>\n",
       "      <td>1</td>\n",
       "    </tr>\n",
       "    <tr>\n",
       "      <th>2408</th>\n",
       "      <td>Rocky Mountains[16512]</td>\n",
       "      <td>1</td>\n",
       "    </tr>\n",
       "    <tr>\n",
       "      <th>2409</th>\n",
       "      <td>Ruth, Babe[917148]</td>\n",
       "      <td>1</td>\n",
       "    </tr>\n",
       "  </tbody>\n",
       "</table>\n",
       "<p>2410 rows × 2 columns</p>\n",
       "</div>"
      ],
      "text/plain": [
       "                         Category  Count\n",
       "0     van Kampen, Vlasta[1044082]      1\n",
       "1      Martin, George R.R.[15583]      1\n",
       "2            Martin, Dean[917194]      1\n",
       "3        Colorado Springs[640602]      1\n",
       "4         Colorado Springs[67474]      1\n",
       "...                           ...    ...\n",
       "2405     Rubens, Peter Paul[1402]      1\n",
       "2406        Rowling, J.K.[287174]      1\n",
       "2407                  Avi[912660]      1\n",
       "2408       Rocky Mountains[16512]      1\n",
       "2409           Ruth, Babe[917148]      1\n",
       "\n",
       "[2410 rows x 2 columns]"
      ]
     },
     "execution_count": 53,
     "metadata": {},
     "output_type": "execute_result"
    }
   ],
   "source": [
    "cat_counts_df[cat_counts_df.Count<=1]"
   ]
  },
  {
   "cell_type": "markdown",
   "metadata": {},
   "source": [
    "We see that there are 1104 out of 14,922 occur only once in the categorization. Hence by looking at this distribution it is possible to reduce the number of categorizations without reducing the overall specificity."
   ]
  },
  {
   "cell_type": "markdown",
   "metadata": {},
   "source": [
    "***\n",
    "\n",
    "### Algorithm thinking\n",
    "How would build the product categorization from scratch, using similar/co-purchased\n",
    "information?"
   ]
  },
  {
   "cell_type": "markdown",
   "metadata": {},
   "source": [
    "By using clustering algorithms, we can create clusters of items that the customers bought together. This would give a different view of product categorization. However, the usefulness of such categorization should be evaluated. For example, while this approach may help someone who would like to buy a diaper bag and diapers, it may not help someone who is trying to compare different brands of diapers. \n"
   ]
  },
  {
   "cell_type": "markdown",
   "metadata": {},
   "source": [
    "### 2. Product thinking\n",
    "Now, put on your 'product thinking' hat.\n",
    "a. Is it a good idea to show users the categorization hierarchy for items?\n",
    "b. Is it a good idea to show users similar/co-purchased items?\n",
    "c. Is it a good idea to show users reviews and ratings for items?\n",
    "d. For each of the above, why? How will you establish the same?"
   ]
  },
  {
   "cell_type": "markdown",
   "metadata": {},
   "source": [
    "a. Is it a good idea to show users the categorization hierarchy for items?\n",
    "\n",
    "It depends on the item and the level of search the customer is looking for. For example, someone who is going to buy any phone as long as it is cheap would not be helped by a hierarchial categorization. Heirarchial categorization is useful when someone is looking for a specific product and its closest alternatives."
   ]
  },
  {
   "cell_type": "markdown",
   "metadata": {},
   "source": [
    "b. Is it a good idea to show users similar/co-purchased items?\n",
    "\n",
    "It usually is. There are certain types of items that people typically purchase together and showing them together acts as a reminder that the customer needs to get the other item as well. Common example, phones and memory cards"
   ]
  },
  {
   "cell_type": "markdown",
   "metadata": {},
   "source": [
    "c. Is it a good idea to show users reviews and ratings for items?\n",
    "\n",
    "In most cases, yes it is. However, there may be certain drawbacks of this approach. Using the ratings allows one to manipulate the perception of the product quality. Also, showing reviews / ratings means that badly rated products / non-rated products would not get as much as air-time as other products. They may not be sold as much as it should have been."
   ]
  },
  {
   "cell_type": "code",
   "execution_count": null,
   "metadata": {},
   "outputs": [],
   "source": []
  }
 ],
 "metadata": {
  "kernelspec": {
   "display_name": "Python 3 (ipykernel)",
   "language": "python",
   "name": "python3"
  },
  "language_info": {
   "codemirror_mode": {
    "name": "ipython",
    "version": 3
   },
   "file_extension": ".py",
   "mimetype": "text/x-python",
   "name": "python",
   "nbconvert_exporter": "python",
   "pygments_lexer": "ipython3",
   "version": "3.10.5"
  }
 },
 "nbformat": 4,
 "nbformat_minor": 2
}
