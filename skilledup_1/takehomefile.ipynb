  {
   "cell_type": "code",
   "execution_count": null,
   "id": "b1cf3a13",
   "metadata": {},
   "outputs": [],
   "source": [
    "!git clone --branch skilledup_1 https://github.com/interviewquery/takehomes.git\n",
    "%cd takehomes/skilledup_1\n",
    "!ls"
   ]
  },
