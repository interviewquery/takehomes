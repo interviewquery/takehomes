{
 "cells": [
  {
   "cell_type": "markdown",
   "id": "1ac84cfa",
   "metadata": {},
   "source": [
    "![logo.png](logo.png) \n",
    "\n",
    "\n",
    "# Demand/ Unmet demand prediction\n",
    " \n",
    "\n",
    "**Description:** Please build a model to predict the hourly number of order requests for five regions.\n",
    "\n",
    "### Expected outcomes:\n",
    "\n",
    "**Jupyter notebook (.ipynb file) with:**\n",
    "\n",
    "- Exploratory data analysis\n",
    "- Model training\n",
    "- Model validation\n",
    "- A short write up of your solution and the results\n",
    "\n",
    "We highly recommended to use **Python**.\n",
    "\n",
    "You can use whatever model(s) you think suitable. \n",
    "\n",
    "\n",
    "## Dataset\n",
    "\n",
    "You have 4-week synthetic data to play around, that is similar to the datasets we are working with. We have splitted them into two parts: a 3-week training dataset and 1-week validation dataset.\n",
    "\n",
    "You can find the the order request data in `df_order_train.csv` and `df_order_valid.csv`\n",
    "\n",
    "You can find a few regional features in `df_region.csv`\n",
    "\n",
    "Note that it is never a-must to use all the data we provided. You can also add any features you think useful in your model (tip: `day_id` 1 is a Sunday). *This is what we are going to face in real world.* We have a lot of data in our database, but not all of it is useful to the problem. \n",
    "\n",
    "\n",
    " ### Questions to think about\n",
    "\n",
    "- How would you explore and ‘feel’ the dataset in the exploratory data analysis? Will your findings in EDA guide to any modeling approach?\n",
    "- How would you evaluate the model results? Which metrics would you use to judge whether your model is ‘good’ or ‘bad’, and why? \n",
    "- Can you think of any potential issues with relying on such models?\n",
    "- How would this model be further improved?\n",
    "- How can we use this model in GOGOVAN business?\n",
    "\n",
    "\n",
    "\n",
    "### OPTIONAL bonus problem:\n",
    "\n",
    "Can you build a model to predict the hourly number of ***unmet* order requests** for the five regions? What other features could be useful to predict unmet demand?\n",
    "\n",
    "The definition of hourly unmet order request is *hourly number of order request* minus *hourly number of order completed*. You can find the data set of all completed orders in `df_completed_train.csv` and `df_completed_test.csv`.\n",
    "\n",
    "\n",
    "\n",
    "\n"
   ]
  },
  {
   "cell_type": "markdown",
   "id": "1162430f",
   "metadata": {},
   "source": [
    "!git clone --branch {takehome name} https://github.com/interviewquery/takehomes.git\n",
    "%cd takehomes/{takehome name}\n",
    "!if [[ $(ls *.zip) ]]; then unzip *.zip; fi\n",
    "!ls"
   ]
  },
  {
   "cell_type": "code",
   "execution_count": 1,
   "id": "2d3d08f1",
   "metadata": {},
   "outputs": [],
   "source": [
    "# Write your code here"
   ]
  }
 ],
 "metadata": {
  "kernelspec": {
   "display_name": "Python 3",
   "language": "python",
   "name": "python3"
  },
  "language_info": {
   "codemirror_mode": {
    "name": "ipython",
    "version": 3
   },
   "file_extension": ".py",
   "mimetype": "text/x-python",
   "name": "python",
   "nbconvert_exporter": "python",
   "pygments_lexer": "ipython3",
   "version": "3.8.8"
  }
 },
 "nbformat": 4,
 "nbformat_minor": 5
}
