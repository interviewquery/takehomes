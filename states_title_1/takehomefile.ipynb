{
 "cells": [
  {
   "cell_type": "markdown",
   "id": "d17737fe",
   "metadata": {},
   "source": [
    "![logo.png](logo.png)\n",
    "\n",
    "\n",
    "## States Title Data Science Challenge \n",
    "\n",
    "### Purpose\n",
    "\n",
    "We would like you to use a Jupyter (python) notebook to work with a slice of this data. You'll get a sense of the type of questions that we deal with at States Title, and we'll get a sense of your data science approach.\n",
    "\n",
    "### Background\n",
    "\n",
    "States Title's platform disrupts the nationwide market for title insurance by estimating title defect risk for any given property through the use of data science instead of manual searches by title examiners. We combine data streams that contain two types of information:\n",
    "\n",
    "1. **Title defects:** The dollar value of each defect, measured via a past slow title search that we have obtained from partner title agencies\n",
    "\n",
    "2. **Property information:** Hundreds of property-level attributes\n",
    "\n",
    "The platform cleans, processes, and combines this data to train and test our machine learning models, which quantifies the risk of any given property. When that estimated risk is compared to a carefully-chosen threshold, properties will either pass or fail.\n",
    "\n",
    "We have provided you with a sliced-down subset of our own datasets to simplify things. You may make the following (drastically) simplifying assumptions:\n",
    "\n",
    "- When a property passes (is accepted), it'll be underwritten instantaneously, netting us a $\\$800$ flat, one-time fee per policy regardless of its real estate value\n",
    "\n",
    "- When a property fails, it is rejected and generates no revenue\n",
    "\n",
    "- If we accept a policy that turns out to have defects, we suffer a loss to the tune of $100 \\%$ of the value of the defects.\n",
    "\n",
    "- Therefore, our profit is $\\$800$ times the number of policies we accept, minus the sum of the values of all the defects we fail to catch (i.e., the total amount of dollars in false negatives).\n",
    "\n",
    "\n",
    "### Objectives \n",
    "\n",
    "1. Write python code that allows you to stand up a nationwide title insurance company:\n",
    "\n",
    "  a. It should read the files `default_notices.csv`, `train_property_data.csv`, and test property `data.csv`, described below.\n",
    "\n",
    "  b. It should append a new column, risk, to the test property `data.csv` file, which represents your prediction of overall title risk for the property. This column should behave in such a way that properties with lower risk are predicted to be more profitable than properties with higher risk.\n",
    "\n",
    "  c. You are at complete freedom to set the method for measuring risk, and the column itself can contain any real-valued number that satisfies part (b).\n",
    "\n",
    "### Notes\n",
    "\n",
    "1. Within the iPython (Jupyter) notebook make a rough but justified profit-maximizing recommendation for the value of the risk that should be used as a decision threshold during production, such that you instant-underwrite all properties with a lower risk than that threshold. It would be helpful to have a graph or two explaining your thinking.\n",
    "\n",
    "2. Spend minimal time on formatting/fonts as they are not important.\n",
    "\n",
    "### Data Description\n",
    "\n",
    "Along with this description, there are CSV files containing information on 50,000 properties. Handle abnormal values as you see fit. Below is additional information on the dataset, including details for a few fields that may not be self-explanatory.\n",
    "\n",
    "- `house_id`: A unique property identifier column in all four files.\n",
    "\n",
    "- `train_property data.csv`: General information about each property. Includes location, size, and age of the homes. This file includes the target column, `lien_total`. This is a sum of the dollar value of all liens (defects) against each property. A value of $\\$ 0$ indicates the property was free of liens that we are attempting to predict.\n",
    "\n",
    "- `title_check_date`: The date when the lien_total target was measured (i.e., title was checked).\n",
    "\n",
    "- `county_fips`: Unique county identifier code\n",
    "\n",
    "- A value of `\"yes\"` in a categorical column means \"available but of unknown type.\"\n",
    "\n",
    "- `test_property_data.csv`: Contains different properties but in the same format, as `train_property_data.csv`, with the target column, `lien_total` removed. You must append a risk column to this file as described above.\n",
    "\n",
    "- `default_notices.csv`: The history of every notice of default (NOD) issued to each test and train property. A NOD indicates a bill payment that is more than 90 days late.\n",
    "\n",
    "- `event_type`: Distinguishes whether the notice of default was issued or rescinded."
   ]
  },
  {
   "cell_type": "code",
   "execution_count": null,
   "id": "f5277e16",
   "metadata": {},
   "outputs": [],
   "source": [
    "!git clone --branch states_title_1 https://github.com/interviewquery/takehomes.git\n",
    "%cd takehomes/states_title_1\n",
    "!if [[ $(ls *.zip) ]]; then unzip *.zip; fi\n",
    "!ls"
   ]
  },
  {
   "cell_type": "code",
   "execution_count": null,
   "id": "2121c28c",
   "metadata": {},
   "outputs": [],
   "source": [
    "# Write your code here"
   ]
  }
 ],
 "metadata": {
  "kernelspec": {
   "display_name": "Python 3",
   "language": "python",
   "name": "python3"
  },
  "language_info": {
   "codemirror_mode": {
    "name": "ipython",
    "version": 3
   },
   "file_extension": ".py",
   "mimetype": "text/x-python",
   "name": "python",
   "nbconvert_exporter": "python",
   "pygments_lexer": "ipython3",
   "version": "3.8.8"
  }
 },
 "nbformat": 4,
 "nbformat_minor": 5
}
