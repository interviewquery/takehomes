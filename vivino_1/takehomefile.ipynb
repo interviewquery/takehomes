{
 "cells": [
  {
   "cell_type": "markdown",
   "id": "678220bd",
   "metadata": {},
   "source": [
    "![logo.png](logo.png)\n",
    "\n",
    "# Vivino Bottle Analysis\n",
    "\n",
    "## Questions\n",
    "\n",
    "**Refer to `orders.csv`** \n",
    "\n",
    "1. Given the success of your last project, the VP of marketing just gave you a budget of $\\$30,000$ to acquire new users. How would you like to distribute the budget in order to attain the best customers and why?\n",
    "\n",
    "2. What impact does premium have on the bottle line (number of bottles and total value of order), please explain how you got to your conclusion.\n",
    "\n",
    "3. Provide a simple lifetime value model of customers (both frequency and monetary) that could be applied to new users entering the order cycle.\n",
    "\n",
    "4. Provide a simple analysis of the monthly survival rate of customers."
   ]
  },
  {
   "cell_type": "code",
   "execution_count": null,
   "id": "0059cdf5",
   "metadata": {},
   "outputs": [],
   "source": [
    "!git clone --branch origin/vivino_1 https://github.com/interviewquery/takehomes.git\n",
    "%cd takehomes/vivino_1\n",
    "!if [[ $(ls *.zip) ]]; then unzip *.zip; fi\n",
    "!ls"
   ]
  },
  {
   "cell_type": "code",
   "execution_count": 1,
   "id": "f9c25647",
   "metadata": {},
   "outputs": [],
   "source": [
    "# Write your code here"
   ]
  }
 ],
 "metadata": {
  "kernelspec": {
   "display_name": "Python 3",
   "language": "python",
   "name": "python3"
  },
  "language_info": {
   "codemirror_mode": {
    "name": "ipython",
    "version": 3
   },
   "file_extension": ".py",
   "mimetype": "text/x-python",
   "name": "python",
   "nbconvert_exporter": "python",
   "pygments_lexer": "ipython3",
   "version": "3.8.8"
  }
 },
 "nbformat": 4,
 "nbformat_minor": 5
}
