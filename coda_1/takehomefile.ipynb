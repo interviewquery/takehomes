{
 "cells": [
  {
   "cell_type": "markdown",
   "id": "7de9e465",
   "metadata": {},
   "source": [
    "![logo.png](logo.png) \n",
    "\n",
    "# Overview \n",
    "\n",
    "As a Data Scientist at Coda, you'll need to have a strong intuition for the product and its users, the technical skill sets to uncover and diagnose user behavior, and the ability to communicate your analysis and recommendations succinctly to the rest of the team or company.\n",
    "\n",
    "To help you demonstrate those traits, we've generated a typical dataset (`takehome_data.csv`) found at Coda - an event log for a set of users over a period of time. You can find it here.  \n",
    "\n",
    "Each row in this dataset represents an event that gets fired from the client of a user while they're interacting with Coda (e.g. when they navigate in a document or add a table. This dataset in particular is for a set of users from the same company or domain (e.g. all the users from piedpiper.com) over the course of several months.\n",
    "\n",
    "### There are two parts to this exercise:\n",
    "\n",
    "1. **Analysis:** The product and engineering team is looking to you to help them understand this user base and identify what to work on next. Using this data:\n",
    "\n",
    "- What inferences can you make about this set of users?\n",
    "\n",
    "- What metrics can you come up with to help explain the data?\n",
    "\n",
    "- What visualizations help describe the data and usage patterns?\n",
    "\n",
    "- What recommendations can you make to the product team based on what you found?\n",
    "\n",
    "This data is meant to look \"real world\" - so your ability to cut through the noise will be important. Feel free to use whatever language you prefer (R, Python, etc.), but be prepared to explain and share your work (see the next part).\n",
    "\n",
    "2. **Peer Communication:** With your analysis from (1), it's time to communicate to your peers what you've found. Write up what you've done, how you've done it, and any conclusions or recommendations you can draw. Presume that this group includes people pretty familiar with the data itself and are technical (e.g. in a real-world scenario, they would likely do a code review for you). Said differently, as part of this communication, your work should be reproducible. The write-up should be in a format shareable with others.\n",
    "\n",
    "This exercise shouldn't take you more than a few hours. "
   ]
  },
  {
   "cell_type": "code",
   "execution_count": null,
   "id": "5d965ab2",
   "metadata": {},
   "outputs": [],
   "source": [
    "!git clone --branch coda_1 https://github.com/interviewquery/takehomes.git\n",
    "%cd takehomes/coda_1\n",
    "!ls\n",
    "!if [[ $(ls *.zip) ]]; then unzip *.zip; fi"
   ]
  },
  {
   "cell_type": "code",
   "execution_count": null,
   "id": "be65118d",
   "metadata": {},
   "outputs": [],
   "source": [
    "# Write your code here"
   ]
  }
 ],
 "metadata": {
  "kernelspec": {
   "display_name": "Python 3",
   "language": "python",
   "name": "python3"
  },
  "language_info": {
   "codemirror_mode": {
    "name": "ipython",
    "version": 3
   },
   "file_extension": ".py",
   "mimetype": "text/x-python",
   "name": "python",
   "nbconvert_exporter": "python",
   "pygments_lexer": "ipython3",
   "version": "3.8.8"
  }
 },
 "nbformat": 4,
 "nbformat_minor": 5
}
