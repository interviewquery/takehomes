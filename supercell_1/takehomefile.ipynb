{
 "cells": [
  {
   "cell_type": "markdown",
   "id": "4cdd60b5",
   "metadata": {},
   "source": [
    "![logo.png](logo.png)\n",
    "\n",
    "# Supercell Data Scientist Pre-Test\n",
    "---\n",
    "\n",
    "**Please solve the following tasks.**\n",
    "\n",
    "## Task 1: How does the revenue trickle?\n",
    "\n",
    "The database contains three tables: `account`, `account_device` and\n",
    "`transactions`. `account` contains user profiles, `account_device` their devices and `transactions` contains in-app purchases.\n",
    "\n",
    "-   How much revenue was produced on 2013-02-01?\n",
    "-   Are there any users who use both iPads and iPhones?\n",
    "-   Which country produces the most revenue?\n",
    "-   What is the iPad/iPhone split in Canada?\n",
    "-   What proportion of lifetime revenue is generated on the player's\n",
    "    first week in game?\n",
    "\n",
    "If you believe the data we've provided is not sufficient for a task,\n",
    "please outline your concerns in your report with suggestions.\n",
    "\n",
    "Feel free to use tables and plots.\n",
    "\n",
    "## Task 2: Visualize this!\n",
    "\n",
    "Please visualize a single aspect of the data you find important.\n",
    "\n",
    "-   Why did you choose this particular visualization?\n",
    "-   What would you improve in your visualization?\n",
    "-   What would be your conclusions and recommendations to the game team based on this visualization?\n",
    "\n",
    "## Task 3: Patterns?\n",
    "\n",
    "Please apply a suitable machine learning technique to the data.\n",
    "\n",
    "-   Why did you choose this particular technique?\n",
    "-   What would you improve in your model?\n",
    "-   What would be your conclusions and recommendations to the game team\n",
    "    based on this model?"
   ]
  },
  {
   "cell_type": "code",
   "execution_count": null,
   "id": "a6286ad8",
   "metadata": {},
   "outputs": [],
   "source": [
    "!git clone --branch supercell_1 https://github.com/interviewquery/takehomes.git\n",
    "%cd takehomes/supercell_1\n",
    "!if [[ $(ls *.zip) ]]; then unzip *.zip; fi\n",
    "!ls"
   ]
  },
  {
   "cell_type": "code",
   "execution_count": null,
   "id": "d4af7ad4",
   "metadata": {},
   "outputs": [],
   "source": [
    "# Write your code here"
   ]
  }
 ],
 "metadata": {
  "kernelspec": {
   "display_name": "Python 3",
   "language": "python",
   "name": "python3"
  },
  "language_info": {
   "codemirror_mode": {
    "name": "ipython",
    "version": 3
   },
   "file_extension": ".py",
   "mimetype": "text/x-python",
   "name": "python",
   "nbconvert_exporter": "python",
   "pygments_lexer": "ipython3",
   "version": "3.8.8"
  }
 },
 "nbformat": 4,
 "nbformat_minor": 5
}
