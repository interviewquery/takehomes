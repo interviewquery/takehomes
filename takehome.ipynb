{
 "cells": [
  {
   "cell_type": "markdown",
   "source": [
    "# Supermarket Sales SQL Takehome Challenge"
   ],
   "metadata": {
    "collapsed": false
   }
  },
  {
   "cell_type": "markdown",
   "source": [
    "You're working as a Data Scientist in a local grocery chain's Data Science team. The business team has decided to allocate store portions per product category (i.e., electronics, sports and travel, food and beverages, etc.) The business has asked you to analyze the sales data to help them understand the following:\n",
    "\n",
    "1. How do the sales of the different product categories compare?\n",
    "2. How does gender affect the sales of the different product categories?\n",
    "3. Is there a monthly trend between these product categories?\n",
    "4. When consumers purchase product category x, which product category y are they most likely to buy?\n",
    "5. What product category earns the most? (Based on gross income)\n",
    "6. What product category earns the least? (Based on gross income)\n",
    "7. Explore how the sales of different product categories compare on a per-city basis.\n",
    "8. Explore how each product category's sales relate to the payment method used.\n",
    "\n",
    "How would you go around answering these questions? What SQL queries would you write to answer these questions? What visualizations would you use to present your findings?\n",
    "\n",
    "To start with this take home, you must start by initializing your environment with the following code:"
   ],
   "metadata": {
    "collapsed": false
   }
  },
  {
   "cell_type": "code",
   "execution_count": 1,
   "outputs": [
    {
     "name": "stdout",
     "output_type": "stream",
     "text": [
      "[IQ Environment] Defining table schemas.\n",
      "[IQ Environment] Checking if the data is already loaded.\n",
      "[IQ Environment] Environment now ready for use.\n"
     ]
    }
   ],
   "source": [
    "!git clone https://github.com/interviewquery/takehomes.git\n",
    "import iq_init\n",
    "import driver\n",
    "iq_init.init()"
   ],
   "metadata": {
    "collapsed": false
   }
  },
  {
   "cell_type": "markdown",
   "source": [
    "The technicalities for this take home are as follows:\n",
    "- While the dataset is initially inside a CSV, we prohibit accessing data from the CSV directly.  It is imperative that all analysis MUST BE DONE AS SQL scripts and never through accessing the CSV module.\n",
    "- The database is already created for you via SQLite upon creating the environment.\n",
    "- To query with the database, use the query() method in the driver module. Here's an example:"
   ],
   "metadata": {
    "collapsed": false
   }
  },
  {
   "cell_type": "code",
   "execution_count": 11,
   "outputs": [
    {
     "name": "stdout",
     "output_type": "stream",
     "text": [
      "('750-67-8428', '1/5/2019', '13:08', 1, 1, 'Ewallet', 548.9715, 522.83, 4.761904762, 26.1415)\n",
      "('226-31-3081', '3/8/2019', '10:29', 2, 2, 'Cash', 80.22, 76.4, 4.761904762, 3.82)\n",
      "('631-41-3108', '3/3/2019', '13:23', 1, 3, 'Credit card', 340.5255, 324.31, 4.761904762, 16.2155)\n",
      "('123-19-1176', '1/27/2019', '20:33', 1, 4, 'Ewallet', 489.048, 465.76, 4.761904762, 23.288)\n",
      "('373-73-7910', '2/8/2019', '10:37', 1, 5, 'Ewallet', 634.3785, 604.17, 4.761904762, 30.2085)\n",
      "Sample: 750-67-8428\n"
     ]
    }
   ],
   "source": [
    "# Example query on how to use IQ's driver API to query with the database.\n",
    "\n",
    "result = driver.query(\"SELECT * FROM invoices LIMIT 5\")\n",
    "\n",
    "# The result is iterable:\n",
    "for row in result:\n",
    "    print(row)\n",
    "\n",
    "# It can also be unpacked:\n",
    "result = driver.query(\"SELECT * FROM invoices LIMIT 5\")\n",
    "print('Sample:', result.fetchone()[0])"
   ],
   "metadata": {
    "collapsed": false
   }
  },
  {
   "cell_type": "markdown",
   "source": [
    "Before diving in with your analytics, here are the table schemas:\n",
    "\n",
    "## Table Schema\n",
    "\n",
    "---\n",
    "\n",
    "### Branches Table\n",
    "\n",
    "**Description**: Contains information about different branches.\n",
    "\n",
    "| Field      | Data Type   | Description                        |\n",
    "|------------|-------------|------------------------------------|\n",
    "| BranchID   | INTEGER     | Primary key for the branches.      |\n",
    "| BranchName | TEXT        | Name of the branch.                |\n",
    "| City       | TEXT        | City where the branch is located.  |\n",
    "\n",
    "---\n",
    "\n",
    "### Customers Table\n",
    "\n",
    "**Description**: Contains information about customers, including their gender and their rating (assessed through a survey, not relevant to this take home).\n",
    "\n",
    "| Field       | Data Type   | Description                                      |\n",
    "|-------------|-------------|--------------------------------------------------|\n",
    "| CustomerID  | INTEGER     | Primary key for the customers.                   |\n",
    "| CustomerType| TEXT        | Type of the customer (e.g., Member, Non-member). |\n",
    "| Gender      | TEXT        | Gender of the customer (e.g., Male, Female).     |\n",
    "| Rating      | REAL        | Rating given to the customer.                    |\n",
    "\n",
    "---\n",
    "\n",
    "### Products Table\n",
    "\n",
    "**Description**: Contains information about different products. Each product belongs to a product line, and the product specifics are not available for this table.\n",
    "\n",
    "| Field       | Data Type   | Description                                      |\n",
    "|-------------|-------------|--------------------------------------------------|\n",
    "| ProductID   | INTEGER     | Primary key for the products.                    |\n",
    "| ProductLine | TEXT        | Category or line the product belongs to.         |\n",
    "| UnitPrice   | REAL        | Price per unit of the product.                   |\n",
    "\n",
    "---\n",
    "\n",
    "### Invoices Table\n",
    "\n",
    "**Description**: Contains information about sales invoices.\n",
    "\n",
    "| Field                  | Data Type   | Description                                        |\n",
    "|------------------------|-------------|----------------------------------------------------|\n",
    "| InvoiceID              | TEXT        | Primary key for the invoices.                       |\n",
    "| Date                   | DATE        | Date of the invoice.                               |\n",
    "| Time                   | TIME        | Time of the invoice.                               |\n",
    "| BranchID               | INTEGER     | Foreign key referring to the Branches table.       |\n",
    "| CustomerID             | INTEGER     | Foreign key referring to the Customers table.      |\n",
    "| PaymentMethod          | TEXT        | Method of payment (e.g., Ewallet, Credit Card).    |\n",
    "| Total                  | REAL        | Total amount of the invoice.                       |\n",
    "| cogs                   | REAL        | Cost of goods sold.                                |\n",
    "| GrossMarginPercentage  | REAL        | Gross margin percentage.                           |\n",
    "| GrossIncome            | REAL        | Gross income amount.                               |\n",
    "\n",
    "---\n",
    "\n",
    "### InvoiceDetails Table\n",
    "\n",
    "**Description**: Contains detailed information about each product in an invoice.\n",
    "\n",
    "| Field      | Data Type   | Description                                       |\n",
    "|------------|-------------|---------------------------------------------------|\n",
    "| DetailID   | INTEGER     | Primary key for the invoice details.              |\n",
    "| InvoiceID  | TEXT        | Foreign key referring to the Invoices table.      |\n",
    "| ProductID  | INTEGER     | Foreign key referring to the Products table.      |\n",
    "| Quantity   | INTEGER     | Number of products sold in the invoice.           |\n",
    "| Tax        | REAL        | Tax amount for the products in the invoice.       |\n",
    "\n",
    "---\n"
   ],
   "metadata": {
    "collapsed": false
   }
  },
  {
   "cell_type": "markdown",
   "source": [
    "With that, you're all set! Good luck!"
   ],
   "metadata": {
    "collapsed": false
   }
  }
 ],
 "metadata": {
  "kernelspec": {
   "display_name": "Python 3",
   "language": "python",
   "name": "python3"
  },
  "language_info": {
   "codemirror_mode": {
    "name": "ipython",
    "version": 2
   },
   "file_extension": ".py",
   "mimetype": "text/x-python",
   "name": "python",
   "nbconvert_exporter": "python",
   "pygments_lexer": "ipython2",
   "version": "2.7.6"
  }
 },
 "nbformat": 4,
 "nbformat_minor": 0
}
