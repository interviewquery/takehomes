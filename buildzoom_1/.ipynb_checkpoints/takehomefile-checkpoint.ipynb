{
 "cells": [
  {
   "cell_type": "markdown",
   "id": "49ddf5a6",
   "metadata": {},
   "source": [
    "![Buildzoom](logo.png)\n",
    "# Data Description\n",
    "`train_data.csv`: contains data similar to what you would work with at\n",
    "BuildZoom. Each of the 100,156 rows represent a building permit and\n",
    "there are 7 variables - `licensetype`, `businessname`, `legaldescription`,\n",
    "`description`, `type`, `subtype`, and `job_value` - associated with each permit.\n",
    "\n",
    "`xtest_data.csv` contains 25,149 building permit observations with 6\n",
    "variables - `licensetype`, `businessname`, `legaldescription`, `description`,\n",
    "`subtype`, and `job_value`. The variable `type`, which is present in the\n",
    "training set, is omitted from the test set.\n",
    "\n",
    "# Assignment\n",
    "\n",
    "We would like you to:\n",
    "\n",
    "1. Build a classifier that predicts whether a building permit\\'s \\'type\\'\n",
    "is `\"ELECTRICAL\"` or not. Note that there are many different types of\n",
    "permits but we are only interested in `\"ELECTRICAL\"`. You are free to\n",
    "use any algorithm(s). You are also free to use all or a subset of the\n",
    "information included.\n",
    "\n",
    "2. Use your classifier to predict whether each building permit contained in\n",
    "`xtest_data.csv` is `\"ELECTRICAL\"` or not.\n",
    "\n",
    "## Deliverable\n",
    "\n",
    "Create a Jupyter Notebook that generated a model that does the task above and exports its predictions on `xtest_data.csv` to a file named `ytest_pred.csv`. \n",
    "\n",
    "Rows\n",
    "in `ytest_pred.csv` map directly to rows in `xtest_data.csv`, e.g.\n",
    "if the first building permit in `xtest_data.csv` is predicted to be of\n",
    "type `\"ELECTRICAL\"` then this prediction is written to the first row of\n",
    "`ytest_pred.csv` as a `1`; if the second building permit in\n",
    "`xtest_data.csv` is not predicted to be `\"ELECTRICAL\"` then map this result to the second row in\n",
    "`ytest_pred.csv` as a`0`. Please note that `ytest_pred.csv` is a file that contains *only*\n",
    "zeros or ones, each contained on a new line, and that these rows map to\n",
    "rows in `xtest_data.csv`.\n",
    "\n",
    "Please write in python and comment \n",
    "appropriately (via markdown or in the code itself) to justify your feature selection, model(s) choices,\n",
    "validation, etc. \n",
    "\n",
    "Ideally your code and comments should tell a complete story but you are\n",
    "also welcome to write a short note that highlights your work on this\n",
    "project. For example, feel free to identify something you found\n",
    "particularly challenging and how you tackled it, or what avenues you\n",
    "might pursue given substantially more time.\n",
    "\n",
    "Good luck and have fun!\n"
   ]
  },
  {
   "cell_type": "code",
   "execution_count": null,
   "id": "fb583fbe",
   "metadata": {},
   "outputs": [],
   "source": []
  }
 ],
 "metadata": {
  "kernelspec": {
   "display_name": "Python 3 (ipykernel)",
   "language": "python",
   "name": "python3"
  },
  "language_info": {
   "codemirror_mode": {
    "name": "ipython",
    "version": 3
   },
   "file_extension": ".py",
   "mimetype": "text/x-python",
   "name": "python",
   "nbconvert_exporter": "python",
   "pygments_lexer": "ipython3",
   "version": "3.10.5"
  }
 },
 "nbformat": 4,
 "nbformat_minor": 5
}
