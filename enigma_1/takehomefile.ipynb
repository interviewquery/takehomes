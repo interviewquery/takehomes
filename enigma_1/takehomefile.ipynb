{
 "cells": [
  {
   "cell_type": "raw",
   "id": "a43b63c6",
   "metadata": {},
   "source": []
  },
  {
   "cell_type": "markdown",
   "id": "81b52832",
   "metadata": {},
   "source": [
    "![logo.png](logo.png.png)\n",
    "\n",
    "\n",
    "# Data Take Home Exercises\n",
    " \n",
    "We estimate depending on your skill level these exercises to take between 1 to 2.5 hours. If you find yourself\n",
    "taking more than 2 hours, you may be over-engineering the solution, consider taking an easier option.\n",
    "\n",
    "\n",
    "\n",
    "## Question\n",
    "\n",
    "\n",
    "### Data Prep\n",
    "\n",
    "Write a script to transform input CSV to desired output CSV. \n",
    "\n",
    "You will find a CSV file in the files folder under `data.csv`. There are two steps (plus an optional bonus - Date offset) to this part of the test. Each step concerns manipulating the values for a single field according to the step's requirements. The steps are as follows:\n",
    "\n",
    "**String cleaning** - The bio field contains text with arbitrary padding, spacing and line breaks. Normalize these values to a space-delimited string.\n",
    "\n",
    "**Code swap** - There is a supplementary CSV in the files folder under `state_abbreviations`. This \"data dictionary\" contains state abbreviations alongside state names. For the state field of the input CSV, replace each state abbreviation with its associated state name from the data dictionary.\n",
    "\n",
    "(Optional) **Date offset** - The start_date field contains data in a variety of formats. These may include e.g., \"June 23, 1912\" or \"5/11/1930\" (month, day, year). But not all values are valid dates. Invalid dates may include e.g., \"June 2018\", \"3/06\" (incomplete dates) or even arbitrary natural language. Add a start_date_description field adjacent to the start_date column to filter invalid date values into. Normalize all valid date values in start_date to ISO 8601 (i.e., YYYY-MM-DD).\n",
    "\n",
    "Your script should take `data.csv` as input and produce a cleansed `enriched.csv` file according to the step requirements above. \n",
    "\n",
    "\n",
    "#### Recommended libraries:\n",
    "\n",
    "Python's [csv](https://docs.python.org/2/library/csv.html) module is standard for dealing with CSV data.\n",
    "\n",
    "## Submission Guidelines\n",
    "\n",
    "We ask that your solutions be implemented in Python. If you are coming from a different language or if your Python is rusty, we've linked to a few Python reference resources (in order of length/detail) below to help!\n",
    "\n",
    "[LPTHW](https://learnpythonthehardway.org/book/) - slow-build introduction to basic programming in Python.\n",
    "\n",
    "[Google's Python Class](https://developers.google.com/edu/python/) - crash course on Python syntax and data types.\n",
    "\n",
    "[learn x in y minutes](https://learnxinyminutes.com/docs/python/) - quick Python reference and run-through.\n",
    "\n",
    "_Anything specified as \"optional\" or \"bonus\" is just that, and you will not be penalized for its exclusion._\n",
    "\n",
    "We suggest submission of these materials within 2 business days.\n",
    "\n",
    "\n",
    "### Assessment Criteria\n",
    "\n",
    "Our goal is not to fool you. On the contrary, we would like to see you in your best light! We value clean, DRY and documented code; and in the interest of full disclosure, our assessment criteria is outlined below (in order of significance):\n",
    "\n",
    "1. Your ability to effectively solve the problems posed.\n",
    "1. Your ability to solve these problems in a clear and logical manner, with tasteful design.\n",
    "1. Your ability to appropriately document and comment your code.  \n",
    "\n"
   ]
  },
  {
   "cell_type": "code",
   "execution_count": null,
   "id": "d30177b4",
   "metadata": {},
   "outputs": [],
   "source": [
    "!git clone --branch {takehome name} https://github.com/interviewquery/takehomes.git\n",
    "%cd takehomes/{takehome name}\n",
    "!if [[ $(ls *.zip) ]]; then unzip *.zip; fi\n",
    "!ls"
   ]
  }
 ],
 "metadata": {
  "kernelspec": {
   "display_name": "Python 3",
   "language": "python",
   "name": "python3"
  },
  "language_info": {
   "codemirror_mode": {
    "name": "ipython",
    "version": 3
   },
   "file_extension": ".py",
   "mimetype": "text/x-python",
   "name": "python",
   "nbconvert_exporter": "python",
   "pygments_lexer": "ipython3",
   "version": "3.8.8"
  }
 },
 "nbformat": 4,
 "nbformat_minor": 5
}
