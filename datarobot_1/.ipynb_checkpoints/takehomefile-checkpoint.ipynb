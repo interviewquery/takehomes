{
 "cells": [
  {
   "cell_type": "markdown",
   "id": "2fc8a53c",
   "metadata": {},
   "source": [
    "![DataRobot](logo.png)\n",
    "# Predicting Loan Defaults\n",
    "\n",
    "Predicting loan defaults is an extremely common use case for machine\n",
    "learning in banking, one of DataRobot's main target industries. As a\n",
    "loan officer, you are responsible for determining which loans are\n",
    "going to be the most profitable and worthy of lending money to. Based\n",
    "on a loan application from a potential client, you would like to\n",
    "predict whether the loan will be paid back in time.\n",
    "\n",
    "# Data\n",
    "\n",
    "You will be working with a loan dataset\n",
    "from LendingClub.com,\n",
    "a US peer-to-peer lending company. Your classification target is\n",
    "`is_bad`.\n",
    "\n",
    "# Task\n",
    "\n",
    "Partition your data into a holdout set and 5 stratified CV folds. Pick\n",
    "any two machine learning algorithms from the list below, and build a\n",
    "binary classification model with each of them: \n",
    "- Regularized Logistic Regression (scikit-learn)  \n",
    "- Gradient Boosting Machine (scikit-learn, XGBoost or LightGBM) \n",
    "- Neural Network (Keras), with the architecture of your choice\n",
    "\n",
    "Both of your models must make use of numeric, categorical, text, and\n",
    "date features. Compute out-of-sample LogLoss and F1 scores on\n",
    "cross-validation and holdout. Which one of your two models would you\n",
    "recommend to deploy? Explain your decision. \n",
    "\n",
    "*(Advanced, optional)*: Which 3 features are the most impactful for your model?\n",
    "\n",
    "Explain your methodology.\n",
    "\n",
    "# Data Dictionary\n",
    "|\tColumn Name|Type|Description|Category|\n",
    "|---|---|---|---|\n",
    "|`addr_state`|Categorical|Customer State|Customer\n",
    "|`annual_inc`|Numeric|Annual Income|Customer\n",
    "|`collections_12_mths_ex_med`|Numeric|(Credit based)|Customer\n",
    "|`debt-to-income`|Numeric|Ratio of debt to income|Loan\n",
    "|`delinq_2yrs`|Numeric|Any delinquency in last 2 years|Customer\n",
    "|`earliest_cr_line`|Date|First credit date|Customer\n",
    "|`emp_length`|Numeric|Length in current job|Customer\n",
    "|`emp_title`|Text|Employee Title|Customer\n",
    "|`home_ownership`|Categorical|Housing Status|Customer\n",
    "|`Id`|Numeric|Sequential number|Identifier\n",
    "|`initial_list_status`|Categorical|Loan status|Loan\n",
    "|`inq_last_6mths`|Numeric|Number of inquiries|Customer\n",
    "|`is_bad`|Numeric|1 or 0|Target\n",
    "|`mths_since_last_delinq`|Numeric|Months since last delinquency|Customer\n",
    "|`mths_since_last_major_derog`|Numeric|(Credit based)|Customer\n",
    "|`mths_since_last_record`|Numeric|Months since last record|Customer\n",
    "|`Notes`|Text|Notes taken by the administrator|Loan\n",
    "|`open_acc`|Numeric|(Credit based)|Customer\n",
    "|`pymnt_plan`|Categorical|Current Payment Plans|Customer\n",
    "|`policy_code`|Categorical|Loan type|Loan\n",
    "|`pub_rec`|Numeric|(Credit based)|Customer\n",
    "|`purpose`|Text|Purpose for the loan|Loan\n",
    "|`purpose_cat`|Categorical|Purpose category for the loan|Loan\n",
    "|`revol_bal`|Numeric|(Credit based)|Customer\n",
    "|`revol_util`|Numeric|(Credit based)|Customer\n",
    "|`total_acc`|Numeric|(Credit based)|Customer\n",
    "|`verification_status`|Categorical|Income Verified|Loan\n",
    "|`zip_code`|Categorical|Customer zip code|Customer"
   ]
  },
  {
   "cell_type": "code",
   "execution_count": null,
   "id": "7cb08f2c",
   "metadata": {},
   "outputs": [],
   "source": [
    "# Write your code here"
   ]
  }
 ],
 "metadata": {
  "kernelspec": {
   "display_name": "Python 3 (ipykernel)",
   "language": "python",
   "name": "python3"
  },
  "language_info": {
   "codemirror_mode": {
    "name": "ipython",
    "version": 3
   },
   "file_extension": ".py",
   "mimetype": "text/x-python",
   "name": "python",
   "nbconvert_exporter": "python",
   "pygments_lexer": "ipython3",
   "version": "3.10.5"
  }
 },
 "nbformat": 4,
 "nbformat_minor": 5
}
