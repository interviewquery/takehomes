{
 "cells": [
  {
   "cell_type": "markdown",
   "id": "8cbb8175",
   "metadata": {},
   "source": [
    "![logo.png](logo.png)\n",
    "\n",
    "## Data Visualization Specialist\n",
    "\n",
    " The dataset we picked reflects the kinds of data you will be dealing with at the position. Please complete your visualization sample in **72 hours**. \n",
    "\n",
    "## Data Scientist\n",
    "\n",
    "Let's look at what you can do in **72 hours** as a Data Scientist.\n",
    "\n",
    "### Question\n",
    "\n",
    "A friend once told me some in the Muslim community think people tend to die more (often) in the month of Shaban. As a data scientist, what do you think?\n",
    "\n",
    "### Approach\n",
    "\n",
    "Please make use of (but not limited to) the data by the Medina Municipality.\n",
    "\n",
    "Structure your analysis with the following components:\n",
    "\n",
    "1. Refine your objective\n",
    "2. Collect the data (save the data in the directory `data`)\n",
    "3. Data Exploration and Data Cleaning\n",
    "4. Modeling\n",
    "5. Summarize your results\n",
    "6. List any resource you used\n",
    "\n",
    "You may code in `python` or `R` in a jupyter notebook environment.\n",
    "\n"
   ]
  },
  {
   "cell_type": "code",
   "execution_count": null,
   "id": "8afa8df7",
   "metadata": {},
   "outputs": [],
   "source": [
    "!git clone --branch scfhs_1 https://github.com/interviewquery/takehomes.git\n",
    "%cd takehomes/scfhs_1\n",
    "!if [[ $(ls *.zip) ]]; then unzip *.zip; fi\n",
    "!ls"
   ]
  },
  {
   "cell_type": "code",
   "execution_count": null,
   "id": "3509537a",
   "metadata": {},
   "outputs": [],
   "source": [
    "# Write your code here"
   ]
  }
 ],
 "metadata": {
  "kernelspec": {
   "display_name": "Python 3",
   "language": "python",
   "name": "python3"
  },
  "language_info": {
   "codemirror_mode": {
    "name": "ipython",
    "version": 3
   },
   "file_extension": ".py",
   "mimetype": "text/x-python",
   "name": "python",
   "nbconvert_exporter": "python",
   "pygments_lexer": "ipython3",
   "version": "3.8.8"
  }
 },
 "nbformat": 4,
 "nbformat_minor": 5
}
