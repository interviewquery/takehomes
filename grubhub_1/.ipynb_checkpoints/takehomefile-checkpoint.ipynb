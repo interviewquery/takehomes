{
 "cells": [
  {
   "cell_type": "markdown",
   "id": "944cc266",
   "metadata": {},
   "source": [
    "![Grubhub](logo.png)\n",
    "\n",
    "Given the attached data (`generated_orders1.csv`), which state should we focus our only available\n",
    "product development team on? \n",
    "\n",
    "Respond with your answer and reasoning. Where\n",
    "you don't have enough data to make a decision, make assumptions and list\n",
    "them in your response.\n",
    "\n",
    "Definitions of data in file:\n",
    "- `total_orders`: online food orders placed on grubhub.com\n",
    "- `visits`:  the number of unique times people have gone to grubhub.com\n",
    "- `revenue`: the amount of money we are making"
   ]
  },
  {
   "cell_type": "code",
   "execution_count": null,
   "id": "c778cd36",
   "metadata": {},
   "outputs": [],
   "source": [
    "# write your code here"
   ]
  }
 ],
 "metadata": {
  "kernelspec": {
   "display_name": "Python 3 (ipykernel)",
   "language": "python",
   "name": "python3"
  },
  "language_info": {
   "codemirror_mode": {
    "name": "ipython",
    "version": 3
   },
   "file_extension": ".py",
   "mimetype": "text/x-python",
   "name": "python",
   "nbconvert_exporter": "python",
   "pygments_lexer": "ipython3",
   "version": "3.10.5"
  }
 },
 "nbformat": 4,
 "nbformat_minor": 5
}
