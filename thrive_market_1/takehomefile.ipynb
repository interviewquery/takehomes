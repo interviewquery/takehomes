{
 "cells": [
  {
   "cell_type": "markdown",
   "id": "ffd32070",
   "metadata": {},
   "source": [
    "![logo.png](logo.png)\n",
    "\n",
    "# Thrive Market Take Home Test \n",
    "\n",
    "- Use any programming language of your choice.  \n",
    "- Provide clear instructions to build & run your code.  \n",
    "- Provide some basic documentation around your API endpoints.  \n",
    "- Dockerize your code if possible \n",
    "\n",
    "## Problem\n",
    "\n",
    "We are going to be building a product -> **product recommender**. A product-to-product recommender is a system that returns products similar to a given product. We have provided mock data for your convenience. Each line in the file is a valid JSON object.  \n",
    "\n",
    "**As an example, a single line in the file looks like this:**  \n",
    "\n",
    "```python\n",
    "{\"productid\":19,\"recommendations\":[8234,229,2031,3914,225,14349, 8894,8227,14656,44,459,10337,8635,8230,10335,10336,10334,10332,4 62,10324],\"scores\":[1.0,0.7071067812,0.5773502692,0.5,0.44721359 55,0.4082482905,0.377964473,0.3535533906,0.3333333333,0.31622776 6,0.3015113446,0.2886751346,0.2773500981,0.2672612419,0.25819888 97,0.25,0.242535625,0.2357022604,0.2294157339,0.2236067977]}\n",
    "```\n",
    "\n",
    "`productid` - The source product id of this line.  \n",
    "`recommendations` - All product ids that are similar to the given product id.  \n",
    "`scores` - Affinity score of the recs product to the source product. (recommendations and their scores are in the same order) (productid 8234 has a score of 1.0, 229 has a score of 0.707) \n",
    "\n",
    "Load the provided recommendation data file into a database of your choice.  \n",
    "\n",
    "Build a web-service with a GET API end-point : **/recs** that takes `productid` as a parameter.  So in this case **/recs?productid=19** \n",
    "\n",
    "**Should return a JSON payload like:**\n",
    "\n",
    "```python\n",
    "{\n",
    "\n",
    "“status”: 200,\n",
    "\n",
    "“message”: “recommendations for PID : 19”, “data”:[8234,229,2031,3914,225,14349,8894,8227,14656,44,459,10337,8635,8230,10335,10336,10334,103 32,462,10324]\n",
    "\n",
    "}\n",
    "```\n",
    "\n",
    "Every `productid` provided in the file should receive a 200 response from the web service. For any other product ids, the service should return a 404 with an error in the message field and an empty list of data.  \n",
    "For other errors, the service should return a 500 response with an error in the message field and an empty list for data.  \n",
    "An easy solution would be to load the data provided into a key-value store like Redis database and building a small python flask-app for the web service.  \n",
    "\n",
    "You **don’t** need to build a visual interface for this.  \n",
    "\n",
    "You **don’t** need to worry about network security/access control for this.  \n",
    "\n",
    "**Required**  \n",
    "\n",
    "1. Functional Code.  \n",
    "2. Instructions to build/run code. \n",
    "3. Returns a response for every `productid` present in the provided file.  \n",
    "\n",
    "**Bonus Points** \n",
    "\n",
    "1. Application is dockerized.  \n",
    "2. Swagger docs are available.  \n",
    "\n",
    "This should take around 3-5 hours to complete. \n"
   ]
  },
  {
   "cell_type": "code",
   "execution_count": null,
   "id": "53f0d05e",
   "metadata": {},
   "outputs": [],
   "source": [
    "!git clone --branch thrive_market_1 https://github.com/interviewquery/takehomes.git\n",
    "%cd takehomes/thrive_market_1\n",
    "!if [[ $(ls *.zip) ]]; then unzip *.zip; fi\n",
    "!ls"
   ]
  },
  {
   "cell_type": "code",
   "execution_count": 1,
   "id": "fb9ba4f0",
   "metadata": {},
   "outputs": [],
   "source": [
    "# Write your code here"
   ]
  }
 ],
 "metadata": {
  "kernelspec": {
   "display_name": "Python 3",
   "language": "python",
   "name": "python3"
  },
  "language_info": {
   "codemirror_mode": {
    "name": "ipython",
    "version": 3
   },
   "file_extension": ".py",
   "mimetype": "text/x-python",
   "name": "python",
   "nbconvert_exporter": "python",
   "pygments_lexer": "ipython3",
   "version": "3.8.8"
  }
 },
 "nbformat": 4,
 "nbformat_minor": 5
}
