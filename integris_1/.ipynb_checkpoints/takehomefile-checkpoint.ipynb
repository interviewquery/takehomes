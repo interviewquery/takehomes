{
 "cells": [
  {
   "cell_type": "markdown",
   "metadata": {},
   "source": [
    "![Integris](logo.png)\n",
    "# Data Analyst Take Home\n",
    "\n",
    "Thank you for taking the next step in the interview process with us at\n",
    "Integris! We are looking forward to seeing some of your work and thought\n",
    "process first hand, and hope that you enjoy this exercise.\n",
    "\n",
    "Please do not spend more than 90 minutes on this exercise. If you\n",
    "    find that you have hit the 90-minute mark, please stop working and\n",
    "    send us what you have.\n",
    "\n",
    "\n",
    "Should you have any questions about this exercise, please reach out to\n",
    "us directly - we are always happy to help.\n",
    "\n",
    "Have some fun with this! We are excited to see what you come up with.\n",
    "\n",
    "Cheers!"
   ]
  },
  {
   "cell_type": "code",
   "execution_count": null,
   "metadata": {},
   "outputs": [],
   "source": [
    "# needed imports\n",
    "import numpy as np\n",
    "import pandas as pd"
   ]
  },
  {
   "cell_type": "markdown",
   "metadata": {},
   "source": [
    "### EDA Skills\n",
    "\n",
    "Below we provide you with a data set of people who took data science boot camps. Please answer the questions by providing python code"
   ]
  },
  {
   "cell_type": "code",
   "execution_count": null,
   "metadata": {},
   "outputs": [],
   "source": [
    "df = pd.read_csv('survey.csv')\n",
    "df.head()"
   ]
  },
  {
   "cell_type": "markdown",
   "metadata": {},
   "source": [
    "**Question 1**. Provide the number of rows and columns in this dataset."
   ]
  },
  {
   "cell_type": "code",
   "execution_count": null,
   "metadata": {},
   "outputs": [],
   "source": [
    "# write code here"
   ]
  },
  {
   "cell_type": "markdown",
   "metadata": {},
   "source": [
    "**Question 2.** Which columns had no missing values? Provide a set of column names that have no missing values."
   ]
  },
  {
   "cell_type": "code",
   "execution_count": null,
   "metadata": {},
   "outputs": [],
   "source": [
    "# write code here"
   ]
  },
  {
   "cell_type": "markdown",
   "metadata": {},
   "source": [
    "**Question 3.** Which columns have the most missing values?  Provide a set of column names that have more than 75% if their values missing."
   ]
  },
  {
   "cell_type": "code",
   "execution_count": null,
   "metadata": {},
   "outputs": [],
   "source": [
    "# write code here"
   ]
  },
  {
   "cell_type": "markdown",
   "metadata": {},
   "source": [
    "**Question 4.** Provide a pandas series of the different Professional status values in the dataset along with the count of the number of individuals with each status."
   ]
  },
  {
   "cell_type": "code",
   "execution_count": null,
   "metadata": {},
   "outputs": [],
   "source": [
    "# write code here"
   ]
  },
  {
   "cell_type": "markdown",
   "metadata": {},
   "source": [
    "**Question 5.** This data set has missing values in a number of columns. Please provide code for creating a dataset with no missing values. You can drop data, impute values, create catergorical values, create proxy variables, etc.  Please provide the code below and explantions for what you did."
   ]
  },
  {
   "cell_type": "code",
   "execution_count": null,
   "metadata": {},
   "outputs": [],
   "source": [
    "# write code here"
   ]
  },
  {
   "cell_type": "markdown",
   "metadata": {},
   "source": [
    "Provide explanations here; please keep answers thorough but concise.\n",
    "\n",
    "\n",
    "\n"
   ]
  },
  {
   "cell_type": "markdown",
   "metadata": {},
   "source": [
    "# Error Analysis\n",
    "\n",
    "A large portion of the role will be analyzing supervised/semi-supervised models. One way to do this is through error analysis. One way to conduct error analysis is gather a sample of N dev set examples that your system misclassified. (I.e., examples that your system made an error on.) Then in a spreadsheet, add columns for attributes that the misclassified examples may have and keep count. You may also add a comments column for uneasy to categorize attributes.\n",
    "\n",
    "Example) Say you are building a person detection system for a self-driving car (note: this example will be overly simplified). You collect 100 images from your dev set that were incorrectly classified and create a table (the first two entries of a potential table is below) (note: label 1 means person is detected, label 0 means no person was detected)"
   ]
  },
  {
   "cell_type": "markdown",
   "metadata": {},
   "source": [
    "<table >\n",
    "\t<tbody>\n",
    "\t\t<tr>\n",
    "\t\t\t<td> Image </td>\n",
    "\t\t\t<td> Description </td>\n",
    "\t\t\t<td> Label </td>\n",
    "\t\t\t<td> Raining </td>\n",
    "\t\t\t<td> Dog </td>\n",
    "\t\t\t<td> Pole </td>\n",
    "\t\t\t<td> Comment </td>\n",
    "\t\t</tr>\n",
    "\t\t<tr>\n",
    "\t\t\t<td> 1 </td>\n",
    "\t\t\t<td> person crossing the street in the rain with a dog</td>\n",
    "\t\t\t<td> 0 </td>\n",
    "\t\t\t<td> 1</td>\n",
    "\t\t\t<td> 1</td>\n",
    "\t\t\t<td> 0</td>\n",
    "\t\t\t<td> </td>\n",
    "\t\t</tr>\n",
    "\t\t<tr>\n",
    "\t\t\t<td> 2</td>\n",
    "\t\t\t<td> a pole on the corner of the crosswalk </td>\n",
    "\t\t\t<td> 1 </td>\n",
    "\t\t\t<td> 0</td>\n",
    "\t\t\t<td> 0 </td>\n",
    "\t\t\t<td> 1</td>\n",
    "\t\t\t<td> </td>\n",
    "\t\t</tr>\n",
    "\t</tbody>\n",
    "</table>"
   ]
  },
  {
   "cell_type": "markdown",
   "metadata": {},
   "source": [
    "This type of accounting can help us identify particular, generalizable weaknesses within our models, and then give us some insight into what actions we may want to undertake to improve."
   ]
  },
  {
   "cell_type": "markdown",
   "metadata": {},
   "source": [
    "### Open ended Questions:\n",
    "\n",
    "Please keep answers thorough but concise. Below are some error rates for a human detection system at the training set, training dev set, and dev set levels. Please explain what these error levels may say about the trained model and provide any insight you may have on actions that may help improve it. If you don't have enough information, explain what information is needed.\n",
    "\n",
    "Suppose humans achieve almost perfect performance (≈0% error) on the human detection task, and thus the optimal error rate is about 0%.\n",
    "\n",
    "#### Case 1: <br>\n",
    "• 1.5% error on the training set. <br>\n",
    "• 5.5% error on training dev set. <br>\n",
    "• 5.5% error on the dev set. <br>"
   ]
  },
  {
   "cell_type": "markdown",
   "metadata": {},
   "source": [
    "Provide Answer here:\n"
   ]
  },
  {
   "cell_type": "markdown",
   "metadata": {},
   "source": [
    "#### Case 2: <br>\n",
    "• 11% error on the training set. <br>\n",
    "• 12% error on training dev set. <br>\n",
    "• 13% error on the dev set. <br>"
   ]
  },
  {
   "cell_type": "markdown",
   "metadata": {},
   "source": [
    "Provide Answer here:\n"
   ]
  },
  {
   "cell_type": "markdown",
   "metadata": {},
   "source": [
    "##### Case 3: <br>\n",
    "• 10.5% error on the training set. <br>\n",
    "• 11.5% error on training dev set. <br>\n",
    "• 21% error on the dev set. <br>"
   ]
  },
  {
   "cell_type": "markdown",
   "metadata": {},
   "source": [
    "\n",
    "Provide Answer here:"
   ]
  }
 ],
 "metadata": {
  "kernelspec": {
   "display_name": "Python 3 (ipykernel)",
   "language": "python",
   "name": "python3"
  },
  "language_info": {
   "codemirror_mode": {
    "name": "ipython",
    "version": 3
   },
   "file_extension": ".py",
   "mimetype": "text/x-python",
   "name": "python",
   "nbconvert_exporter": "python",
   "pygments_lexer": "ipython3",
   "version": "3.10.5"
  }
 },
 "nbformat": 4,
 "nbformat_minor": 2
}
