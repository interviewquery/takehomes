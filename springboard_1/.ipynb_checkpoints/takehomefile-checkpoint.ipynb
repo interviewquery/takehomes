{
 "cells": [
  {
   "cell_type": "markdown",
   "id": "691b0975",
   "metadata": {},
   "source": [
    "![SpringBoard](logo.png)\n",
    "\n",
    "# Growth Analyst: Skills Assessment\n",
    "\n",
    "# Background \n",
    "\n",
    "Springboard would like to experiment with different payment options to\n",
    "determine which ones lead to highest student completion (and retention).\n",
    "There are two payment options under consideration:\n",
    "\n",
    "1.  **Upfront: ​**The student pays upfront for most or all of the course\n",
    "    in return for a discount\n",
    "\n",
    "2.  **Subscription:​** The student pays month-to-month for as long as\n",
    "    they take to complete the course, with an option to cancel at any\n",
    "    time\n",
    "\n",
    "Our courses typically have two structures:\n",
    "\n",
    "1. **Fixed-length:​** Students have to finish the course in a fixed\n",
    "amount of time \n",
    "2. **Self-paced:​** Students can take as long as they\n",
    "like, and pay as they go\n",
    "\n",
    "We have run a few different experiments in the past and have collected\n",
    "data around 3 of our courses. Here's some context about each of these\n",
    "courses.\n",
    "\n",
    "|Course|Type|Option available from|Default|Description|\n",
    "|---|---|---|---|---|\n",
    "|DAB|Fixed-length|Jan 2, 2017|Upfront|pay upfront for 3 months (10% discount)|\n",
    "|DS2|Self-paced|Jan 30, 2017|Subscription|pay upfront for 3 months (20% discount)|\n",
    "|DSC|Self-paced|Jan 2, 2017|Subscription|pay upfront for 6 months (20% discount)|\n",
    "\n",
    "The ​*Option available from​* column indicates the cohort for which both\n",
    "payment options were available. We have cohorts starting approximately every month.\n",
    "\n",
    "# Challenge \n",
    "\n",
    "`springboard.csv`​ contains the data we collected over a few\n",
    "months for each of these courses. Your task is to use this data to\n",
    "recommend to Springboard which payment option (if any) is the better\n",
    "one. Here are some questions to help you guide your analysis:\n",
    "\n",
    "1.  Do you have any hypotheses around why the choice of payment option\n",
    "    (upfront or subscription) should be correlated to completion rates?\n",
    "\n",
    "2.  Can you summarize and visualize the data in a compact manner,\n",
    "    preferably in as few charts as possible?\n",
    "\n",
    "3.  Can you draw any conclusions around whether one option is better\n",
    "    than the other? Does the course structure play a role?\n",
    "\n",
    "4.  What recommendations would you make to Springboard as a business?\n",
    "\n",
    "5.  What are some questions you'd want to explore further or experiments\n",
    "    that you'd recommend that Springboard runs?\n",
    "\n",
    "# Deliverables \n",
    "\n",
    "1.  A short notebook (About a 10 min read, excluding code) summarizing your analysis\n",
    "\n",
    "2.  Your actual analysis (spreadsheet, code, etc) described/included in the above notebook. You can use any tools\n",
    "    or languages of your choice.\n",
    "\n",
    "*Please treat this assignment as if you were a colleague. Please state any\n",
    "assumptions you make clearly in your submission.*\n"
   ]
  },
  {
   "cell_type": "code",
   "execution_count": null,
   "id": "6c248b2e",
   "metadata": {},
   "outputs": [],
   "source": [
    "# Write your code here"
   ]
  }
 ],
 "metadata": {
  "kernelspec": {
   "display_name": "Python 3 (ipykernel)",
   "language": "python",
   "name": "python3"
  },
  "language_info": {
   "codemirror_mode": {
    "name": "ipython",
    "version": 3
   },
   "file_extension": ".py",
   "mimetype": "text/x-python",
   "name": "python",
   "nbconvert_exporter": "python",
   "pygments_lexer": "ipython3",
   "version": "3.10.5"
  }
 },
 "nbformat": 4,
 "nbformat_minor": 5
}
