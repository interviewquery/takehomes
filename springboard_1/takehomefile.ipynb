  {
   "cell_type": "code",
   "execution_count": null,
   "id": "b1cf3a13",
   "metadata": {},
   "outputs": [],
   "source": [
    "!git clone --branch springboard_1 https://github.com/interviewquery/takehomes.git\n",
    "%cd takehomes/springboard_1\n",
    "!ls"
   ]
  },
