{
 "cells": [
  {
   "cell_type": "markdown",
   "id": "5756edc5",
   "metadata": {},
   "source": [
    "![logo.png](logo.png)\n",
    "\n",
    "\n",
    "## Data description \n",
    "\n",
    "The data provided shows records per activity. (One row is an activity) \n",
    "\n",
    "An  activity  is  defined  a  series  of  actions  in  a  game  that  complete  a  word  (Nonsensical  or otherwise; a full word or simply a letter) as requested by the game. If the child abandons play or never completes the action correctly as the game is expecting; that is not recorded.  \n",
    "\n",
    "As you might expect in real life; the data might not be perfect. We’ve also left some mistakes / anomalies stay in the data – to simulate what you might see.   \n",
    "\n",
    "The table provided has the following fields: \n",
    "\n",
    "\n",
    "- `id`: Identifier of the activity  \n",
    "\n",
    "- `childid`: Identifier for the child \n",
    "\n",
    "- `userid`: Identifier for the adult associated with the child \n",
    "\n",
    "- `gamename`: Name of the game being played in the activity (One of our 10 games) \n",
    "\n",
    "- `nonsensewords`: Is the word being played a nonsense word (Some games allow nonsense games) \n",
    "\n",
    "- `word`: Word being played \n",
    "\n",
    "- `wordtype`: type of word (Word or letter) \n",
    "\n",
    "- `createdat`: Time stamp of the activity  \n",
    "\n",
    "- `starttime`: Start time of the activity in seconds (UNIX time) \n",
    "\n",
    "- `endtime`: End time of the activity in seconds (UNIX time) \n",
    "\n",
    "- `start_ms_time`: start time of the activity in millisecond resolution \n",
    "\n",
    "- `end_ms_time`: end time of the activity in millisecond resolution \n",
    "\n",
    "- `duration`: The duration (in seconds) of the activity. This is the difference in of `end_ms_time` and `start_ms_time`  when  these  are  available  (Divided  by  1000);  else  difference  of  endtime  and starttime.  \n",
    "\n",
    "- `platform`: platform of the tablet used with the playset \n",
    "\n",
    "- `dnc`: “Do Not Consider”. You should only use rows where `dnc = 0`.  \n",
    "\n",
    "- `gender`: Gender of the child. Blank or null indicates the data was not recorded \n",
    "\n",
    "- `dateofbirth`: The child’s birthday if the adult recorded it \n",
    "\n",
    "\n",
    "## Questions:  \n",
    "\n",
    "1. **Sessions:** As you can see, children can have multiple activities on the same day. Some activities are close in time; while some are further apart.  \n",
    "   1. ‘Session-ize’ the activities: Can you group activities in a way to create sessions out of activities that are close together?  \n",
    "   1. How many activities per session on average (Over time)?  \n",
    "   1. How many different games do children play per session? \n",
    "1. **Retention:**  \n",
    "   1. Do children spend more time per day; or less once they get started?  \n",
    "   1. What’s a player’s lifetime? In other words, how many days does a child play our games?  \n",
    "   1. Do children play the same game they started playing with? What other games do they play?  \n",
    "   1. Per session; do they spend more time on the game(s) they started with or on other games? \n",
    "1. **Modeling:** \n",
    "   1. Can you create a model to predict if a child is likely to play our games in the next 7 days?  \n",
    "   1. Don’t need to create a model for this one, simply discuss: If you were to create a model to predict if the child will play our games in the next 14 days? Next 30 days? Which of the 3 models (7 day, 14 day, 30 day) would you say be the most accurate one? (How do you define accuracy) Why? \n",
    "   \n",
    "1. **“Interesting insights”:** Are there any insights from this data that you found interesting? If you did have unlimited time; how would you think about this question?  \n",
    "1. **“Clusters”:** Given the data – can you create personas / clusters of the children? The personas could have different uses, for example: \n",
    "1. Help the marketing team promote different games for different types of children. \n",
    "2. Help the education and product team understand what kind of games are played by which children. \n"
   ]
  },
  {
   "cell_type": "code",
   "execution_count": null,
   "id": "dae056fe",
   "metadata": {},
   "outputs": [],
   "source": [
    "!git clone --branch square_panda_1 https://github.com/interviewquery/takehomes.git\n",
    "%cd takehomes/square_panda_1\n",
    "!if [[ $(ls *.zip) ]]; then unzip *.zip; fi\n",
    "!ls"
   ]
  },
  {
   "cell_type": "code",
   "execution_count": 1,
   "id": "c9fe5961",
   "metadata": {},
   "outputs": [],
   "source": [
    "# Write your code here"
   ]
  }
 ],
 "metadata": {
  "kernelspec": {
   "display_name": "Python 3",
   "language": "python",
   "name": "python3"
  },
  "language_info": {
   "codemirror_mode": {
    "name": "ipython",
    "version": 3
   },
   "file_extension": ".py",
   "mimetype": "text/x-python",
   "name": "python",
   "nbconvert_exporter": "python",
   "pygments_lexer": "ipython3",
   "version": "3.8.8"
  }
 },
 "nbformat": 4,
 "nbformat_minor": 5
}
