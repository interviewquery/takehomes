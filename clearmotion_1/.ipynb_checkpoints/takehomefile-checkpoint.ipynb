{
 "cells": [
  {
   "cell_type": "markdown",
   "id": "0fb642d7",
   "metadata": {},
   "source": [
    "![clearmotion](logo.png)\n",
    "# Background\n",
    "\n",
    "With recorded vertical acceleration of different cars on a given road,\n",
    "we can accurately cancel it using feedforward control. For that purpose,\n",
    "we can map the road data in terms of road velocity and store the data in\n",
    "the server. However, instead of actually driving different cars on the\n",
    "same road and record their vertical accelerations, it is more efficient\n",
    "to train a neural network model for each car to predict the acceleration\n",
    "whenever some new road data is available through crowd-sourcing. In this\n",
    "assignment, you are asked to train such a model with given data.\n",
    "\n",
    "# Sample Data\n",
    "\n",
    "You can find two directories in this notebook, they are  and\n",
    "testing data, respectively. Each folder contains multiple CSV files, and\n",
    "each of them was extracted from a real drive session of the exact same\n",
    "car with same suspension controller settings.\n",
    "\n",
    "Each CSV file is organized as follows:\n",
    "\n",
    "|Variable Name|Description\n",
    "|---|---|\n",
    "|`time_offset`|Time stamp |\n",
    "|`speed`|Vehicle speed in $(\\rm km/\\rm h)$ |\n",
    "|`roadvel`|Road vertical velocity $(\\rm m/\\rm s)$ |\n",
    "|`body_acc`|Vertical acceleration |\n",
    "|`yaw_rate`|Rate of yaw rotation|\n",
    "\n",
    "Each row contains data collected at the corresponding time stamp. The\n",
    "sampling frequency is approximately 100 Hz.\n",
    "\n",
    "# Requirements\n",
    "\n",
    "Train a neural network that takes road velocity $(\\rm m/\\rm s)$ as input and\n",
    " generates vertical acceleration $(\\rm m/\\rm s^2)$ as output. \n",
    " \n",
    " Feel free to choose any machine learning packages you are familiar with (e.g., TensorFlow, Keras,\n",
    "PyTorch, MATLAB DL Toolbox, CNTK, etc.)\n",
    "\n",
    "Please provide code, figures, and summaries of your work.\n",
    "\n",
    "# Hints\n",
    "\n",
    "- It is possible to normalize velocity and acceleraiton using speed. For\n",
    " example, if you set a nominal speed to 20m/s. Then, velocity can be\n",
    " linearly normalized and acceleration can be quadratically normalized.\n",
    "\n",
    "- Very low speed data may not be useful since the vehicle dynamics are\n",
    "different than mid or high speed.\n",
    "\n",
    "- Also, large yaw rate indicates narrow turning, we are less interested\n",
    " in that data.\n",
    "\n",
    "- RNN (LSTM) is preferred but a feedforward network may also work.\n"
   ]
  },
  {
   "cell_type": "code",
   "execution_count": null,
   "id": "1ea2ecdf",
   "metadata": {},
   "outputs": [],
   "source": [
    "# write your code here"
   ]
  }
 ],
 "metadata": {
  "kernelspec": {
   "display_name": "Python 3 (ipykernel)",
   "language": "python",
   "name": "python3"
  },
  "language_info": {
   "codemirror_mode": {
    "name": "ipython",
    "version": 3
   },
   "file_extension": ".py",
   "mimetype": "text/x-python",
   "name": "python",
   "nbconvert_exporter": "python",
   "pygments_lexer": "ipython3",
   "version": "3.10.5"
  }
 },
 "nbformat": 4,
 "nbformat_minor": 5
}
