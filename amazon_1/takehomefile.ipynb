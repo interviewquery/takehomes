{
 "cells": [
  {
   "cell_type": "markdown",
   "id": "107567b0",
   "metadata": {},
   "source": [
    "![logo.png](logo.png)\n",
    "\n",
    "# Overview\n",
    "\n",
    "You are selling certain items at your store. Every once in a while you may experience shortage. In which case, you notify your customers when your inventory will be replenished. You want to know which percent of your customers are not waiting for the replenishment and buying the item elsewhere - lost sales due to shortage. (Note that some do wait for your replenishment which is expressed as a higher demand at the day of replenishment).\n",
    "\n",
    "![](https://cdn.mathpix.com/cropped/2022_09_14_28e45c346ad5b3be11fag-1.jpg?height=681&width=1632&top_left_y=527&top_left_x=252)\n",
    "\n",
    "**How would you find that out?**\n",
    "\n",
    "Simplifying assumptions:\n",
    "\n",
    "1. The demand has no trend and no seasonality.\n",
    "\n",
    "2. We may assume demand to follow the function $d_{t}=d+\\varepsilon_{t}$, where $\\varepsilon_{t}$ is the noise such that $\\varepsilon_{t} \\sim N\\left(0, \\sigma^{2}\\right)$. That is, the noise is symmetric and unbiased.\n",
    "\n",
    "3. Customers experiencing shortage that decide to come back, would only come back on the day of replenishment.\n",
    "\n",
    "4. Replenishment occurs in the beginning of days only.\n",
    "\n",
    "5. Each customer buys no more than 1 item"
   ]
  },
  {
   "cell_type": "code",
   "execution_count": 6,
   "id": "1e5acadb",
   "metadata": {},
   "outputs": [
    {
     "name": "stdout",
     "output_type": "stream",
     "text": [
      "[WinError 3] The system cannot find the path specified: 'takehomes/amazon_1'\n",
      "C:\\Users\\KC\\Desktop\\TakeHomes\\amazon_1\n"
     ]
    },
    {
     "name": "stderr",
     "output_type": "stream",
     "text": [
      "'git' is not recognized as an internal or external command,\n",
      "operable program or batch file.\n",
      "'ls' is not recognized as an internal or external command,\n",
      "operable program or batch file.\n",
      "$(ls was unexpected at this time.\n"
     ]
    }
   ],
   "source": [
    "!git clone --branch amazon_1 https://github.com/interviewquery/takehomes.git\n",
    "%cd takehomes/amazon_1\n",
    "!ls\n",
    "!if [[ $(ls *.zip) ]]; then unzip *.zip; fi"
   ]
  },
  {
   "cell_type": "code",
   "execution_count": null,
   "id": "3ffdedd6",
   "metadata": {},
   "outputs": [],
   "source": [
    "# Write your code here"
   ]
  }
 ],
 "metadata": {
  "kernelspec": {
   "display_name": "Python 3",
   "language": "python",
   "name": "python3"
  },
  "language_info": {
   "codemirror_mode": {
    "name": "ipython",
    "version": 3
   },
   "file_extension": ".py",
   "mimetype": "text/x-python",
   "name": "python",
   "nbconvert_exporter": "python",
   "pygments_lexer": "ipython3",
   "version": "3.8.8"
  }
 },
 "nbformat": 4,
 "nbformat_minor": 5
}
