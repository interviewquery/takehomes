{
 "cells": [
  {
   "cell_type": "markdown",
   "id": "ef31c1af",
   "metadata": {},
   "source": [
    "![Flowcast](logo.png)\n",
    "Please follow the instructions below to complete the data science\n",
    "challenge. We expect it to take no longer than 1-2 hours. However, for\n",
    "your convenience, we allow 24 hours from the time of receipt to submit\n",
    "your code.\n",
    "\n",
    "# Data Science Interview Challenge\n",
    "\n",
    "The goal of this challenge is to produce a sample of your machine\n",
    "learning skills as well as your ability to write clean, readable, and\n",
    "well-documented code.\n",
    "\n",
    "# Problem Statement \n",
    "\n",
    "You will use credit card transactions data to detect fraud. Fraud can\n",
    "take many forms, whether it is someone stealing a single credit card, to\n",
    "large batches of stolen credit card numbers being used on the web, or\n",
    "even a mass compromise of credit card numbers stolen from a merchant via\n",
    "tools like credit card skimming devices. Note that this dataset loosely\n",
    "resembles real transactional data, but the entities and relations within\n",
    "are purely fictional. Please complete the following tasks:\n",
    "\n",
    "1.  Load the data in `transactions.json`\n",
    "\n",
    "2.  Briefly describe the data structure, provide summary statistics, and\n",
    "    at least one plot.  ",
    "\n",
    "\n",
    "3.  Build a model to determine whether a given transaction is fraudulent\n",
    "    or not. Each of the transactions in the dataset has a field called\n",
    "    isFraud.  ",
    "\n",
    "\n",
    "    1.  Hint: This task should involve some feature engineering although\n",
    "        it can be limited.  ",
    "\n",
    "\n",
    "4.  Provide an evaluation of model performance. ",
    "\n",
    "\n",
    "5.  Document your solution. Hint: Documentation should include:  ",
    "\n",
    "\n",
    "    1.  Assumptions about the data ",
    "\n",
    "\n",
    "    2.  Explanations of methods i.e. algorithm used and why, what\n",
    "        features were important, and any alternative methods considered ",
    "\n",
    "\n",
    "    3.  Conclusions about your solution ",
    "\n",
    "\n",
    "    4.  Further steps you would take if given more time ",
    "\n",
    "\n",
    "# Important Guidelines \n",
    "\n",
    "Although your submission will be in a Python Notebook, we wish for you to use any\n",
    "tools you are comfortable with.\n",
    "\n",
    "To provide a fair evaluation, we ask that you:\n",
    "\n",
    "-   Refrain from receiving help from others on this challenge. ",
    "\n",
    "\n",
    "-   Stick to the time limit of 1-2 hours. We will evaluate your\n",
    "    submission knowing that you had limited time and expect a simple yet\n",
    "    complete and working solution.  ",
    "\n"
   ]
  },
  {
   "cell_type": "code",
   "execution_count": null,
   "id": "6961d971",
   "metadata": {},
   "outputs": [],
   "source": [
    "# Write your code here"
   ]
  }
 ],
 "metadata": {
  "kernelspec": {
   "display_name": "Python 3 (ipykernel)",
   "language": "python",
   "name": "python3"
  },
  "language_info": {
   "codemirror_mode": {
    "name": "ipython",
    "version": 3
   },
   "file_extension": ".py",
   "mimetype": "text/x-python",
   "name": "python",
   "nbconvert_exporter": "python",
   "pygments_lexer": "ipython3",
   "version": "3.10.5"
  }
 },
 "nbformat": 4,
 "nbformat_minor": 5
}
