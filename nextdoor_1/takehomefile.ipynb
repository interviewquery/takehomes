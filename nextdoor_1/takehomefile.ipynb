{
 "cells": [
  {
   "cell_type": "markdown",
   "id": "a625e9cc",
   "metadata": {},
   "source": [
    "\n",
    "![logo.png](logo.png)\n",
    "\n",
    "# Reference\n",
    "\n",
    "We have created the basis for a fictional company called Photogram.\n",
    "\n",
    "![table.png](table.png)\n",
    "\n",
    "\n",
    "## PART I\n",
    "\n",
    "For starters, let's get to know the data a bit. Write queries for:\n",
    "\n",
    "1. How many users are there?\n",
    "\n",
    "2. In which month did the most users join? \n",
    "\n",
    "3. Who has the most followers?\n",
    "\n",
    "\n",
    "## PART II\n",
    "\n",
    "\n",
    "Now let's plan a KPI dashboard.  Our KPI's will be:\n",
    "- users\n",
    "  - new users per day\n",
    "  - week over week change\n",
    "- photos\n",
    "  - avg photos per user\n",
    "  - week over week change  \n",
    "- followers\n",
    "  - % members with 0 followers\n",
    "  - % members with 1-2 followers\n",
    "  - % members with 3+ followers\n",
    "\n",
    "Even though the example tables are tiny, let's imagine that we are planning for a huge dataset.  \n",
    "\n",
    "Let's design a set of tables to serve our dashboard.\n",
    "\n",
    "\n",
    "## PART III\n",
    "\n",
    "Finally, let's write some queries to populate those tables on a daily basis.\n",
    "\n"
   ]
  },
  {
   "cell_type": "code",
   "execution_count": null,
   "id": "d2786a56",
   "metadata": {},
   "outputs": [],
   "source": [
    "!git clone --branch origin/nextdoor_1 https://github.com/interviewquery/takehomes.git\n",
    "%cd takehomes/nextdoor_1\n",
    "!if [[ $(ls *.zip) ]]; then unzip *.zip; fi\n",
    "!ls"
   ]
  },
  {
   "cell_type": "code",
   "execution_count": null,
   "id": "7bd575a1",
   "metadata": {},
   "outputs": [],
   "source": [
    "# Write your code here"
   ]
  }
 ],
 "metadata": {
  "kernelspec": {
   "display_name": "Python 3",
   "language": "python",
   "name": "python3"
  },
  "language_info": {
   "codemirror_mode": {
    "name": "ipython",
    "version": 3
   },
   "file_extension": ".py",
   "mimetype": "text/x-python",
   "name": "python",
   "nbconvert_exporter": "python",
   "pygments_lexer": "ipython3",
   "version": "3.8.8"
  }
 },
 "nbformat": 4,
 "nbformat_minor": 5
}
