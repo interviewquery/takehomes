{
 "cells": [
  {
   "cell_type": "markdown",
   "id": "f6136659",
   "metadata": {},
   "source": [
    "![Mya Systems](logo.png)\n",
    "# NLP CLUSTERING\n",
    "\n",
    "## Problem Statement\n",
    "\n",
    "With the enclosed data (`clustering_assignment.csv`), cluster the utterances using unsupervised\n",
    "learning techniques and explain the reasons for choice of algorithms you\n",
    "use. Assume there is noise in data. Identify important clusters and\n",
    "assign a suitable name to non-noise clusters.\n",
    "\n",
    "A stoplist for this project is included in `stoplist.txt`.\n"
   ]
  },
  {
   "cell_type": "code",
   "execution_count": null,
   "id": "0fb8ebff",
   "metadata": {},
   "outputs": [],
   "source": [
    "# Write your code here"
   ]
  }
 ],
 "metadata": {
  "kernelspec": {
   "display_name": "Python 3 (ipykernel)",
   "language": "python",
   "name": "python3"
  },
  "language_info": {
   "codemirror_mode": {
    "name": "ipython",
    "version": 3
   },
   "file_extension": ".py",
   "mimetype": "text/x-python",
   "name": "python",
   "nbconvert_exporter": "python",
   "pygments_lexer": "ipython3",
   "version": "3.10.5"
  }
 },
 "nbformat": 4,
 "nbformat_minor": 5
}
