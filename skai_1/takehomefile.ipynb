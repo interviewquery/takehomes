{
 "cells": [
  {
   "cell_type": "markdown",
   "id": "ab311aad",
   "metadata": {},
   "source": [
    "![logo.png](logo.png)\n",
    "\n",
    "\n",
    "### Goal\n",
    " \n",
    "The goal of this exercise is to evaluate conversion rate predictions by device for a set of entities.\n",
    "\n",
    "### Definitions\n",
    "\n",
    "Conversion rate (CVR)= the probability of a conversion event given a click event\n",
    "\n",
    "### Data\n",
    "\n",
    "The data is attached.\n",
    "\n",
    "The performance data (`performance-hw.csv`) contains the following columns:\n",
    "\n",
    "- `entity_id` = the ID of the entity (keyword)\n",
    "\n",
    "- `device` = the device that the clicks/conversions occurred on - (1- desktop and tablet, 2 - mobile 3 - unknown)\n",
    "\n",
    "- `Imps` = the number of impressions\n",
    "\n",
    "- `Clicks` = the number of clicks\n",
    "\n",
    "- `Conversions` = the number of conversions\n",
    "\n",
    "The estimations data (`estimations.csv`) contains the following columns:\n",
    "\n",
    "- `entity_id` = the ID of the entity\n",
    "\n",
    "- `is_mobile` = 1 if this is an estimation for mobile, blank otherwise (if the estimation is for desktop and tablet and unknown).\n",
    "\n",
    "- `CVR estimation 1` - Conversion rate estimation - 1\n",
    "\n",
    "- `CVR estimation 2` - Conversion rate estimation - 2\n",
    "\n",
    "The 2 CVR estimations were calculated based on daily performance data using 2 different algorithms.\n",
    "\n",
    "### Required analysis\n",
    "\n",
    "1. Which of the 2 estimations for the conversion rate has a lower error with respect to the real data? When all performance is taken into account? When only last week? When only the 10 / 7 / 16 ?\n",
    "\n",
    "2. Which method have you used to calculate the error? can you think of other methods?\n",
    "\n",
    "3. Do you get different results for the mobile and desktop estimations?\n",
    "4.  How do you think estimations were calculated for entities with no performance data?\n",
    "\n",
    "5. Can you build a model to predict the entities CVR based on the performance data? Can you explain why you picked this model and how you evaluated its accuracy.\n",
    "\n",
    "6. Can you find seasonality in the volume of the traffic, i.e. in the number of clicks or impressions? or seasonality in the CVR ? if so, how do you think it should affect the algorithm for CVR predictions?\n",
    "\n",
    "6. What has changed in terms of volume on the 29 / 6, and on the 11/7? Can you suggest why?\n",
    "\n",
    "7. Can you think why for some elements there are 0.1 conversion (or any other non-integer value) ? Do you think can there be more than 1 conversion per click ?"
   ]
  },
  {
   "cell_type": "code",
   "execution_count": null,
   "id": "133a0424",
   "metadata": {},
   "outputs": [],
   "source": [
    "!git clone --branch skai_1 https://github.com/interviewquery/takehomes.git\n",
    "%cd takehomes/skai_1 \n",
    "!if [[ $(ls *.zip) ]]; then unzip *.zip; fi\n",
    "!ls"
   ]
  },
  {
   "cell_type": "code",
   "execution_count": null,
   "id": "07177520",
   "metadata": {},
   "outputs": [],
   "source": [
    "# Write your code here"
   ]
  }
 ],
 "metadata": {
  "kernelspec": {
   "display_name": "Python 3",
   "language": "python",
   "name": "python3"
  },
  "language_info": {
   "codemirror_mode": {
    "name": "ipython",
    "version": 3
   },
   "file_extension": ".py",
   "mimetype": "text/x-python",
   "name": "python",
   "nbconvert_exporter": "python",
   "pygments_lexer": "ipython3",
   "version": "3.8.8"
  }
 },
 "nbformat": 4,
 "nbformat_minor": 5
}
