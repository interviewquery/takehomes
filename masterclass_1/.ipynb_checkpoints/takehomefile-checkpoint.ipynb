{
 "cells": [
  {
   "cell_type": "markdown",
   "id": "3a166389",
   "metadata": {},
   "source": [
    "![Masterclass](logo.png)\n",
    "# Project\n",
    "\n",
    "The `.csv` files in this repo contain a subset of data pertaining to\n",
    "users visiting the Gordon Ramsay MasterClass course marketing page for a\n",
    "certain period of time. This data is captured by Segment's analytics.js\n",
    "library and passed to Redshift, Amplitude, and other platforms. Please\n",
    "find more context on the data provided below.\n",
    "\n",
    "# Context \n",
    "This is data pulled from 11/1/2017 to 11/7/2017 of various\n",
    "activity by individuals who had visited the Gordon Ramsay course\n",
    "marketing page within the same period of time.\n",
    "\n",
    "# Relevant Pages\n",
    "\n",
    "-   [Homepage](https://www.masterclass.com/) ",
    "\n",
    "\n",
    "-   [Gordon Ramsay course marketing page](https://www.masterclass.com/classes/gordon-ramsay-teaches-cooking)\n",
    "    (also known as a marketing landing page)\n",
    "\n",
    "# Files\n",
    "\n",
    "-   `pages.csv` - major pageviews (homepage and course marketing page). ",
    "\n",
    "\n",
    "-   `homepage_click.csv` - any click on the homepage ",
    "\n",
    "\n",
    "-   `course_marketing_click.csv` - any click on the course marketing page\n",
    "    (except purchase click) ",
    "\n",
    "\n",
    "-   `purchase_click.csv` - any \"take the class/give as a gift\" purchase on\n",
    "    the course marketing page ",
    "\n",
    "\n",
    "-   `purchased_class.csv` - when a user purchases a class or an annual-pass.\n",
    "    When a user purchases multiple items, there will be one row per item\n",
    "    purchase.\n",
    "\n",
    "These tables can give you a story of where the user went after they\n",
    "landed and viewed one of our pages. Pages will give you an idea of where\n",
    "they viewed, and then `hompage_click` and `course_marketing_click` are\n",
    "clicks on those marketing pages. Then, once they begin the checkout\n",
    "process with purchase_click, they finalize the process with\n",
    "`purchased_class`.\n",
    "\n",
    "# Fields\n",
    "\n",
    "-   `anonymous_id` : an identifier given to unique device session ",
    "\n",
    "\n",
    "-   `received_at`: when the event or page view occurred ",
    "\n",
    "\n",
    "-   `location`: place on the page where the event occurred ",
    "\n",
    "\n",
    "-   `action`: descriptor given to event ",
    "\n",
    "\n",
    "-   `channel_grouping`: marketing bucket given to source of traffic ",
    "\n",
    "    -    `\"paid\"`: acquired via paid traffic ",
    "\n",
    "    -   `organic-social-pr`: free traffic via referrals, social networks, PR\n",
    "    stories, etc. ",
    "\n",
    "    -   `null`: equivalent to organics ",
    "\n",
    "\n",
    "-   `traffic_source`: origin of how the user came to the website ",
    "●\n",
    "- `ad_type`: type of ad (e.g. video) ",
    "\n",
    "\n",
    "-   `acquisition_type`: type of user that the marketing ad was intended\n",
    "    towards ",
    "\n",
    "\n",
    "-   `prospecting`: advertising to users who hadn't visited the website in\n",
    "    at least 14 days ",
    "\n",
    "-   `remarketing`: advertising to users who had visited the website in 14\n",
    "    days ",
    " \n",
    "- `lifecycle`: advertising to users who have made a purchase\n",
    "    and/or enrolled ",
    "\n",
    "\n",
    "We are looking for this Data Analyst to be both reactive and proactive.\n",
    "In this case, we want you to look at the data and pull insights about\n",
    "the user behavior. When finished, please compile your response in\n",
    "a Jupyter Notebook.\n"
   ]
  },
  {
   "cell_type": "code",
   "execution_count": null,
   "id": "58e70081",
   "metadata": {},
   "outputs": [],
   "source": [
    "# write your code here"
   ]
  }
 ],
 "metadata": {
  "kernelspec": {
   "display_name": "Python 3 (ipykernel)",
   "language": "python",
   "name": "python3"
  },
  "language_info": {
   "codemirror_mode": {
    "name": "ipython",
    "version": 3
   },
   "file_extension": ".py",
   "mimetype": "text/x-python",
   "name": "python",
   "nbconvert_exporter": "python",
   "pygments_lexer": "ipython3",
   "version": "3.10.5"
  }
 },
 "nbformat": 4,
 "nbformat_minor": 5
}
