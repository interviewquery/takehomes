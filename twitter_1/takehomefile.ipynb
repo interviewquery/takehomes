{
 "cells": [
  {
   "cell_type": "markdown",
   "id": "1e769608",
   "metadata": {},
   "source": [
    "![logo.png](logo.png)\n",
    "\n",
    "\n",
    "## Introduction  \n",
    "\n",
    "**The expected output for this take-home is as follows:** \n",
    "\n",
    "- A report that describes your findings.\n",
    "- The **Python or R** code you used to complete your analysis. Please show your work and include all steps that you performed along the way (eg EDA). \n",
    "\n",
    "**What we are looking for:** \n",
    "\n",
    "- Good code quality. \n",
    "- Good communication skills. A clear narrative around the results you are finding. An explanation of the methodology choices that you made and why. \n",
    "- Strong sense of ownership in how you approach the problems. Pretend this was your real job. How would you approach the problems in that case? \n",
    "\n",
    "\n",
    "## Part 1: Probability \n",
    "\n",
    "### Q1: Craps\n",
    "\n",
    "The casino game of craps is played as follows: \n",
    "\n",
    "1. The player rolls a pair of standard 6-sided dice and takes their sum \n",
    "   1. If the sum is 7 or 11, then the player wins and the game is over \n",
    "   1. If the sum is 2, 3, or 12, then the player loses (this is called “crapping out”) and the game is over \n",
    "   1. If the sum is anything else, then we record the sum (lets call it “X”) and continue to the next step \n",
    "1. The player then rerolls the dice and takes their sum \n",
    "1. If the sum is X, the player wins and the game is over \n",
    "1. If the sum is 7, the player loses and the game is over \n",
    "1. If the sum is anything else, repeat step 2. \n",
    "\n",
    "Now suppose that you notice something odd - one of the two dice isn’t balanced that well, and always comes up in the range 2-5 (with equal probability) but never 1 or 6.  \n",
    "\n",
    "1. For each number between 2 and 12, what is the probability of rolling the dice so that they sum to that number? \n",
    "1. What’s the probability of winning on the very first roll?  \n",
    "1. What’s the probability of losing (“crapping out”) on the very first roll? \n",
    "3. Suppose that on the first roll, you do not win or lose, but rather, you get the sum X, which has roll probability p. Given that you have already made it to this point, what’s your chance of winning going forward?  \n",
    "3. If you play the game of craps with these two dice, you will get one dollar if you win, and lose one dollar if you lose, then what is the expected return for playing the game? \n",
    "\n",
    "## Part 2: Experiment Analysis \n",
    "\n",
    "### Context\n",
    "\n",
    "Twitter provides a platform where businesses can create advertising *campaigns* to increase awareness of their brands or to increase adoption of their products or services. For this exercise, imagine we have a single ad product where advertisers pay us each time a user clicks on their ad.  \n",
    "\n",
    "Each campaign has a *budget* (how much money the advertiser is willing to spend during a period of time). An advertiser never has to pay more than their budget, so if we were to spend more than the campaign’s budget, we would not be able to bill the advertiser for the additional spend. This is called *overspending*. In practice it’s difficult to avoid overspending because there is a delay between when we send ads to users and when they actually click on those ads. Since Twitter only charges advertisers for actual clicks on their ads, the charges can enter into the system after some (random) delay. For example, suppose a campaign has $\\$10$ of budget remaining and the ad serving systems serves out 1000 ads, expecting 10 of them to generate a click resulting in $\\$1$ of revenue each. If, however, 20 ads end up generating clicks, we would receive $\\$20$ worth of events and not be able to bill the advertiser for $\\$10$ of that. Ultimately, this implies Twitter has “wasted” $\\$10$ worth of ad placements (say 500 in this example) and therefore has incurred a cost. \n",
    "\n",
    "Suppose that lately, we have been noticing an increase in overspend on the platform. In an attempt to reduce the amount of overspend, we decided to create a new product where advertisers pay each time their ad appears in a user’s viewport rather than each time it is clicked on -- presumably these engagements would be received at a lower latency. In order to test the new product, we ran an A/B test. We randomly split the advertisers on the platform. Half of the advertisers remained on the old product and half received the new product. A week later we have some data and want to determine whether or not the experiment  was a success.  \n",
    "\n",
    "### Data Schema\n",
    "\n",
    "Use the data in the attached CSV to answer the questions in the next section.  \n",
    "\n",
    "|Column |Type |Meaning |\n",
    "| - | - | :-|\n",
    "|`treatment` |bool |If true, the campaign is using the new product. If false, it is using the old product.  |\n",
    "|`company_size` |categorical |A small company is typically a local business, a medium company is a smaller national brand (e.g. Dell Computers), and a large company is a global brand (e.g. McDonalds). This is included because businesses of different sizes use Twitter ads in very different ways and may react differently to the new product.  |\n",
    "|`campaign_spend` |decimal |Campaign spend during the experiment |\n",
    "|`campaign_budget` |decimal |Campaign budget during the experiment |\n",
    "\n",
    "### Questions: \n",
    "\n",
    "There’s no specific structure or style that we expect from either output other than following your usual best practices. Please ensure that any figures or tables you include are clearly labelled and all relevant constituent components are legible. The audience for your report is product manager who is familiar with data science and experimentation practices and who wants to have an in-depth understanding of the results.  \n",
    "\n",
    "1. How many campaigns have overspend of greater than 1% of their budget in the control group? In the treatment group? \n",
    "1. Was the new product effective at reducing overspend, and was it more or less effective depending on the company size?  Put together an analysis describing how the treatment affected overspend.  \n",
    "1. A product manager on the team is concerned that certain advertisers in the treatment group are entering lower budgets because they are wary of the new product. Provide some evidence to support their suspicions, or show that any differences in budgets are likely due to random fluctuations.  \n"
   ]
  },
  {
   "cell_type": "code",
   "execution_count": null,
   "id": "f5e0334b",
   "metadata": {},
   "outputs": [],
   "source": [
    "!git clone --branch twitter_1 https://github.com/interviewquery/takehomes.git\n",
    "%cd takehomes/twitter_1\n",
    "!if [[ $(ls *.zip) ]]; then unzip *.zip; fi\n",
    "!ls"
   ]
  },
  {
   "cell_type": "code",
   "execution_count": 1,
   "id": "73bd140f",
   "metadata": {},
   "outputs": [],
   "source": [
    "# Write your code here"
   ]
  },
  {
   "cell_type": "code",
   "execution_count": null,
   "id": "9c038e25",
   "metadata": {},
   "outputs": [],
   "source": []
  }
 ],
 "metadata": {
  "kernelspec": {
   "display_name": "Python 3",
   "language": "python",
   "name": "python3"
  },
  "language_info": {
   "codemirror_mode": {
    "name": "ipython",
    "version": 3
   },
   "file_extension": ".py",
   "mimetype": "text/x-python",
   "name": "python",
   "nbconvert_exporter": "python",
   "pygments_lexer": "ipython3",
   "version": "3.8.8"
  }
 },
 "nbformat": 4,
 "nbformat_minor": 5
}
