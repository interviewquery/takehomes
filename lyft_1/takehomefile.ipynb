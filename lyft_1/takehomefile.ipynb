{
 "cells": [
  {
   "cell_type": "markdown",
   "id": "3f3112f5",
   "metadata": {},
   "source": [
    "![](logo.png)\n",
    "1. How do you define a driver that churned? What are the reasons? You should be able to assign `0` (not churn) or `1` (churn) in each unique driver. (100 words minimum)\n",
    "\n",
    "2. How do you calculate churn rate based on your first answer of churn? The solution must be calculated with the available data in `driver_ids.csv`, `ride_ids.csv`, and `ride_timestamps.csv` (100 words minimum)\n",
    "\n",
    "3. How to you cluster drivers into segments based on churn? (100 words minimum)\n",
    "\n",
    "4. How would you reduce churn? Is there any effect on the business? (50 words minimum)\n",
    "\n",
    "5. Come up with hypothesis to size the opportunity of reducing churn. Any effect on the business? (70 words minimum)\n"
   ]
  },
  {
   "cell_type": "code",
   "execution_count": null,
   "id": "fa0dd08e",
   "metadata": {},
   "outputs": [],
   "source": [
    "#write your code here"
   ]
  }
 ],
 "metadata": {
  "kernelspec": {
   "display_name": "Python 3 (ipykernel)",
   "language": "python",
   "name": "python3"
  },
  "language_info": {
   "codemirror_mode": {
    "name": "ipython",
    "version": 3
   },
   "file_extension": ".py",
   "mimetype": "text/x-python",
   "name": "python",
   "nbconvert_exporter": "python",
   "pygments_lexer": "ipython3",
   "version": "3.10.5"
  }
 },
 "nbformat": 4,
 "nbformat_minor": 5
}
