{
 "cells": [
  {
   "cell_type": "markdown",
   "id": "29066293",
   "metadata": {},
   "source": [
    "![logo.png](logo.png)\n",
    "\n",
    "# Overview\n",
    "\n",
    "In an effort to get a better understanding of your technical skill-set, problem-solving abilities and creativity, I’ve provided a short data challenge that we would like you to cover in no more than 3-5 hours. \n",
    "\n",
    "Attached is `pitches.zip`, containing all pitches from the 2011 season and the associated metadata describing the data (attached csv below). \n",
    "\n",
    "1. Please review the dataset and start outlining the way you would go about the model-building process with the eventual goal of predicting the probability of a fastball, slider, etc., in a real-time environment. \n",
    "\n",
    "2. We would like to see you build and evaluate a model that would be acceptable in a production environment after improvement. I understand actually delivering predictions with any degree of accuracy is unlikely in this short time span.  Additionally, please provide any associated data analysis (plots, graphs etc..), feature engineering and code assembled during the 3-5 hours.\n",
    "\n",
    "3. Lastly, please provide the future steps you would take from a data/technology perspective to finalize this project and the ways you would measure success. \n",
    "\n",
    "This is meant to be open-ended/creative project, so focus your time where you see best fit. \n"
   ]
  },
  {
   "cell_type": "code",
   "execution_count": null,
   "id": "a93d87a2",
   "metadata": {},
   "outputs": [],
   "source": [
    "!git clone --branch origin/swish_analytics_1 https://github.com/interviewquery/takehomes.git\n",
    "%cd takehomes/swish_analytics_1\n",
    "!if [[ $(ls *.zip) ]]; then unzip *.zip; fi\n",
    "!ls"
   ]
  },
  {
   "cell_type": "code",
   "execution_count": 2,
   "id": "b0b1c10d",
   "metadata": {},
   "outputs": [],
   "source": [
    "# Write your code here"
   ]
  }
 ],
 "metadata": {
  "kernelspec": {
   "display_name": "Python 3",
   "language": "python",
   "name": "python3"
  },
  "language_info": {
   "codemirror_mode": {
    "name": "ipython",
    "version": 3
   },
   "file_extension": ".py",
   "mimetype": "text/x-python",
   "name": "python",
   "nbconvert_exporter": "python",
   "pygments_lexer": "ipython3",
   "version": "3.8.8"
  }
 },
 "nbformat": 4,
 "nbformat_minor": 5
}
