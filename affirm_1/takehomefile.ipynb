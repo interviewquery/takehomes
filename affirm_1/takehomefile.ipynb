{
 "cells": [
  {
   "cell_type": "markdown",
   "id": "69ab64d2",
   "metadata": {},
   "source": [
    "![logo](logo.png)\n",
    "\n",
    "# Overview of the data\n",
    "\n",
    "## `funnel.csv` \n",
    "\n",
    "Data about events occurring on Affirm's checkout product (try it out at a merchant like [Casper](http://casper.com/) to get a sense for the flow) \n",
    "\n",
    "- `merchant_id:` Unique identifier for the merchant (links to `merchants.csv`)  \n",
    "- `user_id`: Unique identifier for the user (only populated after the user logins when ‘Loan Terms Run’ action takes place) \n",
    "- `checkout_id`: Unique identifier for a given checkout (links to `loans.csv`) \n",
    "- `action`: Name of the event, can be \"Checkout Loaded\" = checkout page was loaded, \"Loan Terms Run\" = user applied for a loan, \"Loan Terms Approved\" = user was approved for a loan, \"Checkout Completed\" = user took the loan for which they were approved \n",
    "- `action_date`: Date when the event happened \n",
    "\n",
    "## `loans.csv`\n",
    "\n",
    "Data on each loan from the ‘Completed Checkout’ action \n",
    "\n",
    "- `merchant_id`: Unique identifier for the merchant \n",
    "- `user_id`: Unique identifier for the user  \n",
    "- `checkout_id`: Unique identifier for a given checkout  \n",
    "- `checkout_date`: Date when checkout was completed \n",
    "- `loan_amount`: total amount of the loan \n",
    "- `user_first_capture`: first date the user took out a loan with Affirm (only populated if repeat Affirm user) \n",
    "- `user_dob_year`: year the user was born \n",
    "- `loan_length_months`: length of the loan in months \n",
    "- `mdr`: merchant discount rate (transaction rate charged to the merchant for each loan) \n",
    "- `apr`: annual percentage rate (interest rate charged to the user) \n",
    "- `fico_score`: score that measures a user’s risk, higher score means less risk (ranges from 300-850) \n",
    "- `loan_return_percentage`: The return Affirm saw on the loan (negative values mean the loan was not paid back in full) \n",
    "\n",
    "## `merchants.csv` \n",
    "\n",
    "Data on each merchant that integrates Affirm's checkout product \n",
    "\n",
    "- `merchant_id`: Unique identifier for the merchant \n",
    "- `merchant_name`: Name of the merchant \n",
    "- `category`: The merchant's industry \n",
    "\n",
    "# Questions\n",
    "\n",
    "1. **Please review the integrity of the data. Do you notice any data anomalies? If so, please describe them.**  \n",
    "2. **Calculate conversion through the funnel by day such that the data structure is the same as the table at the end of this document** \n",
    "\ta. **Please provide a SQL query you used or would use to calculate the application rate by merchant category (the merchant’s industry provided in `merchants.csv`).**  \n",
    "\n",
    "3. **Provide a set of recommendations on how to improve our business or product based on the attached dataset (assume we have roughly the same market penetration in each so that saturation isn’t a concern and assume revenue to Affirm = (`mdr` + `loan_return_percentage`). Please put together a Jupyter Notebook to the executive team with your recommendation.** \n",
    "\t1. ***This is intended to be fairly open-ended - there's no right or wrong answer. We're more concerned with your approach and the insights you uncover.*** \n",
    "\n",
    "4. **Choose one of the recommendations/insights you uncovered (in #3) and outline one experiment you would like to run to test your suggested product/business recommendation. Please state your hypothesis, describe how you would structure your experiment, list your success metrics and describe the implementation.** \n",
    "4. **Let's assume that the experiment you ran (in #4) proved your hypothesis was true. How would you suggest implementing the change on a larger scale? What are some operational challenges you might encounter and how would you mitigate their risk?** \n",
    "\n",
    "\n",
    "### Table for Question 2\n",
    "\n",
    "|Date |`num_loaded` |`num_applied`|`num_approved`|`num_confirmed`|`application_rate` |`approval_rate` |`confirmation_rate` |\n",
    "| --- | --- | --- | --- | --- | --- | --- | --- |\n",
    "|2016-05-01 |100 |80 |60 |30 |0.8 |0.75 |0.50 |\n",
    "|2016-05-02 |120 |90 |81 |63 |0.75 |0.90 |0.78 |"
   ]
  },
  {
   "cell_type": "code",
   "execution_count": null,
   "id": "4ed06658",
   "metadata": {},
   "outputs": [],
   "source": [
    "!git clone --branch affirm_1 https://github.com/interviewquery/takehomes.git\n",
    "%cd takehomes/affirm_1\n",
    "!ls"
   ]
  },
  {
   "cell_type": "code",
   "execution_count": null,
   "id": "d960caf4",
   "metadata": {},
   "outputs": [],
   "source": [
    "# Write your code here"
   ]
  }
 ],
 "metadata": {
  "kernelspec": {
   "display_name": "Python 3 (ipykernel)",
   "language": "python",
   "name": "python3"
  },
  "language_info": {
   "codemirror_mode": {
    "name": "ipython",
    "version": 3
   },
   "file_extension": ".py",
   "mimetype": "text/x-python",
   "name": "python",
   "nbconvert_exporter": "python",
   "pygments_lexer": "ipython3",
   "version": "3.9.2"
  }
 },
 "nbformat": 4,
 "nbformat_minor": 5
}
