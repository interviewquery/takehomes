  {
   "cell_type": "code",
   "execution_count": null,
   "id": "b1cf3a13",
   "metadata": {},
   "outputs": [],
   "source": [
    "!git clone --branch opendoor_1 https://github.com/interviewquery/takehomes.git\n",
    "%cd takehomes/opendoor_1\n",
    "!ls"
   ]
  },
