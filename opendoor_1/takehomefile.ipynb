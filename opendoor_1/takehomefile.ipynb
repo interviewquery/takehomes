{
 "cells": [
  {
   "cell_type": "markdown",
   "id": "77b9a4dd",
   "metadata": {},
   "source": [
    "![Opendoor](logo.png)\n",
    "# Opendoor Data Science Take Home Problem Set\n",
    "\n",
    "The questions below are meant to give candidates a sense of the problems\n",
    "that we tackle at Opendoor. We expect solutions in the form of a\n",
    "jupyter notebook + working code. The problem set should take around 3 hours to\n",
    "complete.\n",
    "\n",
    "# Part 1. Simple housing model \n",
    "\n",
    "Your task is to implement a simple model to predict home prices for a\n",
    "small real estate transactions dataset.\n",
    "\n",
    "## Instructions\n",
    "\n",
    "1.  Load the data in `data.csv`\n",
    "\n",
    "2.  Predict the close price as of list date given the other attributes.\n",
    "\n",
    "3.  Build separate models with and without ListPrice.\n",
    "\n",
    "4.  Feel free to join the dataset to any other data sources, so long as\n",
    "    they are not leaky.\n",
    "\n",
    "## Questions\n",
    "\n",
    "1.  Describe your methodology. Why did you pick it?\n",
    "\n",
    "2.  How well would you do if you excluded the list price?\n",
    "\n",
    "3.  What is the performance of your model? What error metrics did you\n",
    "    choose?\n",
    "\n",
    "4.  How would you improve your model?\n",
    "\n",
    "5.  How would you host your model in a production environment to predict\n",
    "    values of homes in real-time?\n",
    "\n",
    "# Part 2. Simple ​$n$-grams\n",
    "\n",
    "Generate the top 10 trigrams for the article\n",
    "[http://en.wikipedia.org/wiki/N-gram](http://en.wikipedia.org/wiki/N-gram)\n",
    "\n",
    "# Part 3. Memoizer \n",
    "\n",
    "Write a function that accepts a single-argument function ​`f`​, and an\n",
    "integer `k`​ ​, and returns a function that behaves the same as ​`f`​ except\n",
    "it caches the last ​`k`​ distinct accessed results of ​`f`​.\n",
    "\n",
    "For instance, if ​`memoize`​ is the function we're after, and let ​`mem_f =\n",
    "memoize(f, 2)`, then\n",
    "\n",
    "-   `mem_f(arg1)​` → `f(arg1)​` ​ is computed and cached\n",
    "\n",
    "-   `mem_f(arg1)` → `f(arg1)` is returned from cache\n",
    "\n",
    "-   `mem_f(arg2)` → `f(arg2)` ​is computed and cached\n",
    "\n",
    "-   `mem_f(arg3)` → `f(arg3)` ​is computed and cached, and ​`f(arg1)​` is\n",
    "    evicted\n",
    "\n",
    "## Additional questions\n",
    "\n",
    "-   Can you describe the efficiency of the memoizer?\n",
    "\n",
    "-   How does your memoizer handle concurrent access?\n"
   ]
  },
  {
   "cell_type": "code",
   "execution_count": null,
   "id": "d9c47429",
   "metadata": {},
   "outputs": [],
   "source": [
    "# Write your code here"
   ]
  }
 ],
 "metadata": {
  "kernelspec": {
   "display_name": "Python 3 (ipykernel)",
   "language": "python",
   "name": "python3"
  },
  "language_info": {
   "codemirror_mode": {
    "name": "ipython",
    "version": 3
   },
   "file_extension": ".py",
   "mimetype": "text/x-python",
   "name": "python",
   "nbconvert_exporter": "python",
   "pygments_lexer": "ipython3",
   "version": "3.10.5"
  }
 },
 "nbformat": 4,
 "nbformat_minor": 5
}
