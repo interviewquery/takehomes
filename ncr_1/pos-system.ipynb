{
 "cells": [
  {
   "cell_type": "markdown",
   "source": [
    "# TAKE-HOME Challenge: POS System TakeHome - Analytics and Engineering\n",
    "\n",
    "You are tasked to build a basic POS system which runs in the browser for\n",
    "easier development. For this take home, we expect at least surface\n",
    "level experience with Flask, SQL, and HTML.\n",
    "\n",
    "Here's a high-level representation of the architecture of this project.\n",
    "\n",
    "`[POS is accessed in frontend] -> [Information is sent as an HTTP request to Flask] ->\n",
    "[Flask interacts with the database to log the information]`\n",
    "\n",
    "The current architecture is simple, but rather a little lacking. For this\n",
    "project, you are tasked to create a robust POS system with analytics. Using the\n",
    "current template that we have provided, extend the functionality and add\n",
    "features such as inventory counting, combo generation, and more.\n",
    "\n",
    "Have a data pipeline that extracts the information from the database into\n",
    "a visualization tool such as Power BI and even Microsoft Excel.\n",
    "\n",
    "But before anything else, to initialize your environment, we will need to run\n",
    "our initialization script first. Be sure to have your ngrok token ready.\n",
    "If not, go to https://ngrok.com/ and create your account own. Go to the authtoken\n",
    "tab and copy paste the autoken in the system input."
   ],
   "metadata": {
    "collapsed": false
   }
  },
  {
   "cell_type": "code",
   "execution_count": null,
   "outputs": [],
   "source": [
    "# This is the initialization / orchestration script\n",
    "!git clone --branch ncr_1 https://github.com/interviewquery/takehomes.git\n",
    "%cd takehomes/ncr_1\n",
    "!wget https://bin.equinox.io/c/4VmDzA7iaHb/ngrok-stable-linux-amd64.zip\n",
    "!unzip ngrok-stable-linux-amd64.zip\n",
    "%run init.py"
   ],
   "metadata": {
    "collapsed": false
   }
  },
  {
   "cell_type": "markdown",
   "source": [
    "Now that you have the initialized initialized, let's run through the application. Here's a pseudo Model-View-Controller representation (not fully compliant with MVC) of the codebase.\n",
    "\n",
    "- **app.py** [Controller] contains the Flask server we exposed through ngrok. As long as you know the basics of Flask, you should be able to navigate through the files.\n",
    "\n",
    "- **sql.py** [Model] contains the wrapper to the SQLite driver. View the script to see the comments that document the methods and classes.\n",
    "\n",
    "- **templates/index.html** [View] contains the UI section of our project, and these are the files that you use to load the frontend.\n",
    "\n"
   ],
   "metadata": {
    "collapsed": false
   }
  },
  {
   "cell_type": "markdown",
   "source": [],
   "metadata": {
    "collapsed": false
   }
  },
  {
   "cell_type": "code",
   "execution_count": null,
   "outputs": [],
   "source": [
    "# Now run this to instance to start the server.\n",
    "%cd takehomes/ncr_1\n",
    "%run app.py"
   ],
   "metadata": {
    "collapsed": false
   }
  }
 ],
 "metadata": {
  "kernelspec": {
   "display_name": "Python 3",
   "language": "python",
   "name": "python3"
  },
  "language_info": {
   "codemirror_mode": {
    "name": "ipython",
    "version": 2
   },
   "file_extension": ".py",
   "mimetype": "text/x-python",
   "name": "python",
   "nbconvert_exporter": "python",
   "pygments_lexer": "ipython2",
   "version": "2.7.6"
  }
 },
 "nbformat": 4,
 "nbformat_minor": 0
}
