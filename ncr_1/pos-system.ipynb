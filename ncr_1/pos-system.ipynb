{
 "cells": [
  {
   "cell_type": "code",
   "execution_count": null,
   "outputs": [],
   "source": [
    "# Before anything else, try to run the init.py file to initialize the database\n",
    "# and to download all the necessary modules\n",
    "\n",
    "%run init.py\n",
    "!wget https://bin.equinox.io/c/4VmDzA7iaHb/ngrok-stable-linux-amd64.zip\n",
    "!unzip ngrok-stable-linux-amd64.zip\n",
    "!git clone --branch ncr_1 https://github.com/interviewquery/takehomes.git\n",
    "%cd ncr_1"
   ],
   "metadata": {
    "collapsed": false,
    "pycharm": {
     "is_executing": true
    }
   }
  },
  {
   "cell_type": "markdown",
   "source": [
    "Now that you have the initialized initialized, let's run through the application. Here's a pseudo Model-View-Controller representation (not fully compliant with MVC) of the codebase.\n",
    "\n",
    "- **app.py** [Controller] contains the Flask server we exposed through ngrok. As long as you know the basics of Flask, you should be able to navigate through the files.\n",
    "\n",
    "- **sql.py** [Model] contains the wrapper to the SQLite driver. View the script to see the comments that document the methods and classes.\n",
    "\n",
    "- **templates/index.html** [View] contains the UI section of our project, and these are the files that you use to load the frontend.\n",
    "\n"
   ],
   "metadata": {
    "collapsed": false
   }
  },
  {
   "cell_type": "markdown",
   "source": [
    "Before you are able to start the server, go to https://ngrok.com/ and create your account own. Go to authtoken and copy paste the autoken given to **ngrok.token**. This will allow you to host your website in an ngrok instance."
   ],
   "metadata": {
    "collapsed": false
   }
  },
  {
   "cell_type": "code",
   "execution_count": null,
   "outputs": [],
   "source": [
    "# Now run this to instance to start the server.\n",
    "%run app.py"
   ],
   "metadata": {
    "collapsed": false
   }
  }
 ],
 "metadata": {
  "kernelspec": {
   "display_name": "Python 3",
   "language": "python",
   "name": "python3"
  },
  "language_info": {
   "codemirror_mode": {
    "name": "ipython",
    "version": 2
   },
   "file_extension": ".py",
   "mimetype": "text/x-python",
   "name": "python",
   "nbconvert_exporter": "python",
   "pygments_lexer": "ipython2",
   "version": "2.7.6"
  }
 },
 "nbformat": 4,
 "nbformat_minor": 0
}
