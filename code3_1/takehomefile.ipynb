{
 "cells": [
  {
   "cell_type": "markdown",
   "id": "3d27e167",
   "metadata": {},
   "source": [
    "![code3](logo.png)\n",
    "# Inputs\n",
    "\n",
    "`CI_Analyst_-_input1.csv` contains 4 columns: `campaign_name`, `spend`, `impressions`, and\n",
    "`clicks`. Campaign name consists of a variable number of arguments,\n",
    "separated with the delimiter `\"_\"`, but all campaign names contain an\n",
    "age, cluster and device. Furthermore, the age is always the first\n",
    "element, the cluster is always the second, and the device always starts\n",
    "at the third. Some, but not all, campaign names contain a date stamp\n",
    "following the device, but this is not a part of the device name. For\n",
    "example, if the campaign name is `31-40_notarget_htc_one_1GB_9114` then\n",
    "the age is `\"31-40\"`, the cluster is `\"notarget\"`, the device is\n",
    "`\"htc_one_1GB\"`, and the campaign data is from 9-1-2014.\n",
    "\n",
    "`CI_Analyst_-_input2.csv` contains 3 columns: `campaign_name`, `actions`, and `object_type`. In\n",
    "this case, campaign name is always an age, cluster and device, separated\n",
    "by the delimiter `\"_\"`, but the order of the elements is variable.\n",
    "Actions contains a list of dictionaries, where each dictionary contains\n",
    "an `action_type` and a `value`. For example if a given campaign has the\n",
    "value `[{action_type:likes,value:12}]`, this means the campaign has 12\n",
    "likes.\n",
    "\n",
    "Note, `input1` can have multiple campaigns with same age, cluster and\n",
    "device (but different dates) while `input2` cannot.\n",
    "\n",
    "# Output\n",
    "\n",
    "Using python read in the two input files, map them on `key`, where `key` is\n",
    "`(age,cluster,device)` and create the following four tables, all with the\n",
    "same columns, and a totals row:\n",
    "\n",
    "1.  A table grouped by key\n",
    "\n",
    "2.  A table grouped by age\n",
    "\n",
    "3.  A table grouped by cluster\n",
    "\n",
    "4.  A table grouped by device\n",
    "\n",
    "Columns:\n",
    "\n",
    "1.  Spend\n",
    "\n",
    "2.  Impressions\n",
    "\n",
    "3.  Storied Engagements = Like + Comment + Share\n",
    "\n",
    "4.  CPVV = Spend / Video Views if object_type is Video, otherwise = 0\n",
    "\n",
    "5.  Count = Number of distinct campaign names from input1 per row\n",
    "\n",
    "Please export your results to XLSX, with one table per tab. Hint: If you\n",
    "are using pandas, this can be achieved easily with `df.to_excel()`. In\n",
    "addition to providing your final results please provide well-documented\n",
    "code, as well as a list of any assumptions made with regards to the data\n",
    "or process.\n"
   ]
  },
  {
   "cell_type": "code",
   "execution_count": null,
   "id": "3b82a55f",
   "metadata": {},
   "outputs": [],
   "source": [
    "# Write your code here"
   ]
  }
 ],
 "metadata": {
  "kernelspec": {
   "display_name": "Python 3 (ipykernel)",
   "language": "python",
   "name": "python3"
  },
  "language_info": {
   "codemirror_mode": {
    "name": "ipython",
    "version": 3
   },
   "file_extension": ".py",
   "mimetype": "text/x-python",
   "name": "python",
   "nbconvert_exporter": "python",
   "pygments_lexer": "ipython3",
   "version": "3.10.5"
  }
 },
 "nbformat": 4,
 "nbformat_minor": 5
}
