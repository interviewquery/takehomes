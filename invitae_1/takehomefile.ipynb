{
 "cells": [
  {
   "cell_type": "markdown",
   "id": "2c7b1c75",
   "metadata": {},
   "source": [
    "![logo.png](logo.png)\n",
    "\n",
    "# Overview\n",
    "\n",
    "This project prototypes a system for monitoring crypto currency prices and sentiment of Twitter messages surrounding the coins of interest. It is meant to be a homework exercise for Data Engineers interviewing at Invitae. We hope that our candidates will ask questions and treat this exercise as a chance to collaborate with Invitae's team prior to joining.\n",
    "\n",
    "## Tasks\n",
    "\n",
    "The immediate objective is to enable one core feature:\n",
    "\n",
    "-   Historical correlation view of sentiment to price.\n",
    "\n",
    "## Historical Correlation\n",
    "\n",
    "**Goal: Perform a correlation analysis on the historical sentiment and price data.**\n",
    "\n",
    "Use the provided data files to perform a correlation between cryptocurrency price and twitter sentiment. It should utilize the data in `historical_coin_data.txt` and `historical_sentiment_data.txt` to build the correlation.\n",
    "\n",
    "## Deliverables\n",
    "\n",
    "Either working code that takes this project to the \"next level\" or well-documented technical discussion of what work should be done.\n",
    "\n",
    "## Bonus Discussion Points:\n",
    "\n",
    "-   High-level discussion of architecture for productionizing this project. \n",
    "Consider the following:\n",
    "    -   moving to a real-time streaming architecture instead of batch\n",
    "        based\n",
    "\n",
    "## Contents\n",
    "\n",
    "The API consumer scipts:\n",
    "\n",
    "-   `historical_sentiment_data.txt` - a file containing twitter post\n",
    "    sentiments\n",
    "-   `historical_coin_data.txt` - a file containing trade information\n",
    "    (market prices)\n"
   ]
  },
  {
   "cell_type": "code",
   "execution_count": null,
   "id": "68e2f6cf",
   "metadata": {},
   "outputs": [],
   "source": [
    "!git clone --branch origin/invitae_1 https://github.com/interviewquery/takehomes.git\n",
    "%cd takehomes/invitae_1\n",
    "!if [[ $(ls *.zip) ]]; then unzip *.zip; fi\n",
    "!ls"
   ]
  },
  {
   "cell_type": "code",
   "execution_count": null,
   "id": "3c64da4c",
   "metadata": {},
   "outputs": [],
   "source": ["# Write your code here"]
  }
 ],
 "metadata": {
  "kernelspec": {
   "display_name": "Python 3",
   "language": "python",
   "name": "python3"
  },
  "language_info": {
   "codemirror_mode": {
    "name": "ipython",
    "version": 3
   },
   "file_extension": ".py",
   "mimetype": "text/x-python",
   "name": "python",
   "nbconvert_exporter": "python",
   "pygments_lexer": "ipython3",
   "version": "3.8.8"
  }
 },
 "nbformat": 4,
 "nbformat_minor": 5
}
