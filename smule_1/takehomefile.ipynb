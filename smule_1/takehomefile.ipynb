{
 "cells": [
  {
   "cell_type": "markdown",
   "id": "e00033c4",
   "metadata": {},
   "source": [
    "![logo.png](logo.png)\n",
    "\n",
    "## Analysis\n",
    "\n",
    "General assumptions – for each prompt, if you find the question vague or needing clarification, provide a few possibilities and keep going with the most reasonable continuation \n",
    "\n",
    "\n",
    "### Deck of Cards\n",
    "\n",
    "Suppose you to create a measurement and dashboard for how well-shuffled a deck of cards is. Suppose that shuffling will be done a very large number of times a day and, to maintain user confidence in our product, we have to make sure the results are absolutely fair\n",
    "\n",
    "**Please keep the following considerations in mind:**\n",
    "1.\tHow to report the data, what logging would you use?\n",
    "2.\tHow would you define “fairness” and how would you describe it in numerical form?\n",
    "3.\tWhat dashboard(s) would you use to present this data to Product?\n",
    "4.\tHow would you monitor the health of this metric? What are acceptable bounds?\n",
    "\n",
    "\n",
    "\n",
    "### Hairs on Head\n",
    "\n",
    "- What is the probability that at least two people in the USA have the same number of hairs on their heads?\n",
    "\n",
    "\n",
    "- What is the probability that someone else in the USA has the same number of hairs on their head as you?\n",
    "\n",
    "\n",
    "- What percent of people in the US has someone in the US that has the same number of hairs on their head as them?\n",
    " \n",
    " \n",
    " \n",
    "### SQL\n",
    "\n",
    "With the three tables provided below, please provide queries that answer these  questions. If you think there is a significantly more efficient method than the one you chose, please describe it and comment on your choice:\n",
    "\n",
    "1.\tHow many users installed?\n",
    "2.\tWhat proportion came through Paid channels?\n",
    "3.\tWhat was the average revenue per user generated between the day a user installed (Day 1) and seven days later (Day 8 Cumulative Revenue per User)? E.g. 1000 installs, 100 subscriptions, $\\$ 500 revenue,  $\\$0.50 RPU\n",
    "4.\tCalculate Day 2 retention based on the number of times a user sang on Day 1? E.g. -\n",
    "-\t50 users didn’t sing and had 30% Day 2 retention\n",
    "-\t100 users sang once and had 35% Day 2 retention\n",
    "5.\tWhat is the average time gap between “Singing” events on the same calendar date? Does this interval change as users sing more songs? E.g. -\n",
    "-\tUser 1 sang for the first time at 12:10 and sang for the second time at 12:30, so their time gap between Song 1 and Song 2 is 20 minutes.\n",
    "-\tUser 1 sang again at 12:40, so their second gap 10 minutes, their average gap is 15 minutes, and the gap shrank with after singing another song.\n",
    "\n",
    "`Users`\n",
    "- `user_id`\n",
    "- `install_date`\n",
    "- `channel` (‘Paid’, ‘Organic’)\n",
    "\n",
    "`Revenue`: One record for each subscription\n",
    "-\t`user_id`\n",
    "- `calendar_date`\n",
    "- `revenue` (in U.S. dollars e.g. - $9.99)\n",
    "\n",
    "`Events`: One record for each instance of these user actions (each time a user sings, each time user is active)\n",
    "-\t`user_id`\n",
    "-\t`calendar_date`\n",
    "-\t`event_name` (‘Singing’, ‘Active User’)\n",
    "-\t`timestamp`\n",
    "\n"
   ]
  },
  {
   "cell_type": "code",
   "execution_count": null,
   "id": "4480404b",
   "metadata": {},
   "outputs": [],
   "source": [
    "!git clone --branch smule_1 https://github.com/interviewquery/takehomes.git\n",
    "%cd takehomes/smule_1\n",
    "!if [[ $(ls *.zip) ]]; then unzip *.zip; fi\n",
    "!ls"
   ]
  },
  {
   "cell_type": "code",
   "execution_count": null,
   "id": "58261b7c",
   "metadata": {},
   "outputs": [],
   "source": [
    "# Write your code here"
   ]
  }
 ],
 "metadata": {
  "kernelspec": {
   "display_name": "Python 3",
   "language": "python",
   "name": "python3"
  },
  "language_info": {
   "codemirror_mode": {
    "name": "ipython",
    "version": 3
   },
   "file_extension": ".py",
   "mimetype": "text/x-python",
   "name": "python",
   "nbconvert_exporter": "python",
   "pygments_lexer": "ipython3",
   "version": "3.8.8"
  }
 },
 "nbformat": 4,
 "nbformat_minor": 5
}
