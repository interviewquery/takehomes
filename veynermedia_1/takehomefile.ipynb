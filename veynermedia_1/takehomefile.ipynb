{
 "cells": [
  {
   "cell_type": "markdown",
   "id": "6f57f831",
   "metadata": {},
   "source": [
    "![logo.png](logo.png)\n",
    "\n",
    "# Instructions\n",
    "\n",
    "The goal of this exercise is to simulate the creation of a report by\n",
    "merging two datasets together and drawing some basic insights. Given\n",
    "the stated assumptions, please provide your answers to the following 4\n",
    "questions, as well as your code. Use of python, particularly with\n",
    "Pandas is encouraged.\n",
    "\n",
    "**Source1.csv:**\n",
    "\n",
    "-   Each “campaign” contains three elements, separated by the\n",
    "    delimiter “_”. The first element represents an initiative, the\n",
    "    second represents an audience, and the third represents an asset.\n",
    "\n",
    "    -   “`A_B_C`” means the initiative is A, the audience is B and the\n",
    "        asset is C.\n",
    "\n",
    "-   Each “`actions`” value contains a list of dictionaries, where each\n",
    "    element has an action and a type.\n",
    "\n",
    "    For example {\"x\": 63, \"action\":\n",
    "    \"like\"} means that there were 63 likes of type x.\n",
    "\n",
    "**Source2.csv**\n",
    "\n",
    "-   Each “`campaign`” contains the same three elements (initiative,\n",
    "    audience, asset), separated by the same delimiter “_”, but in this\n",
    "    case the order of the elements is random.\n",
    "\n",
    "## Assumptions:\n",
    "\n",
    "-   A “`campaign`” is a unique combination of Initiative, Asset and\n",
    "    Audience\n",
    "\n",
    "-   CPM = spend/impressions * 1000\n",
    "\n",
    "-   CPV = spend/views **ONLY** for campaigns with an `object_type` of video.\n",
    "    Ignore spend and views for all other `object_types` in\n",
    "    calculating CPV.\n",
    "\n",
    "-   All campaigns are represented for each day in `source1.csv`\n",
    "\n",
    "-   There may be missing or duplicate campaigns in `source2.csv`\n",
    "\n",
    "-   For all questions, ignore actions that aren’t of type X or Y.\n",
    "\n",
    "### Questions:\n",
    "\n",
    "1.  How many unique campaigns ran in February?\n",
    "\n",
    "2.  What is the total number of conversions on plants?\n",
    "\n",
    "3.  What audience, asset combination had the least expensive\n",
    "    conversions?\n",
    "\n",
    "4.  What was the total cost per video view?\n"
   ]
  },
  {
   "cell_type": "code",
   "execution_count": null,
   "id": "ad03b0c9",
   "metadata": {},
   "outputs": [],
   "source": [
    "!git clone --branch veynermedia_1 https://github.com/interviewquery/takehomes.git\n",
    "%cd takehomes/veynermedia_1\n",
    "!if [[ $(ls *.zip) ]]; then unzip *.zip; fi\n",
    "!ls"
   ]
  },
  {
   "cell_type": "code",
   "execution_count": null,
   "id": "19892273",
   "metadata": {},
   "outputs": [],
   "source": [
    "# Write your code here"
   ]
  }
 ],
 "metadata": {
  "kernelspec": {
   "display_name": "Python 3",
   "language": "python",
   "name": "python3"
  },
  "language_info": {
   "codemirror_mode": {
    "name": "ipython",
    "version": 3
   },
   "file_extension": ".py",
   "mimetype": "text/x-python",
   "name": "python",
   "nbconvert_exporter": "python",
   "pygments_lexer": "ipython3",
   "version": "3.8.8"
  }
 },
 "nbformat": 4,
 "nbformat_minor": 5
}
