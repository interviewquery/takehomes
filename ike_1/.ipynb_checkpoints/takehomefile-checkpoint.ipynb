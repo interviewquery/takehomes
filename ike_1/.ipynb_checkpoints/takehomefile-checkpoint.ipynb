{
 "cells": [
  {
   "cell_type": "markdown",
   "id": "40a7891b",
   "metadata": {},
   "source": [
    "![Ike](logo.png)\n",
    "\n",
    "# Data Science @ Ike: Homework Introduction \n",
    "\n",
    "This is a hypothetical exercise relevant to the Data Science position\n",
    "here at Ike. The purpose of the exercise is twofold:\n",
    "\n",
    "1.  Provide a flavor of the type of work that will be involved in the\n",
    "    position\n",
    "\n",
    "2. Provide material that may be used for more detailed discussions in\n",
    "    on-site visits.\n",
    "\n",
    "# Guidelines\n",
    "\n",
    "-   Please use whatever analysis tools, references, and documentation\n",
    "    styles you prefer.\n",
    "\n",
    "-   Please focus on describing the approach (e.g. \"This is how I would\n",
    "    approach this\") rather than arriving at a complete solution.\n",
    "\n",
    "-   We hope you have fun! Unconventional ideas and approaches are\n",
    "    welcome!\n",
    "\n",
    "-   Please include code along with any writeup of results/conclusions\n",
    "    (ipython notebooks are great!)\n",
    "\n",
    "# Estimating mean distance to failure \n",
    "\n",
    "## Background\n",
    "High cross-winds present a danger to long-haul truck\n",
    "drivers. High winds have the capacity to cause tractor-trailer\n",
    "rollovers. These are especially pernicious because they are often\n",
    "difficult to anticipate and very difficult to mitigate.\n",
    "\n",
    "## Exercise \n",
    "Imagine that as part of our fleet safety evaluation, we would\n",
    "like to estimate the mean distance to failure (similar to a mean time to\n",
    "failure) for the failure case of a rollover caused by crosswind. For\n",
    "this hypothetical example, assume that we would like to operate in\n",
    "central Canada along Highway 1 between Calgary and Winnipeg.\n",
    "\n",
    "Using publicly available weather data, please estimate the frequency\n",
    "    of high wind events that could potentially cause rollover conditions\n",
    "    (frequency can be measured in hours of operation per year). Is there\n",
    "    significant geographic, diurnal, or seasonal variation?\n",
    "\n",
    "1. Historical weather can be retrieved as csv downloads from a web interface at:\n",
    "[http://climate.weather.gc.ca/historical_data/search_historic_data_e.html](http://climate.weather.gc.ca/historical_data/search_historic_data_e.html)\n",
    "Feel free to use other data sources or methods of data retrieval. \n",
    "\n",
    "2. Not all weather stations report wind speed. Stations WINNIPEG A CS and\n",
    "    CALGARY INT'L CS have reasonably good wind reporting as do most\n",
    "    airports. Also note that max wind gusts are included in daily reports,\n",
    "    but not hourly reports. To find the wind threshold that corresponds to\n",
    "    rollover risk, feel free to use citations/references rather than\n",
    "    performing the calculation.\n",
    "\n",
    "3.  Using publicly available analysis and data, please provide an\n",
    "    estimate of a mean distance to failure for wind-induced rollover\n",
    "    events for our hypothetical lane along Highway 1 between Calgary and\n",
    "    Winnipeg. Please use existing literature to generate a rough\n",
    "    understanding of historical incident rates, then create a\n",
    "    statistical argument to convert this into an estimate of the mean\n",
    "    distance to failure. (A mean time to failure estimate can be used as\n",
    "    well.) Please include a description of your assumptions as well as\n",
    "    the associated math.\n"
   ]
  },
  {
   "cell_type": "code",
   "execution_count": null,
   "id": "f3df40e7",
   "metadata": {},
   "outputs": [],
   "source": [
    "# write your code here"
   ]
  }
 ],
 "metadata": {
  "kernelspec": {
   "display_name": "Python 3 (ipykernel)",
   "language": "python",
   "name": "python3"
  },
  "language_info": {
   "codemirror_mode": {
    "name": "ipython",
    "version": 3
   },
   "file_extension": ".py",
   "mimetype": "text/x-python",
   "name": "python",
   "nbconvert_exporter": "python",
   "pygments_lexer": "ipython3",
   "version": "3.10.5"
  }
 },
 "nbformat": 4,
 "nbformat_minor": 5
}
