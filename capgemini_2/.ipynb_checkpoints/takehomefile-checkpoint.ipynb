{
 "cells": [
  {
   "cell_type": "markdown",
   "id": "a0662888",
   "metadata": {},
   "source": [
    "![Capgemini](logo.png)\n",
    "\n",
    "# Purpose \n",
    "\n",
    "The team has asked that you prepare a 20 to 30-minute presentation (in this notebook) on one of the topics from below. The purpose of this\n",
    "exercise is to demonstrate your ability to draw insights from data, put\n",
    "insights in business-friendly format and confirm coding knowledge. These\n",
    "topics are similar in nature to projects we run. Please make sure that\n",
    "your presentation is accessible to a general technical audience (aside from the sections of code, of course). \n",
    "\n",
    "\n",
    "# Data \n",
    "\n",
    "**Movie Revenue Prediction**  ",
    "\n",
    "\n",
    "Your client is a movie studio and they need to be able to predict\n",
    "movie revenue in order to greenlight the project and assign a budget\n",
    "to it. Most of the data is comprised of categorical variables. While\n",
    "the budget for the movie is known in the dataset it is often an\n",
    "unknown variable during the greenlighting process. The data is contained in `Movie_Revenue_Predictions.csv`.\n",
    "\n",
    "# Deliverables \n",
    "Your notebook should contain:\n",
    "\n",
    "1.  Description of the problem; state what you are solving/ analyzing\n",
    "2.  Presentation of insights/conclusion you generate\n",
    "3.  Relevant descriptive statistics (charts, graphs, etc.) \n",
    "4.  Specification of predictive model (mathematical formulation)\n",
    "5.  Relevant model diagnostics\n",
    "6.  Model interpretation (what do the coefficients mean, how do you use\n",
    "    them?)\n",
    "7.  Please specify language, packages and libraries used to develop your\n",
    "    solution\n",
    "\n",
    "# Evaluation Criteria \n",
    "\n",
    "- Presentation on analysis conducted that covers business outcomes and statistical methodologies\n",
    "- Preform exploratory data analysis to gather starting insights and conclusions\n",
    "- Selection of ML/Predictive modeling technique(s) & feature extraction\n",
    "- Knowledge with data ingestion tools/languages\n",
    "- Ability to conduct appropriate data cleansing if any\n",
    "- Ability to code in open source languages\n",
    "\n",
    "# Rules \n",
    "\n",
    "- Use any open source language of your choice\n",
    "\n",
    "- Solution you provide should be your own. Reference any material desired.\n",
    "\n",
    "- Be prepared to discuss your code in-depth (what it does, how it does it etc.)\n",
    "\n",
    "- Utilize any statistical or ML technique(s) you deem relevant. For\n",
    "each technique that you use, be prepared to talk about model\n",
    "diagnostics, results, and mathematics behind your technique(s).\n",
    "\n",
    "- No time limit on developing your solution. Let us know when you are ready.\n"
   ]
  },
  {
   "cell_type": "code",
   "execution_count": null,
   "id": "374c3b5a",
   "metadata": {},
   "outputs": [],
   "source": [
    "# Write your code here"
   ]
  }
 ],
 "metadata": {
  "kernelspec": {
   "display_name": "Python 3 (ipykernel)",
   "language": "python",
   "name": "python3"
  },
  "language_info": {
   "codemirror_mode": {
    "name": "ipython",
    "version": 3
   },
   "file_extension": ".py",
   "mimetype": "text/x-python",
   "name": "python",
   "nbconvert_exporter": "python",
   "pygments_lexer": "ipython3",
   "version": "3.10.5"
  }
 },
 "nbformat": 4,
 "nbformat_minor": 5
}
