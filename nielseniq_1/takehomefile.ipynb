{
 "cells": [
  {
   "cell_type": "markdown",
   "id": "7b241c11",
   "metadata": {},
   "source": [
    "![logo.png](logo.png)\n",
    "\n",
    "## Overview\n",
    "\n",
    "There are two types of text strings split into two files: human.txt, and machine.txt\n",
    "\n",
    "**Please note:**  Each line is considered a unique data point.\n",
    "\n",
    "Using these two sets of data, make a model to classify the two sets, i.e. given a new point, it will determine which is the appropriate label.  You can use any combination of techniques and/or metrics that you like. \n",
    "\n",
    "\n",
    "### Guidelines\n",
    "At the end you will be asked to submit your code and a presentation.  Again, this can be in any format that you like.   If you feel most comfortable combining the presentation with the code, then a single Jupyter notebook is completely acceptable.  We will mainly be interested in justifications for choices of method and metrics as well as any analysis that guided these choices.  Final model accuracy will not play a strong role in our assessment, but the code itself will be considered for the decision to move to the final round.\n",
    "\n",
    "When finished, please zip your files in a single folder.\n"
   ]
  },
  {
   "cell_type": "code",
   "execution_count": 1,
   "id": "a9a7e818",
   "metadata": {},
   "outputs": [],
   "source": [
    "!git clone --branch nielseniq_1 https://github.com/interviewquery/takehomes.git\n",
    "%cd takehomes/nielseniq_1\n",
    "!if [[ $(ls *.zip) ]]; then unzip *.zip; fi\n",
    "!ls"
   ]
  },
  {
   "cell_type": "code",
   "execution_count": null,
   "id": "044051f7",
   "metadata": {},
   "outputs": [],
   "source": [
    "# Write your code here"
   ]
  }
 ],
 "metadata": {
  "kernelspec": {
   "display_name": "Python 3",
   "language": "python",
   "name": "python3"
  },
  "language_info": {
   "codemirror_mode": {
    "name": "ipython",
    "version": 3
   },
   "file_extension": ".py",
   "mimetype": "text/x-python",
   "name": "python",
   "nbconvert_exporter": "python",
   "pygments_lexer": "ipython3",
   "version": "3.8.8"
  }
 },
 "nbformat": 4,
 "nbformat_minor": 5
}
