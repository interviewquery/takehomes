{
 "cells": [
  {
   "cell_type": "markdown",
   "id": "b372ac60",
   "metadata": {},
   "source": [
    "![Instacart](logo.png)\n",
    "# Data Analyst Challenge\n",
    "\n",
    "## Directions\n",
    "\n",
    "We'd love for you to analyze the data in `data.csv` and share what you find. We know\n",
    "that you don't know much about how our team currently is run, but that's\n",
    "okay. This data set includes information on orders, order location,\n",
    "customer ratings, and any issues reported by the customer for a set of\n",
    "orders.\n",
    "\n",
    "1. Please analyze the data in the adjacent tab and share with us the\n",
    "\n",
    "    1. any observations about our business.\n",
    "\n",
    "    1. How would you staff the Customer Support Team?\n",
    "\n",
    "Please compile your analysis into a document or deck to convey your\n",
    "findings. Use the Data Set as necessary to substantiate your claims.\n"
   ]
  },
  {
   "cell_type": "code",
   "execution_count": null,
   "id": "fb44ed51",
   "metadata": {},
   "outputs": [],
   "source": [
    "#write your code here"
   ]
  }
 ],
 "metadata": {
  "kernelspec": {
   "display_name": "Python 3 (ipykernel)",
   "language": "python",
   "name": "python3"
  },
  "language_info": {
   "codemirror_mode": {
    "name": "ipython",
    "version": 3
   },
   "file_extension": ".py",
   "mimetype": "text/x-python",
   "name": "python",
   "nbconvert_exporter": "python",
   "pygments_lexer": "ipython3",
   "version": "3.10.5"
  }
 },
 "nbformat": 4,
 "nbformat_minor": 5
}
