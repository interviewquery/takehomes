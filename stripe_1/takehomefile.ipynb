{
 "cells": [
  {
   "cell_type": "markdown",
   "id": "322d4b4c",
   "metadata": {},
   "source": [
    "![logo.png](logo.png)\n",
    "\n",
    "\n",
    "\n",
    "## Assignment\n",
    "\n",
    "You are leading a project to analyze product performance at Stripe. We at Stripe are most interested in how the products are performing and growing as well as how to prioritize our product development efforts to maximize our growth. You have been provided an initial cut of data on a few flagship products, each of which is targeted at a specific user segment. From the data you've been given, please prepare a short presentation detailing your findings. \n",
    "\n",
    "**Product Usage Table:**\n",
    "\n",
    "|Label| Description|\n",
    "| - | :- |  \n",
    "| `merchant` | This is the unique ID of each Stripe user |\n",
    "|`date` | Data is aggregated up to the month level for each Stripe user.|\n",
    "|`product` | This is the Stripe product that the user is using to charge their customers.|\n",
    "|`event` | This is an action within a product. For more details on how products are used, see \"segment details\" below|\n",
    "|`count of events` |       |\n",
    "|`usd_amount` |Total amount in cents and USD that was processed for that API call|\n",
    "\n",
    "**Segment Table:**\n",
    "\n",
    "This is a mapping of merchant IDs to the user segmentation we have.\n",
    "\n",
    "|Label| Description|\n",
    "| - | :- | \n",
    "|`saas`| These businesses serve SaaS products which means they primarily charge their customers on a recurring basis (usually   monthly). We want them to use our Subscriptions payments product to charge regularly on a time interval.|\n",
    "|`ecommerce` | These businesses use Stripe's shopping cart product and primarily sell physical or digital goods online. |\n",
    "|`platforms` | These users are platforms upon which other users can sign up and charge for services through the Stripe API. Examples would include ridesharing services, delivery services, etc. (e.g. Lyft, Task Rabbit, Instacart) |\n",
    "\n",
    "\n",
    "## Segment Details\n",
    "\n",
    "### SaaS\n",
    "\n",
    "SaaS users have two options when they process recurring payments. The recurring payments product allows them to schedule automatically recurring payments on a fixed schedule, but the merchants can also manually create charges on Stripe for their recurring payments. Our hope with the recurring payments product is to make it easy for all users to automate their payments. The product was launched in May 2013. \n",
    "\n",
    "### E-Commerce Store\n",
    "\n",
    "Our shopping cart product enables online e-commerce stores to sell goods. We track details on their website around the conversion funnel and actions that customers take. We can see when an item is viewed, added to the cart, when the checkout flow is initiated, and when it is completed with a payment submitted. \n",
    "\n",
    "### Platforms \n",
    "\n",
    "Our Marketplace product allows platforms to charge on behalf of other users and payout funds to each end automatically.\n",
    "\n",
    "\n",
    "\n",
    "### Questions to guide thinking:\n",
    "\n",
    "1. How are each of Stripe's products and segments performing and where are they headed?\n",
    "\n",
    "2. Are there any issues with the products that we should address?\n",
    "\n",
    "3. Given more time and access to more data, what would you want to dig deeper on?\n",
    "\n",
    "4. How should we prioritize development for different products, given our limited resources?\n",
    "\n",
    "\n"
   ]
  },
  {
   "cell_type": "code",
   "execution_count": null,
   "id": "cfb851c5",
   "metadata": {},
   "outputs": [],
   "source": [
    "!git clone --branch stripe_1 https://github.com/interviewquery/takehomes.git\n",
    "%cd takehomes/stripe_1\n",
    "!if [[ $(ls *.zip) ]]; then unzip *.zip; fi\n",
    "!ls"
   ]
  },
  {
   "cell_type": "code",
   "execution_count": null,
   "id": "ff0b46df",
   "metadata": {},
   "outputs": [],
   "source": [
    "# Write your code here"
   ]
  }
 ],
 "metadata": {
  "kernelspec": {
   "display_name": "Python 3",
   "language": "python",
   "name": "python3"
  },
  "language_info": {
   "codemirror_mode": {
    "name": "ipython",
    "version": 3
   },
   "file_extension": ".py",
   "mimetype": "text/x-python",
   "name": "python",
   "nbconvert_exporter": "python",
   "pygments_lexer": "ipython3",
   "version": "3.8.8"
  }
 },
 "nbformat": 4,
 "nbformat_minor": 5
}
