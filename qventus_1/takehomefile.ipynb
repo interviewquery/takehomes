  {
   "cell_type": "code",
   "execution_count": null,
   "id": "b1cf3a13",
   "metadata": {},
   "outputs": [],
   "source": [
    "!git clone --branch qventus_1 https://github.com/interviewquery/takehomes.git\n",
    "%cd takehomes/qventus_1\n",
    "!ls"
   ]
  },
