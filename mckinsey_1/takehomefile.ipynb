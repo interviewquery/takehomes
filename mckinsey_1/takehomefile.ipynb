{
 "cells": [
  {
   "cell_type": "markdown",
   "id": "9e21a044",
   "metadata": {},
   "source": [
    "![logo.png](logo.png)\n",
    "\n",
    "\n",
    "# Overview\n",
    "\n",
    "This dataset (`data.csv`) comes from a Washington DC bike-sharing program. Each row in the bikeshare table represents a single ride within a 3-month period in 2012. Here are the columns available to you in this table:\n",
    "\n",
    "- duration seconds: duration of the ride (in seconds)\n",
    "- start time, end time: datetimes representing the beginning and end of the ride\n",
    "- start station, end station: name of the start and end stations for the ride\n",
    "- bike number: unique identifier for the bike used for the ride\n",
    "- rider-type: indicates whether user was a \"registered member\" (Annual Member or 30-Day Member) or a \"casual rider\" (Single Trip or 24-Hour/3-Day/5-Day Pass)\n",
    "\n",
    "## Popular Routes\n",
    "\n",
    "A. What was the most popular bike route (start/end station combination) in DC's bike-share program over the rest 3 months of 2012? How many times was the route taken?\n",
    "\n",
    "B. Which route with at least 100 trips taken was the longest route in terms of average trip time? Exclude all trips longer than 2 hours and include both the route and the average trip time in your answer.\n",
    "\n",
    "C. What route was the most popular of those with an average trip time of at least 8 minutes, excluding trips longer than 2 hours?\n",
    "\n",
    "## Sources and Sinks\n",
    "\n",
    "An issue common to bike sharing program stations is an imbalance in the frequency with which bikes are picked up versus dropped o. Stations where bikes are picked up more often act as sources for the system, and will naturally tend to be quite empty. Oppositely, stations where bikes are dropped o act as sinks, and may regularly be completely full of bikes.\n",
    "\n",
    "A. What two stations respectively act as the largest source and sink for the DC bike share program? Briefly discuss 2-3 factors that may underlie whether a station acts as a source or sink?\n",
    "\n",
    "B. Station imbalances in bike share programs are often resolved by redistributing bikes (nightly, or on an ongoing basis throughout the day). Can you tell whether these \"redistribution rides\" are a part of this data set? Briefly describe what analysis (if any) could be done with this dataset to learn about the redistribution of bikes in this program.\n",
    "\n",
    "C. Provide analysis for the station labeled '10th St & Constitution Ave NW', showing how the number of bikes at the station changes throughout the day.\n",
    "\n",
    "## Discussion\n",
    "\n",
    "Imagine you are the product manager for this bike share program in Washington D.C within the rest few months of the program's inception. Identify the three metrics that would be most important for you to track in order to understand the health of the bike sharing program and explain why. You can assume access not only to the data in the ride history table, but to other data that might reasonably be available to you as well."
   ]
  },
  {
   "cell_type": "code",
   "execution_count": null,
   "id": "18ab80d7",
   "metadata": {},
   "outputs": [],
   "source": [
    "!git clone --branch mckinsey_1 https://github.com/interviewquery/takehomes.git\n",
    "%cd takehomes/mckinsey_1\n",
    "!if [[ $(ls *.zip) ]]; then unzip *.zip; fi\n",
    "!ls"
   ]
  },
  {
   "cell_type": "code",
   "execution_count": null,
   "id": "af82640e",
   "metadata": {},
   "outputs": [],
   "source": []
  }
 ],
 "metadata": {
  "kernelspec": {
   "display_name": "Python 3",
   "language": "python",
   "name": "python3"
  },
  "language_info": {
   "codemirror_mode": {
    "name": "ipython",
    "version": 3
   },
   "file_extension": ".py",
   "mimetype": "text/x-python",
   "name": "python",
   "nbconvert_exporter": "python",
   "pygments_lexer": "ipython3",
   "version": "3.8.8"
  }
 },
 "nbformat": 4,
 "nbformat_minor": 5
}
