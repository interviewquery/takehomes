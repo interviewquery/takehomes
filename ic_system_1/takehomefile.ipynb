{
 "cells": [
  {
   "cell_type": "markdown",
   "id": "147abf73",
   "metadata": {},
   "source": [
    "![logo.png](logo.png)\n",
    "\n",
    "\n",
    "# Overview\n",
    "\n",
    "Review the table structure below and develop queries for two questions:\n",
    "\n",
    "\n",
    "|**Table:`members`**|  |  |\n",
    "| :-: | :-: | :-: |\n",
    "| **Column Name** | **Data Type** | **Description** |\n",
    "| `user_id` | `varchar` | Livongo unique member identifier|\n",
    "| `client` | `varchar` | Livongo client population (ex: Target, SAP) |\n",
    "| `first_name` | `varchar` | Member first name |\n",
    "| `last_name` | `varchar` | Member last name |\n",
    "| `birth_date` | `datestamp` | Date of birth |\n",
    "| `gender` | `varchar` | Member gender; values (M,F) |\n",
    "| `enrollment_date` | `timestamp` | Timestamp of when the member enrolled |\n",
    "| `current_status` | `varchar` | Values include ‘enrolled’ and ‘deactivated’ |\n",
    "\n",
    "\n",
    "\n",
    "\n",
    "|**Table: `blood_glucose_checks`**| | |\n",
    "| :-: | :-: | :-: |\n",
    "|**Column Name**|**Data Type**|**Description**|\n",
    "|`user_id`|`varchar`|Livongo unique member identifier|\n",
    "|`bg_timestamp`|`timestamp`|Timestamp of blood glucose reading|\n",
    "|`bg_value`|`varchar`|Value of the blood glucose reaching in mg/dL|\n",
    "\n",
    "\n",
    "\n",
    "\n",
    "|**Table: `net_promoter_score`**| | |\n",
    "|:-: | :-: | :-: |\n",
    "|**Column Name**|**Data Type**|**Description**|\n",
    "|`user_id`|`varchar`|Livongo unique member identifier|\n",
    "|`response_date`|`timestamp`|Timestamp of member net promoter score (nps) response|\n",
    "|`value`|`numeric`|Values 0 – 10|\n",
    "\n",
    "\n",
    "\n",
    "\n",
    "\n",
    "\n",
    "\n",
    "2. Develop two queries using different approaches to aggregate net promoter score by client by month; output should be a number with one decimal. Constrain to currently enrolled members (as of query run date) and members who have greater than one year enrollment or tenure in the program. NPS will need to be derived from `net_promoter_score.value` using the methodology in the graphic below.\n",
    "\n",
    "\n",
    "![](https://cdn.mathpix.com/cropped/2022_09_15_94953341aabe96264d00g-2.jpg?height=531&width=1417&top_left_y=805&top_left_x=381)\n",
    "\n",
    "\n",
    "\n",
    "\n",
    "\n",
    "\n",
    "Final output should include the following columns:\n",
    "a. year-month of survey response\n",
    "b. client\n",
    "c. monthly nps (derived from `net_promoter_score.value`)\n",
    "d. cumulative nps (derived from `net_promoter_score.value`)"
   ]
  },
  {
   "cell_type": "markdown",
   "id": "1237f60d",
   "metadata": {},
   "source": [
    "# "
   ]
  },
  {
   "cell_type": "code",
   "execution_count": null,
   "id": "dfe5c529",
   "metadata": {},
   "outputs": [],
   "source": [
    "!git clone --branch {takehome name} https://github.com/interviewquery/takehomes.git\n",
    "%cd takehomes/{takehome name}\n",
    "!if [[ $(ls *.zip) ]]; then unzip *.zip; fi\n",
    "!ls"
   ]
  },
  {
   "cell_type": "code",
   "execution_count": null,
   "id": "2da6401e",
   "metadata": {},
   "outputs": [],
   "source": [
    "# Write your code here"
   ]
  }
 ],
 "metadata": {
  "kernelspec": {
   "display_name": "Python 3",
   "language": "python",
   "name": "python3"
  },
  "language_info": {
   "codemirror_mode": {
    "name": "ipython",
    "version": 3
   },
   "file_extension": ".py",
   "mimetype": "text/x-python",
   "name": "python",
   "nbconvert_exporter": "python",
   "pygments_lexer": "ipython3",
   "version": "3.8.8"
  }
 },
 "nbformat": 4,
 "nbformat_minor": 5
}
