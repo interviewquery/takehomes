{
 "cells": [
  {
   "cell_type": "markdown",
   "id": "252a01e8",
   "metadata": {},
   "source": [
    "![LOGO](LOGO.PNG) \n",
    "# City Year Case Study\n",
    "\n",
    "\n",
    "Please present a recommendation based on your work on the following case study. We will be looking for your\n",
    "\n",
    "- Analytical skills when not all data is available and certain\n",
    "\n",
    "- Ability to distill the analysis to an accessible recommendation\n",
    "\n",
    "All numbers in the case study are fabricated.\n",
    "\n",
    "City Year receives significant private funding through various channels including private individuals, foundations, and corporations. Historically, City Year has prioritized corporate partnerships and foundations whom often provide multi-year grants in significant amounts over individuals, who often give in one-off donations of small quantities. In the most recent year, however, with the introduction of the \"Red Jacket Society\" some sites in the City Year network have doubled down on a strategy which more heavily emphasizes private individuals. The tradeoff is that this investment requires having at least one development staff member exclusively work on the Red Jacket Society.\n",
    "\n",
    "After collecting some data, headquarters would like to make a recommendation to all the sites (city offices) on the optimal strategy. Your job is to make that recommendation. Using survey data representative of the whole network, the following ranges have been determined. All ranges represent a 90\\% confidence interval for data which should be assumed to be normally distributed unless otherwise indicated.\n",
    "\n",
    "Each development manager who focuses on corporate development expects to be able to engage between 15 and 25 new corporations a year, and of those engagements they expect 25\\% of those to succeed. Corporate grants were found to be lognormally distributed and were between $\\$50,000$ and $\\$1,000,000$ per year. Grants typically extend past the first year of the grant (and when they do they return the same value each year.) The number of years that it will extend is distributed with a Poisson distribution with an expected value of 2 years.\n",
    "\n",
    "On the other hand, development managers who focus on the Red Jacket Society expect to engage between 200 and 500 individuals who could contribute the minimum of $\\$5,000$ to enter the Red Jacket Society, with typical success rate of 50\\%. RJS members donate between $\\$5,000$ and $\\$50,000$, also distributed lognormally, the first year, but on average only 50\\% of individuals donate the same amount the following year and on average only 10\\% (of the first year number) donate the same amount in the third year.\n",
    "\n",
    "Using this information, what distribution of corporate to RJS development managers should sites use? Is there any additional information that you would need to make this recommendation? Present your recommendation in a format appropriate for a non-technical executive. Please send any scratch work and analysis performed as well. "
   ]
  },
  {
   "cell_type": "code",
   "execution_count": null,
   "id": "a9f8c5b2",
   "metadata": {},
   "outputs": [],
   "source": [
    "!git clone --branch city_year_1 https://github.com/interviewquery/takehomes.git\n",
    "%cd takehomes/city_year_1\n",
    "!ls"
   ]
  }
 ],
 "metadata": {
  "kernelspec": {
   "display_name": "Python 3",
   "language": "python",
   "name": "python3"
  },
  "language_info": {
   "codemirror_mode": {
    "name": "ipython",
    "version": 3
   },
   "file_extension": ".py",
   "mimetype": "text/x-python",
   "name": "python",
   "nbconvert_exporter": "python",
   "pygments_lexer": "ipython3",
   "version": "3.8.8"
  }
 },
 "nbformat": 4,
 "nbformat_minor": 5
}
